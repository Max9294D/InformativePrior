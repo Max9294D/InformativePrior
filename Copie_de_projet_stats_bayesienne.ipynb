{
  "nbformat": 4,
  "nbformat_minor": 0,
  "metadata": {
    "colab": {
      "provenance": []
    },
    "kernelspec": {
      "name": "python3",
      "display_name": "Python 3"
    },
    "language_info": {
      "name": "python"
    }
  },
  "cells": [
    {
      "cell_type": "markdown",
      "source": [
        "# Feature selection\n"
      ],
      "metadata": {
        "id": "18Xz1ZFsCR9T"
      }
    },
    {
      "cell_type": "code",
      "source": [
        "!git clone https://github.com/tycui/informative_prior.git"
      ],
      "metadata": {
        "colab": {
          "base_uri": "https://localhost:8080/"
        },
        "id": "wCz76BLtGEfB",
        "outputId": "60a373bf-4807-433d-9abc-5872e26427da"
      },
      "execution_count": 1,
      "outputs": [
        {
          "output_type": "stream",
          "name": "stdout",
          "text": [
            "Cloning into 'informative_prior'...\n",
            "remote: Enumerating objects: 35, done.\u001b[K\n",
            "remote: Counting objects: 100% (35/35), done.\u001b[K\n",
            "remote: Compressing objects: 100% (34/34), done.\u001b[K\n",
            "remote: Total 35 (delta 6), reused 0 (delta 0), pack-reused 0\u001b[K\n",
            "Unpacking objects: 100% (35/35), 174.93 KiB | 3.64 MiB/s, done.\n"
          ]
        }
      ]
    },
    {
      "cell_type": "code",
      "source": [
        "import sys\n",
        "sys.path.insert(0,'/content/informative_prior')"
      ],
      "metadata": {
        "id": "X4isfAN8Gah1"
      },
      "execution_count": 2,
      "outputs": []
    },
    {
      "cell_type": "code",
      "source": [
        "from models.training import *\n",
        "from models.models_lr import *\n",
        "import matplotlib.pyplot as plt"
      ],
      "metadata": {
        "id": "KYXxV9R4CZXC"
      },
      "execution_count": 3,
      "outputs": []
    },
    {
      "cell_type": "code",
      "source": [
        "def data_generation(A, D, n, sigma, random_seed = 129):\n",
        "    np.random.seed(random_seed)\n",
        "    epsilon = np.random.randn(n) * sigma\n",
        "    X = np.eye(n)\n",
        "    beta = np.array([A] * D + [0] * (n - D))\n",
        "    y = beta + epsilon\n",
        "    return X, y, beta"
      ],
      "metadata": {
        "id": "9jmTnzjTCn1N"
      },
      "execution_count": 4,
      "outputs": []
    },
    {
      "cell_type": "code",
      "source": [
        "D = 20\n",
        "n = 400\n",
        "sigma_noise = 2.0\n",
        "learning_rate = 1*1e-2\n",
        "batch_size = n\n",
        "num_epoch = 8000\n",
        "\n",
        "X, y_10, beta_10 = data_generation(10, D, n, sigma_noise)\n",
        "x_train = torch.tensor(X, dtype = torch.float);\n",
        "y_train = torch.tensor(y_10, dtype = torch.float).view(-1,1)"
      ],
      "metadata": {
        "id": "i3TVEziCCo0k"
      },
      "execution_count": null,
      "outputs": []
    },
    {
      "cell_type": "markdown",
      "source": [
        "### Feature selection with BetaSS prior"
      ],
      "metadata": {
        "id": "G3tAH3zICuEi"
      }
    },
    {
      "cell_type": "code",
      "source": [
        "alpha_b = 2.0; beta_b = 38.0 # p~Beta(2, 38)\n",
        "alpha_g = .001; beta_g = .001 # \\lambda~Inv-Gamma(0.001, 0.001)\n",
        "sigma = 1. # global scale is 1\n",
        "lr_ssbg_10 = LR_BetaSS(n, sigma, alpha_b, beta_b, alpha_g, beta_g)\n",
        "training_lr(lr_ssbg_10, x_train, y_train, learning_rate, batch_size, num_epoch)\n",
        "beta_posterior_10 = lr_ssbg_10.Layer1.mu_beta.detach().numpy()\n",
        "lambda_posterior_10 = torch.sigmoid(lr_ssbg_10.Layer1.p_logit).detach().numpy()\n",
        "prediction_ssbg_10 = beta_posterior_10.reshape(-1) * lambda_posterior_10 * torch.exp(lr_ssbg_10.Layer1.mu_logsigma).detach().numpy()"
      ],
      "metadata": {
        "colab": {
          "base_uri": "https://localhost:8080/"
        },
        "id": "Fnl63e1JCo8x",
        "outputId": "62c6d999-6938-41e3-8ac4-da676bb64c86"
      },
      "execution_count": null,
      "outputs": [
        {
          "output_type": "stream",
          "name": "stdout",
          "text": [
            "EPOACH 4000: TRAIN LOSS: 2.2434; KL REG: 2386.2693.\n",
            "EPOACH 8000: TRAIN LOSS: 2.3191; KL REG: 2318.1616.\n"
          ]
        }
      ]
    },
    {
      "cell_type": "markdown",
      "source": [
        "### Feature selection with DeltaSS prior"
      ],
      "metadata": {
        "id": "RVySeQYeC1RP"
      }
    },
    {
      "cell_type": "code",
      "source": [
        "p = 0.05 # p=0.05\n",
        "alpha_g = .001; beta_g = .001 # \\lambda~Inv-Gamma(0.001, 0.001)\n",
        "sigma = 1. # global scale is 1\n",
        "lr_ssg_10 = LR_DeltaSS(n, sigma, p, alpha_g, beta_g)\n",
        "training_lr(lr_ssg_10, x_train, y_train, learning_rate, batch_size, num_epoch)\n",
        "beta_posterior_10 = lr_ssg_10.Layer1.mu_beta.detach().numpy()\n",
        "lambda_posterior_10 = torch.sigmoid(lr_ssg_10.Layer1.p_logit).detach().numpy()\n",
        "prediction_ssg_10 = beta_posterior_10.reshape(-1) * lambda_posterior_10 * torch.exp(lr_ssg_10.Layer1.mu_logsigma).detach().numpy()"
      ],
      "metadata": {
        "colab": {
          "base_uri": "https://localhost:8080/"
        },
        "id": "FEYng6HPCpE7",
        "outputId": "e310e786-ad11-4574-c4be-d791d844c961"
      },
      "execution_count": null,
      "outputs": [
        {
          "output_type": "stream",
          "name": "stdout",
          "text": [
            "EPOACH 4000: TRAIN LOSS: 2.3273; KL REG: 2382.1328.\n",
            "EPOACH 8000: TRAIN LOSS: 2.3979; KL REG: 2315.3833.\n"
          ]
        }
      ]
    },
    {
      "cell_type": "markdown",
      "source": [
        "Feature selection with HS prior"
      ],
      "metadata": {
        "id": "-vjrE_swC69H"
      }
    },
    {
      "cell_type": "code",
      "source": [
        "b_0 = 1.\n",
        "b_g = D / (n - D) * sigma_noise; b_g = b_g ** 2 # The effective number of features is set to D\n",
        "lr_hs_10 = LR_HS(n, b_g, b_0)\n",
        "training_hs_lr(lr_hs_10, x_train, y_train, learning_rate, batch_size, num_epoch)\n",
        "lr_hs_10.eval(); prediction_hs_10, _ = lr_hs_10(x_train)\n",
        "prediction_hs_10 = prediction_hs_10.detach().numpy().reshape(-1)"
      ],
      "metadata": {
        "colab": {
          "base_uri": "https://localhost:8080/"
        },
        "id": "O2OLuj3AC8Jg",
        "outputId": "c32e29e8-dae3-4760-cd68-6489aa6bd067"
      },
      "execution_count": null,
      "outputs": [
        {
          "output_type": "stream",
          "name": "stdout",
          "text": [
            "EPOACH 4000: TRAIN LOSS: 1.0873; KL REG: 647.7644.\n",
            "EPOACH 8000: TRAIN LOSS: 1.1359; KL REG: 637.3081.\n"
          ]
        }
      ]
    },
    {
      "cell_type": "markdown",
      "source": [
        "Feature selection with InfoSS prior"
      ],
      "metadata": {
        "id": "Tc9NM-rYDDYf"
      }
    },
    {
      "cell_type": "code",
      "source": [
        "k_min = 0.; k_max = 30.; tau = 5. # m~U[0,30]\n",
        "alpha_g = 0.001; beta_g = 0.001 # \\lambda~Inv-Gamma(0.001, 0.001)\n",
        "sigma = 1. # global scale is 1\n",
        "lr_infossg_10 = LR_InfoSS(n, sigma,  alpha_g, beta_g,  k_min, k_max, tau)\n",
        "training_lr(lr_infossg_10, x_train, y_train, learning_rate, batch_size, num_epoch)\n",
        "beta_posterior_10 = lr_infossg_10.Layer1.mu_beta.detach().numpy()\n",
        "lambda_posterior_10 = torch.sigmoid(lr_infossg_10.Layer1.p_logit).detach().numpy()\n",
        "prediction_infossg_10 = beta_posterior_10.reshape(-1) * lambda_posterior_10 * torch.exp(lr_infossg_10.Layer1.mu_logsigma).detach().numpy()"
      ],
      "metadata": {
        "colab": {
          "base_uri": "https://localhost:8080/"
        },
        "id": "yemdDuWYDEHw",
        "outputId": "9e498d51-1450-4a18-addd-0da16f0641bc"
      },
      "execution_count": null,
      "outputs": [
        {
          "output_type": "stream",
          "name": "stdout",
          "text": [
            "EPOACH 4000: TRAIN LOSS: 3.0428; KL REG: 2263.6541.\n",
            "EPOACH 8000: TRAIN LOSS: 3.0593; KL REG: 2162.7253.\n"
          ]
        }
      ]
    },
    {
      "cell_type": "code",
      "source": [
        "x_axis = np.linspace(1, n, n);  font_size_title = 12\n",
        "\n",
        "fig_l, axes_l = plt.subplots(nrows = 2, ncols = 2, figsize = (10, 5))\n",
        "ax_00, ax_01, ax_10, ax_11 = axes_l.flatten()\n",
        "\n",
        "ax_00.plot(x_axis, y_10, 'y.', markersize=5)\n",
        "ax_00.plot(x_axis, beta_10, 'r.', markersize=10)\n",
        "ax_00.plot(x_axis, prediction_ssbg_10, 'b.', markersize=5)\n",
        "ax_00.legend(['Data', 'Ground-truth', 'Prediction'], fontsize = 8.5)\n",
        "ax_00.set_xlabel('Entry i', fontsize = font_size_title)\n",
        "ax_00.set_ylabel(r'A = 10, $\\sigma_\\epsilon = 2.0$', fontsize = font_size_title)\n",
        "ax_00.set_title(r'Beta spike-and-slab prior with $p \\sim $Beta$(2, 38)$', fontsize = font_size_title) \n",
        "\n",
        "ax_01.plot(x_axis, y_10, 'y.', markersize=5)\n",
        "ax_01.plot(x_axis, beta_10, 'r.', markersize=10)\n",
        "ax_01.plot(x_axis, prediction_ssg_10, 'b.', markersize=5)\n",
        "ax_01.legend(['Data', 'Ground-truth', 'Prediction'], fontsize = 8.5)\n",
        "ax_01.set_xlabel('Entry i', fontsize = font_size_title)\n",
        "ax_01.set_ylabel(r'A = 10, $\\sigma_\\epsilon = 2.0$', fontsize = font_size_title)\n",
        "ax_01.set_title(r'Delta spike-and-slab prior with $p = 0.05$', fontsize = font_size_title) \n",
        "\n",
        "ax_10.plot(x_axis, y_10, 'y.', markersize=5)\n",
        "ax_10.plot(x_axis, beta_10, 'r.', markersize=10)\n",
        "ax_10.plot(x_axis, prediction_hs_10, 'b.', markersize=5)\n",
        "ax_10.legend(['Data', 'Ground-truth', 'Prediction'], fontsize = 8.5)\n",
        "ax_10.set_xlabel('Entry i', fontsize = font_size_title)\n",
        "ax_10.set_ylabel(r'A = 10, $\\sigma_\\epsilon = 2.0$', fontsize = font_size_title)\n",
        "ax_10.set_title(r'Horseshoe prior with  $\\tau \\sim C^+(0, \\tau_0^2)$', fontsize = font_size_title) \n",
        "\n",
        "ax_11.plot(x_axis, y_10, 'y.', markersize=5)\n",
        "ax_11.plot(x_axis, beta_10, 'r.', markersize=10)\n",
        "ax_11.plot(x_axis, prediction_infossg_10, 'b.', markersize=5)\n",
        "ax_11.legend(['Data', 'Ground-truth', 'Prediction'], fontsize = 8.5)\n",
        "ax_11.set_xlabel('Entry i', fontsize = font_size_title)\n",
        "ax_11.set_ylabel(r'A = 10, $\\sigma_\\epsilon = 2.0$', fontsize = font_size_title)\n",
        "ax_11.set_title(r'Informative spike-and-slab with $m \\in [0, 30]$', fontsize = font_size_title)  \n",
        "\n",
        "fig_l.tight_layout()"
      ],
      "metadata": {
        "colab": {
          "base_uri": "https://localhost:8080/",
          "height": 507
        },
        "id": "_34D-1i5DKZw",
        "outputId": "8ac21228-9eee-45be-8d19-7bc175565428"
      },
      "execution_count": null,
      "outputs": [
        {
          "output_type": "display_data",
          "data": {
            "text/plain": [
              "<Figure size 1000x500 with 4 Axes>"
            ],
            "image/png": "[encoded data removed]"
          },
          "metadata": {}
        }
      ]
    },
    {
      "cell_type": "markdown",
      "source": [
        "# Learning PVE"
      ],
      "metadata": {
        "id": "hkPRaPz7DMK-"
      }
    },
    {
      "cell_type": "code",
      "source": [
        "from models.stein import *\n",
        "from models.pve import *\n",
        "import torch.optim as optim\n",
        "from data.data_generation import *\n",
        "import matplotlib.pyplot as plt\n",
        "from scipy.stats import gaussian_kde"
      ],
      "metadata": {
        "id": "zLaOjPY_DUKA"
      },
      "execution_count": 4,
      "outputs": []
    },
    {
      "cell_type": "code",
      "source": [
        "def plot_empirical(samples, prior):\n",
        "    # dataset\n",
        "    X = samples.detach().numpy().reshape(-1)\n",
        "    X_plot = np.linspace(min(X), max(X), 1000)\n",
        "    num_bins = 35\n",
        "    fig, ax = plt.subplots()\n",
        "    # the histogram of the data\n",
        "    n, bins, patches = ax.hist(X, num_bins, density=1)\n",
        "\n",
        "    ax.set_xlabel('PVE')\n",
        "    ax.set_ylabel('density')\n",
        "\n",
        "    kde = gaussian_kde(X)\n",
        "    kde_pdf = kde.evaluate(X_plot)\n",
        "\n",
        "    prior_pdf = prior.pdf(torch.tensor(X_plot)).numpy()\n",
        "    ax.plot(X_plot, kde_pdf)\n",
        "    ax.plot(X_plot, prior_pdf, 'r-')\n",
        "    ax.set_title('Empirical distribution of PVE')\n",
        "\n",
        "    ax.legend(('KDE of empirical PVE', 'Prior PVE', 'Empirical PVE'))\n",
        "\n",
        "    # Tweak spacing to prevent clipping of ylabel\n",
        "    fig.tight_layout()\n",
        "    plt.show()"
      ],
      "metadata": {
        "id": "MhboqDtADXgE"
      },
      "execution_count": null,
      "outputs": []
    },
    {
      "cell_type": "markdown",
      "source": [
        "# 1 Load the data"
      ],
      "metadata": {
        "id": "tAXiGuwpDZ73"
      }
    },
    {
      "cell_type": "code",
      "source": [
        "path_data = '/content/informative_prior/data/'\n",
        "num_random = 0; noise_level = 0.\n",
        "x, y, x_test, y_test, num_useful, num_feature = data_generating_energy(path_data, num_random, noise_level)"
      ],
      "metadata": {
        "id": "pfVf-QuLDbkE"
      },
      "execution_count": null,
      "outputs": []
    },
    {
      "cell_type": "markdown",
      "source": [
        "# 2 Learning the scale parameter of Inv-Gamma"
      ],
      "metadata": {
        "id": "9hdBqQ-UDgIL"
      }
    },
    {
      "cell_type": "code",
      "source": [
        "alpha_prior = 5.0; beta_prior = 1.0; prior = BetaPrior(alpha_prior, beta_prior)  # prior pve: Beta(5,1)\n",
        "eta = 0.1; estimator = SteinGradientEstimator(eta)  # define the stein gradient estimator\n",
        "learning_rate = 2 * 1e-3;  M = 300 # define learning rate and batch size (M)\n",
        "num_hidden_nodes = [50, 30] # define the NN architecture\n",
        "sampler = PVESampler_ARD(x, M, num_hidden_nodes)  # define the sampler of implicity distribution"
      ],
      "metadata": {
        "id": "e9tnb9LPDeCE"
      },
      "execution_count": null,
      "outputs": []
    },
    {
      "cell_type": "markdown",
      "source": [
        "# 2.1 Empirical model PVE before stein gradient optimization"
      ],
      "metadata": {
        "id": "KYCmASFlDlLM"
      }
    },
    {
      "cell_type": "code",
      "source": [
        "samples = sampler()\n",
        "plot_empirical(samples, prior)"
      ],
      "metadata": {
        "colab": {
          "base_uri": "https://localhost:8080/",
          "height": 487
        },
        "id": "97XWkqrzDnWC",
        "outputId": "1a82b65f-642e-4187-eb35-4e996b0fcb24"
      },
      "execution_count": null,
      "outputs": [
        {
          "output_type": "display_data",
          "data": {
            "text/plain": [
              "<Figure size 640x480 with 1 Axes>"
            ],
            "image/png": "[encoded data removed]"
          },
          "metadata": {}
        }
      ]
    },
    {
      "cell_type": "markdown",
      "source": [
        "# 2.2 Stein gradient optimization"
      ],
      "metadata": {
        "id": "-3Y5FyoPDpfe"
      }
    },
    {
      "cell_type": "code",
      "source": [
        "parameters = sampler.parameters()\n",
        "optimizer = optim.SGD(parameters, lr=learning_rate)\n",
        "num_epoch = 200;\n",
        "minimize_kldivergence(sampler, prior, optimizer, estimator, num_epoch)"
      ],
      "metadata": {
        "colab": {
          "base_uri": "https://localhost:8080/"
        },
        "id": "DDjUflCMDvfg",
        "outputId": "9bb5e65c-ab6f-4cac-8bf4-7537dccf03d3"
      },
      "execution_count": null,
      "outputs": [
        {
          "output_type": "stream",
          "name": "stdout",
          "text": [
            "EPOCH 0: KL: 4.2476.\n",
            "EPOCH 10: KL: 1.2279.\n",
            "EPOCH 20: KL: -0.2667.\n",
            "EPOCH 30: KL: -0.9793.\n",
            "EPOCH 40: KL: -1.1820.\n",
            "EPOCH 50: KL: -1.2879.\n",
            "EPOCH 60: KL: -1.4338.\n",
            "EPOCH 70: KL: -1.5300.\n",
            "EPOCH 80: KL: -1.4484.\n",
            "EPOCH 90: KL: -1.5351.\n",
            "EPOCH 100: KL: -1.6109.\n",
            "EPOCH 110: KL: -1.4749.\n",
            "EPOCH 120: KL: -1.6433.\n",
            "EPOCH 130: KL: -1.6829.\n",
            "EPOCH 140: KL: -1.5658.\n",
            "EPOCH 150: KL: -1.5738.\n",
            "EPOCH 160: KL: -1.7362.\n",
            "EPOCH 170: KL: -1.5582.\n",
            "EPOCH 180: KL: -1.5660.\n",
            "EPOCH 190: KL: -1.5870.\n"
          ]
        },
        {
          "output_type": "execute_result",
          "data": {
            "text/plain": [
              "array([0.38418677], dtype=float32)"
            ]
          },
          "metadata": {},
          "execution_count": 69
        }
      ]
    },
    {
      "cell_type": "markdown",
      "source": [
        "# 2.3 Empirical model PVE after stein gradient optimization"
      ],
      "metadata": {
        "id": "VPfftjkpDyNh"
      }
    },
    {
      "cell_type": "code",
      "source": [
        "samples = sampler()\n",
        "plot_empirical(samples, prior)"
      ],
      "metadata": {
        "colab": {
          "base_uri": "https://localhost:8080/",
          "height": 487
        },
        "id": "4d_9USVJD1LG",
        "outputId": "a64f24b1-8b80-497a-ff9a-832126a9aeca"
      },
      "execution_count": null,
      "outputs": [
        {
          "output_type": "display_data",
          "data": {
            "text/plain": [
              "<Figure size 640x480 with 1 Axes>"
            ],
            "image/png": "[encoded data removed]"
          },
          "metadata": {}
        }
      ]
    },
    {
      "cell_type": "markdown",
      "source": [
        "# 3 Learning the scale parameter of Gaussian"
      ],
      "metadata": {
        "id": "MhjB1PKkD6DA"
      }
    },
    {
      "cell_type": "code",
      "source": [
        "alpha_prior = 5.0; beta_prior = 1.0; prior = BetaPrior(alpha_prior, beta_prior)  # prior pve: Beta(5,1)\n",
        "eta = 0.1; estimator = SteinGradientEstimator(eta)  # define the stein gradient estimator\n",
        "learning_rate = 2 * 1e-3;  M = 300 # define learning rate and batch size (M)\n",
        "num_hidden_nodes = [50, 30] # define the NN architecture\n",
        "sampler = PVESampler_Gaussian(x, M, num_hidden_nodes)  # define the sampler of implicity distribution"
      ],
      "metadata": {
        "id": "PKDaxzueD9qt"
      },
      "execution_count": null,
      "outputs": []
    },
    {
      "cell_type": "markdown",
      "source": [
        "# 3.1 Empirical model PVE before stein gradient optimization"
      ],
      "metadata": {
        "id": "LTi1OctOEAI8"
      }
    },
    {
      "cell_type": "code",
      "source": [
        "samples = sampler()\n",
        "plot_empirical(samples, prior)"
      ],
      "metadata": {
        "colab": {
          "base_uri": "https://localhost:8080/",
          "height": 487
        },
        "id": "fyzKjbQSECt7",
        "outputId": "d33cdc6c-32da-4cf4-9968-557479b44b34"
      },
      "execution_count": null,
      "outputs": [
        {
          "output_type": "display_data",
          "data": {
            "text/plain": [
              "<Figure size 640x480 with 1 Axes>"
            ],
            "image/png": "[encoded data removed]"
          },
          "metadata": {}
        }
      ]
    },
    {
      "cell_type": "markdown",
      "source": [
        "# 3.2 Stein gradient optimization"
      ],
      "metadata": {
        "id": "T4a9c-ocEF3r"
      }
    },
    {
      "cell_type": "code",
      "source": [
        "parameters = sampler.parameters()\n",
        "optimizer = optim.SGD(parameters, lr=learning_rate)\n",
        "num_epoch = 200;\n",
        "minimize_kldivergence(sampler, prior, optimizer, estimator, num_epoch)"
      ],
      "metadata": {
        "colab": {
          "base_uri": "https://localhost:8080/"
        },
        "id": "isWzDVsvEJ9E",
        "outputId": "8324c902-0a88-4b96-f47f-331b2244d1db"
      },
      "execution_count": null,
      "outputs": [
        {
          "output_type": "stream",
          "name": "stdout",
          "text": [
            "EPOCH 0: KL: -0.8394.\n",
            "EPOCH 10: KL: -1.1577.\n",
            "EPOCH 20: KL: -1.3205.\n",
            "EPOCH 30: KL: -1.3656.\n",
            "EPOCH 40: KL: -1.4812.\n",
            "EPOCH 50: KL: -1.5380.\n",
            "EPOCH 60: KL: -1.5646.\n",
            "EPOCH 70: KL: -1.6425.\n",
            "EPOCH 80: KL: -1.6800.\n",
            "EPOCH 90: KL: -1.7239.\n",
            "EPOCH 100: KL: -1.7328.\n",
            "EPOCH 110: KL: -1.7266.\n",
            "EPOCH 120: KL: -1.7673.\n",
            "EPOCH 130: KL: -1.7512.\n",
            "EPOCH 140: KL: -1.7824.\n",
            "EPOCH 150: KL: -1.8372.\n",
            "EPOCH 160: KL: -1.8282.\n",
            "EPOCH 170: KL: -1.7566.\n",
            "EPOCH 180: KL: -1.7402.\n",
            "EPOCH 190: KL: -1.8562.\n"
          ]
        },
        {
          "output_type": "execute_result",
          "data": {
            "text/plain": [
              "array([0.47411957], dtype=float32)"
            ]
          },
          "metadata": {},
          "execution_count": 72
        }
      ]
    },
    {
      "cell_type": "markdown",
      "source": [
        "# 3.3 Empirical model PVE after stein gradient optimization"
      ],
      "metadata": {
        "id": "FumnERnMEMlM"
      }
    },
    {
      "cell_type": "code",
      "source": [
        "samples = sampler()\n",
        "plot_empirical(samples, prior)"
      ],
      "metadata": {
        "colab": {
          "base_uri": "https://localhost:8080/",
          "height": 487
        },
        "id": "2H4bicRsEQAi",
        "outputId": "985b3e38-e761-4b68-be58-ecdc04d8420b"
      },
      "execution_count": null,
      "outputs": [
        {
          "output_type": "display_data",
          "data": {
            "text/plain": [
              "<Figure size 640x480 with 1 Axes>"
            ],
            "image/png": "[encoded data removed]"
          },
          "metadata": {}
        }
      ]
    },
    {
      "cell_type": "markdown",
      "source": [
        "# BNN"
      ],
      "metadata": {
        "id": "OrYEB_33ESv9"
      }
    },
    {
      "cell_type": "code",
      "source": [
        "import os\n",
        "from models.training import *\n",
        "from data.data_generation import *\n",
        "from models.models_nn import *\n",
        "from models.stein import *\n",
        "from models.pve import *\n",
        "import torch.optim as optim\n",
        "from data.data_generation import *\n",
        "import matplotlib.pyplot as plt\n",
        "from scipy.stats import gaussian_kde"
      ],
      "metadata": {
        "id": "tU_o2FCnEWjx"
      },
      "execution_count": 5,
      "outputs": []
    },
    {
      "cell_type": "code",
      "source": [
        "def plot_empirical(samples, prior):\n",
        "    # dataset\n",
        "    X = samples.detach().numpy().reshape(-1)\n",
        "    X_plot = np.linspace(min(X), max(X), 1000)\n",
        "    num_bins = 35\n",
        "    fig, ax = plt.subplots()\n",
        "    # the histogram of the data\n",
        "    n, bins, patches = ax.hist(X, num_bins, density=1)\n",
        "\n",
        "    ax.set_xlabel('PVE')\n",
        "    ax.set_ylabel('density')\n",
        "\n",
        "    kde = gaussian_kde(X)\n",
        "    kde_pdf = kde.evaluate(X_plot)\n",
        "\n",
        "    prior_pdf = prior.pdf(torch.tensor(X_plot)).numpy()\n",
        "    ax.plot(X_plot, kde_pdf)\n",
        "    ax.plot(X_plot, prior_pdf, 'r-')\n",
        "    ax.set_title('Empirical distribution of PVE')\n",
        "\n",
        "    ax.legend(('KDE of empirical PVE', 'Prior PVE', 'Empirical PVE'))\n",
        "\n",
        "    # Tweak spacing to prevent clipping of ylabel\n",
        "    fig.tight_layout()\n",
        "    plt.show()"
      ],
      "metadata": {
        "id": "A2yNImUDEZX5"
      },
      "execution_count": null,
      "outputs": []
    },
    {
      "cell_type": "code",
      "source": [
        "path_data = os.getcwd() + '/informative_prior/data/'\n",
        "########### Training Hyperparameters\n",
        "num_hidden_nodes = [50, 30]; alpha_s = 0.001; beta_s = 0.001\n",
        "learning_rate = 2*1e-3\n",
        "batch_size = 100\n",
        "###########\n",
        "num_random = 100; noise_level = 0.8\n",
        "## Load the data\n",
        "x, y, x_test, y_test, num_useful, num_feature = data_generating_energy(path_data, num_random, noise_level)"
      ],
      "metadata": {
        "id": "iZIwedggEcn7"
      },
      "execution_count": null,
      "outputs": []
    },
    {
      "cell_type": "markdown",
      "source": [
        "# HMF prior with information of PVE and sparsity"
      ],
      "metadata": {
        "id": "twsUftP3EdNm"
      }
    },
    {
      "cell_type": "markdown",
      "source": [
        "# step 1. define prior belief about the number of relevant features"
      ],
      "metadata": {
        "id": "qtKZ-67eEdXU"
      }
    },
    {
      "cell_type": "code",
      "source": [
        "k_min = 0.; k_max = num_useful; tau = np.exp(2);"
      ],
      "metadata": {
        "id": "Mo05rRH2EkpL",
        "colab": {
          "base_uri": "https://localhost:8080/",
          "height": 167
        },
        "outputId": "fdfd343f-7ad7-4f90-95c3-a0295f7ea981"
      },
      "execution_count": 6,
      "outputs": [
        {
          "output_type": "error",
          "ename": "NameError",
          "evalue": "ignored",
          "traceback": [
            "\u001b[0;31m---------------------------------------------------------------------------\u001b[0m",
            "\u001b[0;31mNameError\u001b[0m                                 Traceback (most recent call last)",
            "\u001b[0;32m<ipython-input-6-8b4feeee67a7>\u001b[0m in \u001b[0;36m<cell line: 1>\u001b[0;34m()\u001b[0m\n\u001b[0;32m----> 1\u001b[0;31m \u001b[0mk_min\u001b[0m \u001b[0;34m=\u001b[0m \u001b[0;36m0.\u001b[0m\u001b[0;34m;\u001b[0m \u001b[0mk_max\u001b[0m \u001b[0;34m=\u001b[0m \u001b[0mnum_useful\u001b[0m\u001b[0;34m;\u001b[0m \u001b[0mtau\u001b[0m \u001b[0;34m=\u001b[0m \u001b[0mnp\u001b[0m\u001b[0;34m.\u001b[0m\u001b[0mexp\u001b[0m\u001b[0;34m(\u001b[0m\u001b[0;36m2\u001b[0m\u001b[0;34m)\u001b[0m\u001b[0;34m;\u001b[0m\u001b[0;34m\u001b[0m\u001b[0;34m\u001b[0m\u001b[0m\n\u001b[0m",
            "\u001b[0;31mNameError\u001b[0m: name 'num_useful' is not defined"
          ]
        }
      ]
    },
    {
      "cell_type": "markdown",
      "source": [
        "# step 2. learn the optimal scale parameter to match prior PVE"
      ],
      "metadata": {
        "id": "Nrah0eQiEnH7"
      }
    },
    {
      "cell_type": "code",
      "source": [
        "def learn_optimal_pve():\n",
        "    alpha_prior = 1.5; beta_prior = 3.0; prior = BetaPrior(alpha_prior, beta_prior)  # prior pve: Beta(1.5,3)\n",
        "    eta = 0.1; estimator = SteinGradientEstimator(eta)  # define the stein gradient estimator\n",
        "    learning_rate = 2 * 1e-3;  M = 300 # define learning rate and batch size (M)\n",
        "    num_hidden_nodes = [50, 30] # define the NN architecture\n",
        "    sampler = PVESampler_InfoARD(x, M, num_hidden_nodes, k_min, k_max, tau)  # define the sampler of implicity distribution\n",
        "    samples = sampler()\n",
        "    plot_empirical(samples, prior)\n",
        "    parameters = sampler.parameters()\n",
        "    optimizer = optim.SGD(parameters, lr=learning_rate)\n",
        "    num_epoch_stein = 200;\n",
        "    scale = minimize_kldivergence(sampler, prior, optimizer, estimator, num_epoch_stein)\n",
        "    samples = sampler()\n",
        "    plot_empirical(samples, prior)\n",
        "    return scale"
      ],
      "metadata": {
        "id": "nUQgOOSJErsX"
      },
      "execution_count": null,
      "outputs": []
    },
    {
      "cell_type": "code",
      "source": [
        "scale = learn_optimal_pve()"
      ],
      "metadata": {
        "colab": {
          "base_uri": "https://localhost:8080/",
          "height": 1000
        },
        "id": "EOU5UmvZEs7x",
        "outputId": "2e83b205-57eb-4c1d-ffd2-d8c90ca55bd9"
      },
      "execution_count": null,
      "outputs": [
        {
          "output_type": "display_data",
          "data": {
            "text/plain": [
              "<Figure size 640x480 with 1 Axes>"
            ],
            "image/png": "[encoded data removed]"
          },
          "metadata": {}
        },
        {
          "output_type": "stream",
          "name": "stdout",
          "text": [
            "EPOCH 0: KL: -0.1593.\n",
            "EPOCH 10: KL: 0.0208.\n",
            "EPOCH 20: KL: 0.3564.\n",
            "EPOCH 30: KL: 0.2308.\n",
            "EPOCH 40: KL: 0.0333.\n",
            "EPOCH 50: KL: 0.0116.\n",
            "EPOCH 60: KL: 0.1235.\n",
            "EPOCH 70: KL: 0.0385.\n",
            "EPOCH 80: KL: 0.0665.\n",
            "EPOCH 90: KL: 0.1415.\n",
            "EPOCH 100: KL: 0.3033.\n",
            "EPOCH 110: KL: -0.1872.\n",
            "EPOCH 120: KL: 0.2693.\n",
            "EPOCH 130: KL: 0.0838.\n",
            "EPOCH 140: KL: 0.0273.\n",
            "EPOCH 150: KL: 0.5096.\n",
            "EPOCH 160: KL: 0.2588.\n",
            "EPOCH 170: KL: 0.4371.\n",
            "EPOCH 180: KL: -0.0285.\n",
            "EPOCH 190: KL: -0.0312.\n"
          ]
        },
        {
          "output_type": "display_data",
          "data": {
            "text/plain": [
              "<Figure size 640x480 with 1 Axes>"
            ],
            "image/png": "[encoded data removed]"
          },
          "metadata": {}
        }
      ]
    },
    {
      "cell_type": "code",
      "source": [
        "print('optimal scale is ' + str(scale))"
      ],
      "metadata": {
        "colab": {
          "base_uri": "https://localhost:8080/"
        },
        "id": "RqcZZivxEzu-",
        "outputId": "b062d01d-1b7c-4c95-f773-b13e48c556fd"
      },
      "execution_count": null,
      "outputs": [
        {
          "output_type": "stream",
          "name": "stdout",
          "text": [
            "optimal scale is [0.20270972]\n"
          ]
        }
      ]
    },
    {
      "cell_type": "markdown",
      "source": [
        "# step 3. train BNNs with information of sparsity and PVE"
      ],
      "metadata": {
        "id": "MSlnueMSEwjv"
      }
    },
    {
      "cell_type": "markdown",
      "source": [
        "Informative Hierarchical meanfield PVE BNN"
      ],
      "metadata": {
        "id": "ghBfH27U5LBL"
      }
    },
    {
      "cell_type": "code",
      "source": [
        "beta_t = 0.202; alpha_t = 2.; num_epoch = 5000\n",
        "ihmf_pve = Info_Hier_Meanfield_PVE_NN(num_feature, num_hidden_nodes, k_min, k_max, tau, alpha_s, beta_s, alpha_t, beta_t)\n",
        "training_error_ihmf_pve, test_error_ihmf_pve = training_nn(ihmf_pve, x, y, x_test, y_test,learning_rate, batch_size, num_epoch)"
      ],
      "metadata": {
        "colab": {
          "base_uri": "https://localhost:8080/"
        },
        "id": "E-SQoKBPE6W3",
        "outputId": "be31bc09-fd05-49d1-c88b-c16672ade865"
      },
      "execution_count": null,
      "outputs": [
        {
          "output_type": "stream",
          "name": "stdout",
          "text": [
            "EPOACH 1: TRAIN LOSS: 3.1860; KL REG: 19291.0176; TEST LOSS IS: 3.35785.\n",
            "EPOACH 501: TRAIN LOSS: 0.8304; KL REG: 2418.3599; TEST LOSS IS: 0.88701.\n",
            "EPOACH 1001: TRAIN LOSS: 0.8756; KL REG: 328.4596; TEST LOSS IS: 0.84691.\n",
            "EPOACH 1501: TRAIN LOSS: 0.8748; KL REG: 134.2346; TEST LOSS IS: 0.84400.\n",
            "EPOACH 2001: TRAIN LOSS: 0.8633; KL REG: 84.5429; TEST LOSS IS: 0.83677.\n",
            "EPOACH 2501: TRAIN LOSS: 0.8586; KL REG: 85.2879; TEST LOSS IS: 0.83650.\n",
            "EPOACH 3001: TRAIN LOSS: 0.8584; KL REG: 77.3526; TEST LOSS IS: 0.83596.\n",
            "EPOACH 3501: TRAIN LOSS: 0.8564; KL REG: 81.2244; TEST LOSS IS: 0.83550.\n",
            "EPOACH 4001: TRAIN LOSS: 0.8556; KL REG: 73.3531; TEST LOSS IS: 0.83568.\n",
            "EPOACH 4501: TRAIN LOSS: 0.8553; KL REG: 69.9928; TEST LOSS IS: 0.83615.\n"
          ]
        }
      ]
    },
    {
      "cell_type": "code",
      "source": [
        "np.mean(PVE_test_noise(ihmf_pve, x_test, y_test))"
      ],
      "metadata": {
        "colab": {
          "base_uri": "https://localhost:8080/"
        },
        "id": "s11ZCI7BE8pp",
        "outputId": "a7813e4f-3195-40e5-d522-ec9469421d7e"
      },
      "execution_count": null,
      "outputs": [
        {
          "output_type": "execute_result",
          "data": {
            "text/plain": [
              "0.11989086866378784"
            ]
          },
          "metadata": {},
          "execution_count": 29
        }
      ]
    },
    {
      "cell_type": "code",
      "source": [
        "print(\"train error : \", training_error_ihmf_pve[-1])\n",
        "print(\"test error : \", test_error_ihmf_pve[-1])"
      ],
      "metadata": {
        "colab": {
          "base_uri": "https://localhost:8080/"
        },
        "id": "cyCn-aIT8gbv",
        "outputId": "71124d18-6f4b-4db7-971a-80cd85a28980"
      },
      "execution_count": null,
      "outputs": [
        {
          "output_type": "stream",
          "name": "stdout",
          "text": [
            "train error :  tensor(0.8561)\n",
            "test error :  tensor(0.8384)\n"
          ]
        }
      ]
    },
    {
      "cell_type": "markdown",
      "source": [
        "Hierarchical Meanfield NN\n"
      ],
      "metadata": {
        "id": "6Pw5tNjL5VaE"
      }
    },
    {
      "cell_type": "code",
      "source": [
        "beta_t = 0.202; alpha_t = 2.; num_epoch = 5000\n",
        "hmf = Hier_Meanfield_NN(num_feature, num_hidden_nodes, alpha_s, beta_s, alpha_t, beta_t)\n",
        "training_error_hmf, test_error_hmf = training_nn(hmf, x, y, x_test, y_test,learning_rate, batch_size, num_epoch)"
      ],
      "metadata": {
        "colab": {
          "base_uri": "https://localhost:8080/"
        },
        "id": "lyWGS6lD5W29",
        "outputId": "6e348985-bafd-4851-cc42-9ab88aa1e0fe"
      },
      "execution_count": null,
      "outputs": [
        {
          "output_type": "stream",
          "name": "stdout",
          "text": [
            "EPOACH 1: TRAIN LOSS: 5.9116; KL REG: 18703.4160; TEST LOSS IS: 5.20784.\n",
            "EPOACH 501: TRAIN LOSS: 0.7135; KL REG: 2471.3892; TEST LOSS IS: 0.86740.\n",
            "EPOACH 1001: TRAIN LOSS: 0.8288; KL REG: 200.5015; TEST LOSS IS: 0.85492.\n",
            "EPOACH 1501: TRAIN LOSS: 0.8323; KL REG: 124.0180; TEST LOSS IS: 0.84627.\n",
            "EPOACH 2001: TRAIN LOSS: 0.8287; KL REG: 114.0650; TEST LOSS IS: 0.84503.\n",
            "EPOACH 2501: TRAIN LOSS: 0.8269; KL REG: 110.5474; TEST LOSS IS: 0.84564.\n",
            "EPOACH 3001: TRAIN LOSS: 0.8267; KL REG: 107.6494; TEST LOSS IS: 0.85477.\n",
            "EPOACH 3501: TRAIN LOSS: 0.8331; KL REG: 106.0896; TEST LOSS IS: 0.84424.\n",
            "EPOACH 4001: TRAIN LOSS: 0.8277; KL REG: 105.3168; TEST LOSS IS: 0.85036.\n",
            "EPOACH 4501: TRAIN LOSS: 0.8269; KL REG: 106.1727; TEST LOSS IS: 0.84632.\n"
          ]
        }
      ]
    },
    {
      "cell_type": "code",
      "source": [
        "np.mean(PVE_test_noise(hmf, x_test, y_test))"
      ],
      "metadata": {
        "colab": {
          "base_uri": "https://localhost:8080/"
        },
        "id": "9X_yKngu6d1R",
        "outputId": "224bffb1-89ca-4ed8-ff22-42be4a8ecfc5"
      },
      "execution_count": null,
      "outputs": [
        {
          "output_type": "execute_result",
          "data": {
            "text/plain": [
              "0.11391407251358032"
            ]
          },
          "metadata": {},
          "execution_count": 32
        }
      ]
    },
    {
      "cell_type": "code",
      "source": [
        "print(\"train error : \", training_error_hmf[-1])\n",
        "print(\"test error : \", test_error_hmf[-1])"
      ],
      "metadata": {
        "colab": {
          "base_uri": "https://localhost:8080/"
        },
        "id": "SKOvHFmc86YJ",
        "outputId": "78e10361-9720-4845-b259-15389973efe8"
      },
      "execution_count": null,
      "outputs": [
        {
          "output_type": "stream",
          "name": "stdout",
          "text": [
            "train error :  tensor(0.8258)\n",
            "test error :  tensor(0.8527)\n"
          ]
        }
      ]
    },
    {
      "cell_type": "markdown",
      "source": [
        "Informative Hiericical Meanfield Gaussian BNN"
      ],
      "metadata": {
        "id": "GrMG9wmU59Nk"
      }
    },
    {
      "cell_type": "code",
      "source": [
        "beta_t = 0.202; alpha_t = 2.; num_epoch = 5000\n",
        "ihmf = Info_Hier_Meanfield_NN(num_feature, num_hidden_nodes, k_min, k_max, tau, alpha_s, beta_s, alpha_t, beta_t)\n",
        "training_error_ihmf, test_error_ihmf = training_nn(ihmf, x, y, x_test, y_test,learning_rate, batch_size, num_epoch)"
      ],
      "metadata": {
        "colab": {
          "base_uri": "https://localhost:8080/"
        },
        "id": "fsC6hu4q59fZ",
        "outputId": "d8f4b31a-384f-45c7-c1f7-5f2a9f644ff3"
      },
      "execution_count": null,
      "outputs": [
        {
          "output_type": "stream",
          "name": "stdout",
          "text": [
            "EPOACH 1: TRAIN LOSS: 1.2703; KL REG: 19034.5898; TEST LOSS IS: 1.23429.\n",
            "EPOACH 501: TRAIN LOSS: 0.7286; KL REG: 2092.6323; TEST LOSS IS: 0.71332.\n",
            "EPOACH 1001: TRAIN LOSS: 0.8250; KL REG: 207.8772; TEST LOSS IS: 0.68390.\n",
            "EPOACH 1501: TRAIN LOSS: 0.8354; KL REG: 109.9130; TEST LOSS IS: 0.69112.\n",
            "EPOACH 2001: TRAIN LOSS: 0.8271; KL REG: 108.5291; TEST LOSS IS: 0.68821.\n",
            "EPOACH 2501: TRAIN LOSS: 0.8278; KL REG: 96.5502; TEST LOSS IS: 0.68705.\n",
            "EPOACH 3001: TRAIN LOSS: 0.8206; KL REG: 88.7205; TEST LOSS IS: 0.68370.\n",
            "EPOACH 3501: TRAIN LOSS: 0.8184; KL REG: 87.8054; TEST LOSS IS: 0.68215.\n",
            "EPOACH 4001: TRAIN LOSS: 0.8149; KL REG: 94.8932; TEST LOSS IS: 0.68173.\n",
            "EPOACH 4501: TRAIN LOSS: 0.8190; KL REG: 78.6194; TEST LOSS IS: 0.68051.\n"
          ]
        }
      ]
    },
    {
      "cell_type": "code",
      "source": [
        "np.mean(PVE_test_noise(ihmf, x_test, y_test))"
      ],
      "metadata": {
        "colab": {
          "base_uri": "https://localhost:8080/"
        },
        "id": "t7evSoh-6e3m",
        "outputId": "9fc9737f-182b-46b6-c10a-1953585f90aa"
      },
      "execution_count": null,
      "outputs": [
        {
          "output_type": "execute_result",
          "data": {
            "text/plain": [
              "0.18941009044647217"
            ]
          },
          "metadata": {},
          "execution_count": 88
        }
      ]
    },
    {
      "cell_type": "code",
      "source": [
        "print(\"train error : \", training_error_ihmf[-1])\n",
        "print(\"test error : \", test_error_ihmf[-1])"
      ],
      "metadata": {
        "colab": {
          "base_uri": "https://localhost:8080/"
        },
        "id": "mnYmFBAh87Xw",
        "outputId": "01f664aa-982f-42e0-ccec-8c24ace5e294"
      },
      "execution_count": null,
      "outputs": [
        {
          "output_type": "stream",
          "name": "stdout",
          "text": [
            "train error :  tensor(0.8140)\n",
            "test error :  tensor(0.6813)\n"
          ]
        }
      ]
    },
    {
      "cell_type": "markdown",
      "source": [
        "Hiericical Meanfield Gaussian BNN"
      ],
      "metadata": {
        "id": "t3ORTrex7FR1"
      }
    },
    {
      "cell_type": "code",
      "source": [
        "beta_t = 0.202; alpha_t = 2.; num_epoch = 5000\n",
        "hmf_pve = Hier_Meanfield_PVE_NN(num_feature, num_hidden_nodes, alpha_s, beta_s, alpha_t, beta_t)\n",
        "training_error_hmf_pve, test_error_hmf_pve = training_nn(hmf_pve, x, y, x_test, y_test,learning_rate, batch_size, num_epoch)"
      ],
      "metadata": {
        "colab": {
          "base_uri": "https://localhost:8080/"
        },
        "id": "yvJf1ee47K6k",
        "outputId": "7dd16d2d-4f22-4eb4-db4a-d81a8039214a"
      },
      "execution_count": null,
      "outputs": [
        {
          "output_type": "stream",
          "name": "stdout",
          "text": [
            "EPOACH 1: TRAIN LOSS: 3.1379; KL REG: 18663.8633; TEST LOSS IS: 2.90064.\n",
            "EPOACH 501: TRAIN LOSS: 0.7187; KL REG: 2305.6479; TEST LOSS IS: 0.87162.\n",
            "EPOACH 1001: TRAIN LOSS: 0.8749; KL REG: 172.2672; TEST LOSS IS: 0.85639.\n",
            "EPOACH 1501: TRAIN LOSS: 0.8690; KL REG: 122.2337; TEST LOSS IS: 0.84771.\n",
            "EPOACH 2001: TRAIN LOSS: 0.8466; KL REG: 113.0295; TEST LOSS IS: 0.84038.\n",
            "EPOACH 2501: TRAIN LOSS: 0.8402; KL REG: 109.0744; TEST LOSS IS: 0.84047.\n",
            "EPOACH 3001: TRAIN LOSS: 0.8326; KL REG: 109.0820; TEST LOSS IS: 0.83865.\n",
            "EPOACH 3501: TRAIN LOSS: 0.8293; KL REG: 108.8138; TEST LOSS IS: 0.84327.\n",
            "EPOACH 4001: TRAIN LOSS: 0.8301; KL REG: 107.9398; TEST LOSS IS: 0.83977.\n",
            "EPOACH 4501: TRAIN LOSS: 0.8274; KL REG: 108.2946; TEST LOSS IS: 0.83931.\n"
          ]
        }
      ]
    },
    {
      "cell_type": "code",
      "source": [
        "np.mean(PVE_test_noise(hmf_pve, x_test, y_test))"
      ],
      "metadata": {
        "colab": {
          "base_uri": "https://localhost:8080/"
        },
        "id": "a08lsXyG7LHz",
        "outputId": "720118b8-aef4-40ab-8c83-3b8d4e77eb1a"
      },
      "execution_count": null,
      "outputs": [
        {
          "output_type": "execute_result",
          "data": {
            "text/plain": [
              "0.1150742769241333"
            ]
          },
          "metadata": {},
          "execution_count": 38
        }
      ]
    },
    {
      "cell_type": "code",
      "source": [
        "print(\"train error : \", training_error_hmf_pve[-1])\n",
        "print(\"test error : \", test_error_hmf_pve[-1])"
      ],
      "metadata": {
        "colab": {
          "base_uri": "https://localhost:8080/"
        },
        "id": "3vNTTPeH88sF",
        "outputId": "fcfe644e-72c6-4c22-a379-5074f0997abe"
      },
      "execution_count": null,
      "outputs": [
        {
          "output_type": "stream",
          "name": "stdout",
          "text": [
            "train error :  tensor(0.8372)\n",
            "test error :  tensor(0.8410)\n"
          ]
        }
      ]
    },
    {
      "cell_type": "markdown",
      "source": [
        "# Sans bruit et juste avec les relevant features\n"
      ],
      "metadata": {
        "id": "44gtWjOJObL7"
      }
    },
    {
      "cell_type": "code",
      "source": [
        "path_data = os.getcwd() + '/informative_prior/data/'\n",
        "########### Training Hyperparameters\n",
        "num_hidden_nodes = [50, 30]; alpha_s = 0.001; beta_s = 0.001\n",
        "learning_rate = 2*1e-3\n",
        "batch_size = 100\n",
        "###########\n",
        "num_random = 0; noise_level = 0\n",
        "## Load the data\n",
        "x, y, x_test, y_test, num_useful, num_feature = data_generating_energy(path_data, num_random, noise_level)"
      ],
      "metadata": {
        "id": "0OP0R0FLOfTd"
      },
      "execution_count": null,
      "outputs": []
    },
    {
      "cell_type": "code",
      "source": [
        "k_min = 0.; k_max = num_useful; tau = np.exp(2);"
      ],
      "metadata": {
        "id": "wKCKP0JHOnFt"
      },
      "execution_count": null,
      "outputs": []
    },
    {
      "cell_type": "markdown",
      "source": [
        "Informative Hierarchical Meanfield PVE BNN"
      ],
      "metadata": {
        "id": "5MIOtCyTOxPP"
      }
    },
    {
      "cell_type": "code",
      "source": [
        "beta_t = 0.202; alpha_t = 2.; num_epoch = 5000\n",
        "ihmf_pve = Info_Hier_Meanfield_PVE_NN(num_feature, num_hidden_nodes, k_min, k_max, tau, alpha_s, beta_s, alpha_t, beta_t)\n",
        "training_error_ihmf_pve, test_error_ihmf_pve = training_nn(ihmf_pve, x, y, x_test, y_test,learning_rate, batch_size, num_epoch)"
      ],
      "metadata": {
        "colab": {
          "base_uri": "https://localhost:8080/"
        },
        "id": "hYILVcu8OxWm",
        "outputId": "ae2e376d-4d01-437b-ab63-1cdd1cc7fa43"
      },
      "execution_count": null,
      "outputs": [
        {
          "output_type": "stream",
          "name": "stdout",
          "text": [
            "EPOACH 1: TRAIN LOSS: 1.2504; KL REG: 5577.4375; TEST LOSS IS: 1.27183.\n",
            "EPOACH 501: TRAIN LOSS: 0.0709; KL REG: 1118.4399; TEST LOSS IS: 0.07341.\n",
            "EPOACH 1001: TRAIN LOSS: 0.0621; KL REG: 489.9937; TEST LOSS IS: 0.06151.\n",
            "EPOACH 1501: TRAIN LOSS: 0.0519; KL REG: 356.6237; TEST LOSS IS: 0.05476.\n",
            "EPOACH 2001: TRAIN LOSS: 0.0469; KL REG: 322.3710; TEST LOSS IS: 0.05060.\n",
            "EPOACH 2501: TRAIN LOSS: 0.0448; KL REG: 308.3958; TEST LOSS IS: 0.04886.\n",
            "EPOACH 3001: TRAIN LOSS: 0.0440; KL REG: 300.1021; TEST LOSS IS: 0.04859.\n",
            "EPOACH 3501: TRAIN LOSS: 0.0434; KL REG: 286.9951; TEST LOSS IS: 0.04856.\n",
            "EPOACH 4001: TRAIN LOSS: 0.0427; KL REG: 281.7816; TEST LOSS IS: 0.04759.\n",
            "EPOACH 4501: TRAIN LOSS: 0.0440; KL REG: 272.7238; TEST LOSS IS: 0.04765.\n"
          ]
        }
      ]
    },
    {
      "cell_type": "code",
      "source": [
        "np.mean(PVE_test_noise(ihmf_pve, x_test, y_test))"
      ],
      "metadata": {
        "colab": {
          "base_uri": "https://localhost:8080/"
        },
        "id": "4dFnX7qyO9Ap",
        "outputId": "d89ba12b-5141-4e9a-a55c-4f2cddd6c14b"
      },
      "execution_count": null,
      "outputs": [
        {
          "output_type": "execute_result",
          "data": {
            "text/plain": [
              "0.9546631574630737"
            ]
          },
          "metadata": {},
          "execution_count": 43
        }
      ]
    },
    {
      "cell_type": "code",
      "source": [
        "print(\"train error : \", training_error_ihmf_pve[-1])\n",
        "print(\"test error : \", test_error_ihmf_pve[-1])"
      ],
      "metadata": {
        "colab": {
          "base_uri": "https://localhost:8080/"
        },
        "id": "zvP6Lzw4O_oQ",
        "outputId": "1c25b09c-f7e3-4dd9-970a-7a058f73cb66"
      },
      "execution_count": null,
      "outputs": [
        {
          "output_type": "stream",
          "name": "stdout",
          "text": [
            "train error :  tensor(0.0422)\n",
            "test error :  tensor(0.0466)\n"
          ]
        }
      ]
    },
    {
      "cell_type": "markdown",
      "source": [
        "Hierarchical Meanfield NN"
      ],
      "metadata": {
        "id": "2NOyvi19PCnJ"
      }
    },
    {
      "cell_type": "code",
      "source": [
        "beta_t = 0.202; alpha_t = 2.; num_epoch = 5000\n",
        "hmf = Hier_Meanfield_NN(num_feature, num_hidden_nodes, alpha_s, beta_s, alpha_t, beta_t)\n",
        "training_error_hmf, test_error_hmf = training_nn(hmf, x, y, x_test, y_test,learning_rate, batch_size, num_epoch)"
      ],
      "metadata": {
        "colab": {
          "base_uri": "https://localhost:8080/"
        },
        "id": "fIg9e2E9PDTA",
        "outputId": "903ef057-48b5-449f-e9db-f9ef2c3b1302"
      },
      "execution_count": null,
      "outputs": [
        {
          "output_type": "stream",
          "name": "stdout",
          "text": [
            "EPOACH 1: TRAIN LOSS: 0.4245; KL REG: 5582.3564; TEST LOSS IS: 0.43208.\n",
            "EPOACH 501: TRAIN LOSS: 0.0831; KL REG: 801.2305; TEST LOSS IS: 0.08922.\n",
            "EPOACH 1001: TRAIN LOSS: 0.0683; KL REG: 377.2559; TEST LOSS IS: 0.06879.\n",
            "EPOACH 1501: TRAIN LOSS: 0.0614; KL REG: 326.5374; TEST LOSS IS: 0.06093.\n",
            "EPOACH 2001: TRAIN LOSS: 0.0535; KL REG: 301.1777; TEST LOSS IS: 0.05572.\n",
            "EPOACH 2501: TRAIN LOSS: 0.0421; KL REG: 299.5665; TEST LOSS IS: 0.04862.\n",
            "EPOACH 3001: TRAIN LOSS: 0.0360; KL REG: 304.1052; TEST LOSS IS: 0.04357.\n",
            "EPOACH 3501: TRAIN LOSS: 0.0310; KL REG: 302.5777; TEST LOSS IS: 0.03699.\n",
            "EPOACH 4001: TRAIN LOSS: 0.0303; KL REG: 296.3990; TEST LOSS IS: 0.03519.\n",
            "EPOACH 4501: TRAIN LOSS: 0.0302; KL REG: 297.6909; TEST LOSS IS: 0.03509.\n"
          ]
        }
      ]
    },
    {
      "cell_type": "code",
      "source": [
        "np.mean(PVE_test_noise(hmf, x_test, y_test))"
      ],
      "metadata": {
        "colab": {
          "base_uri": "https://localhost:8080/"
        },
        "id": "1bfHIGItPJG6",
        "outputId": "9ddcefc9-c37e-4946-910c-792d4589da38"
      },
      "execution_count": null,
      "outputs": [
        {
          "output_type": "execute_result",
          "data": {
            "text/plain": [
              "0.9655869603157043"
            ]
          },
          "metadata": {},
          "execution_count": 46
        }
      ]
    },
    {
      "cell_type": "code",
      "source": [
        "print(\"train error : \", training_error_hmf[-1])\n",
        "print(\"test error : \", test_error_hmf[-1])"
      ],
      "metadata": {
        "colab": {
          "base_uri": "https://localhost:8080/"
        },
        "id": "g4_YDV9oPM2U",
        "outputId": "bb9d47fa-dc90-4e3b-a155-c5cd9bd3f38b"
      },
      "execution_count": null,
      "outputs": [
        {
          "output_type": "stream",
          "name": "stdout",
          "text": [
            "train error :  tensor(0.0294)\n",
            "test error :  tensor(0.0355)\n"
          ]
        }
      ]
    },
    {
      "cell_type": "markdown",
      "source": [
        "Informative Hiericical Meanfield Gaussian BNN"
      ],
      "metadata": {
        "id": "C4A040s3PQ0T"
      }
    },
    {
      "cell_type": "code",
      "source": [
        "beta_t = 0.202; alpha_t = 2.; num_epoch = 5000\n",
        "ihmf = Info_Hier_Meanfield_NN(num_feature, num_hidden_nodes, k_min, k_max, tau, alpha_s, beta_s, alpha_t, beta_t)\n",
        "training_error_ihmf, test_error_ihmf = training_nn(ihmf, x, y, x_test, y_test,learning_rate, batch_size, num_epoch)"
      ],
      "metadata": {
        "colab": {
          "base_uri": "https://localhost:8080/"
        },
        "id": "ZVeHUmu-PSAG",
        "outputId": "21495048-e4cd-49d3-9e22-7f53915a1f46"
      },
      "execution_count": null,
      "outputs": [
        {
          "output_type": "stream",
          "name": "stdout",
          "text": [
            "EPOACH 1: TRAIN LOSS: 0.7147; KL REG: 5531.4741; TEST LOSS IS: 0.63555.\n",
            "EPOACH 501: TRAIN LOSS: 0.0877; KL REG: 788.0942; TEST LOSS IS: 0.09396.\n",
            "EPOACH 1001: TRAIN LOSS: 0.0667; KL REG: 333.6970; TEST LOSS IS: 0.07558.\n",
            "EPOACH 1501: TRAIN LOSS: 0.0557; KL REG: 276.6728; TEST LOSS IS: 0.06069.\n",
            "EPOACH 2001: TRAIN LOSS: 0.0488; KL REG: 261.5927; TEST LOSS IS: 0.05364.\n",
            "EPOACH 2501: TRAIN LOSS: 0.0471; KL REG: 257.1435; TEST LOSS IS: 0.05455.\n",
            "EPOACH 3001: TRAIN LOSS: 0.0438; KL REG: 255.3905; TEST LOSS IS: 0.04802.\n",
            "EPOACH 3501: TRAIN LOSS: 0.0435; KL REG: 258.8772; TEST LOSS IS: 0.04698.\n",
            "EPOACH 4001: TRAIN LOSS: 0.0431; KL REG: 255.1770; TEST LOSS IS: 0.04510.\n",
            "EPOACH 4501: TRAIN LOSS: 0.0422; KL REG: 253.1655; TEST LOSS IS: 0.04717.\n"
          ]
        }
      ]
    },
    {
      "cell_type": "code",
      "source": [
        "np.mean(PVE_test_noise(ihmf, x_test, y_test))"
      ],
      "metadata": {
        "colab": {
          "base_uri": "https://localhost:8080/"
        },
        "id": "X0arAdYmPbCF",
        "outputId": "f10a39f3-6ffa-4cfb-bb7f-ec22676be16b"
      },
      "execution_count": null,
      "outputs": [
        {
          "output_type": "execute_result",
          "data": {
            "text/plain": [
              "0.9550902247428894"
            ]
          },
          "metadata": {},
          "execution_count": 92
        }
      ]
    },
    {
      "cell_type": "code",
      "source": [
        "print(\"train error : \", training_error_ihmf[-1])\n",
        "print(\"test error : \", test_error_ihmf[-1])"
      ],
      "metadata": {
        "colab": {
          "base_uri": "https://localhost:8080/"
        },
        "id": "3lUMHV8FPd7l",
        "outputId": "2ff24d20-7dcb-4f01-8f17-bc4f171d9158"
      },
      "execution_count": null,
      "outputs": [
        {
          "output_type": "stream",
          "name": "stdout",
          "text": [
            "train error :  tensor(0.0418)\n",
            "test error :  tensor(0.0460)\n"
          ]
        }
      ]
    },
    {
      "cell_type": "markdown",
      "source": [
        "Hiericical Meanfield Gaussian BNN"
      ],
      "metadata": {
        "id": "MxHqoHYwPgs7"
      }
    },
    {
      "cell_type": "code",
      "source": [
        "beta_t = 0.202; alpha_t = 2.; num_epoch = 5000\n",
        "hmf_pve = Hier_Meanfield_PVE_NN(num_feature, num_hidden_nodes, alpha_s, beta_s, alpha_t, beta_t)\n",
        "training_error_hmf_pve, test_error_hmf_pve = training_nn(hmf_pve, x, y, x_test, y_test,learning_rate, batch_size, num_epoch)"
      ],
      "metadata": {
        "colab": {
          "base_uri": "https://localhost:8080/"
        },
        "id": "fHgcCBwKPhom",
        "outputId": "ef90d9f7-5ffc-4a2c-ada0-b8e15e3937ec"
      },
      "execution_count": null,
      "outputs": [
        {
          "output_type": "stream",
          "name": "stdout",
          "text": [
            "EPOACH 1: TRAIN LOSS: 1.0930; KL REG: 5583.8555; TEST LOSS IS: 1.08751.\n",
            "EPOACH 501: TRAIN LOSS: 0.0572; KL REG: 1121.6929; TEST LOSS IS: 0.06550.\n",
            "EPOACH 1001: TRAIN LOSS: 0.0520; KL REG: 546.2390; TEST LOSS IS: 0.05532.\n",
            "EPOACH 1501: TRAIN LOSS: 0.0462; KL REG: 449.3002; TEST LOSS IS: 0.05187.\n",
            "EPOACH 2001: TRAIN LOSS: 0.0363; KL REG: 409.2827; TEST LOSS IS: 0.04172.\n",
            "EPOACH 2501: TRAIN LOSS: 0.0347; KL REG: 387.1328; TEST LOSS IS: 0.04043.\n",
            "EPOACH 3001: TRAIN LOSS: 0.0340; KL REG: 365.4413; TEST LOSS IS: 0.03980.\n",
            "EPOACH 3501: TRAIN LOSS: 0.0324; KL REG: 342.5883; TEST LOSS IS: 0.03937.\n",
            "EPOACH 4001: TRAIN LOSS: 0.0319; KL REG: 326.2624; TEST LOSS IS: 0.03882.\n",
            "EPOACH 4501: TRAIN LOSS: 0.0315; KL REG: 319.9324; TEST LOSS IS: 0.03998.\n"
          ]
        }
      ]
    },
    {
      "cell_type": "code",
      "source": [
        "np.mean(PVE_test_noise(hmf_pve, x_test, y_test))"
      ],
      "metadata": {
        "colab": {
          "base_uri": "https://localhost:8080/"
        },
        "id": "K7TA60NnPmyb",
        "outputId": "360b5cd5-c990-4f00-b11d-e47119326bc2"
      },
      "execution_count": null,
      "outputs": [
        {
          "output_type": "execute_result",
          "data": {
            "text/plain": [
              "0.9626717567443848"
            ]
          },
          "metadata": {},
          "execution_count": 52
        }
      ]
    },
    {
      "cell_type": "code",
      "source": [
        "print(\"train error : \", training_error_hmf_pve[-1])\n",
        "print(\"test error : \", test_error_hmf_pve[-1])"
      ],
      "metadata": {
        "colab": {
          "base_uri": "https://localhost:8080/"
        },
        "id": "QT5-630KPpcW",
        "outputId": "b486a800-b069-4e3d-cc93-7bc1fb2eeb40"
      },
      "execution_count": null,
      "outputs": [
        {
          "output_type": "stream",
          "name": "stdout",
          "text": [
            "train error :  tensor(0.0314)\n",
            "test error :  tensor(0.0382)\n"
          ]
        }
      ]
    },
    {
      "cell_type": "markdown",
      "source": [
        "recap pour dataset energy: \n",
        "\n",
        "|prior       |  test error sans bruit    |    test error avec bruit |\n",
        "|------------|----------------|---------------|\n",
        "|HMF         |   0.0355       |      0.8527   |\n",
        "|HMF + PVE   |   0.0382       |      0.8410   |\n",
        "|IHMF        |   0.0460       |      0.6813   |\n",
        "|IHMF + PVE  |   0.0466       |      0.8384   | "
      ],
      "metadata": {
        "id": "cZI0N4ZuUgQU"
      }
    },
    {
      "cell_type": "markdown",
      "source": [
        "# Concrete dataset\n"
      ],
      "metadata": {
        "id": "L-Sv-Vzl2CeI"
      }
    },
    {
      "cell_type": "code",
      "source": [
        "from sklearn import preprocessing\n",
        "import torch\n",
        "import numpy as np\n",
        "import pandas as pd\n",
        "\n",
        "def data_generating_concrete(data_path, num_random, noise_level):\n",
        "    df = pd.read_csv(data_path + \"Concrete_Data.csv\", sep=\",\")\n",
        "    # df = df.drop(['Unnamed: 10','Unnamed: 11','Y1'], axis = 1)\n",
        "    df = df.dropna(axis=0)\n",
        "    np.random.seed(129)\n",
        "    msk_1 = np.random.rand(len(df)) < 0.8\n",
        "    traindf = df[msk_1]\n",
        "    testdf = df[~msk_1]\n",
        "    # training set\n",
        "    trainx = traindf.drop('Concrete compressive strength(MPa, megapascals) ', axis=1).values\n",
        "    trainy = traindf['Concrete compressive strength(MPa, megapascals) '].values\n",
        "    # test set\n",
        "    testx = testdf.drop('Concrete compressive strength(MPa, megapascals) ', axis=1).values\n",
        "    testy = testdf['Concrete compressive strength(MPa, megapascals) '].values\n",
        "\n",
        "    # le csv est rempli comme de la merde\n",
        "    for i in range(len(trainx)):\n",
        "      for j in range(len(trainx[0])):\n",
        "        if type(trainx[i][j]) == str:\n",
        "          trainx[i][j] = trainx[i][j].replace(\",\", \".\")\n",
        "          if trainx[i][j][-1].isspace():\n",
        "              trainx[i][j] = trainx[i][j][:-1]\n",
        "\n",
        "      if type(trainy[i]) == str:\n",
        "          trainy[i] = trainy[i].replace(\",\", \".\")\n",
        "          if trainy[i][-1].isspace():\n",
        "              trainy[i] = trainy[i][:-1]\n",
        "\n",
        "    for i in range(len(testx)):\n",
        "      for j in range(len(testx[0])):\n",
        "        if type(testx[i][j]) == str:\n",
        "          testx[i][j] = testx[i][j].replace(\",\", \".\")\n",
        "          if testx[i][j][-1].isspace():\n",
        "              testx[i][j] = testx[i][j][:-1]\n",
        "\n",
        "      if type(testy[i]) == str:\n",
        "          testy[i] = testy[i].replace(\",\", \".\")\n",
        "          if testy[i][-1].isspace():\n",
        "              testy[i] = testy[i][:-1]\n",
        "\n",
        "    scalerx = preprocessing.StandardScaler().fit(trainx)\n",
        "    trainx = scalerx.transform(trainx)\n",
        "    testx = scalerx.transform(testx)\n",
        "\n",
        "    scalery = preprocessing.StandardScaler().fit(trainy.reshape(-1,1))\n",
        "    trainy = scalery.transform(trainy.reshape(-1,1)).reshape(1, -1)\n",
        "    testy = scalery.transform(testy.reshape(-1,1)).reshape(1, -1)\n",
        "    \n",
        "    # transfer data into tensor\n",
        "    x = torch.tensor(trainx, dtype = torch.float)\n",
        "    y = torch.tensor(trainy[0], dtype = torch.float).view(-1,1)\n",
        "    x_test = torch.tensor(testx, dtype = torch.float)\n",
        "    y_test = torch.tensor(testy[0], dtype = torch.float).view(-1,1)\n",
        "    \n",
        "    if num_random != 0:\n",
        "        rand_features = torch.randn(x.shape[0], num_random) * 2\n",
        "        x = torch.cat((x, rand_features), 1)\n",
        "        rand_features = torch.randn(x_test.shape[0], num_random) *2\n",
        "        x_test = torch.cat((x_test, rand_features), 1)\n",
        "    \n",
        "    if noise_level != 0:\n",
        "        noise = torch.randn_like(y) * np.sqrt(noise_level); noise_test = torch.randn_like(y_test) * np.sqrt(noise_level)\n",
        "        y = y * np.sqrt(1-noise_level) + noise; y_test = y_test * np.sqrt(1-noise_level) + noise_test;     \n",
        "        \n",
        "    num_useful = 9.; num_feature = x.shape[1]\n",
        "\n",
        "    return x, y, x_test, y_test, num_useful, num_feature"
      ],
      "metadata": {
        "id": "i8NnGFOKUi5V"
      },
      "execution_count": 7,
      "outputs": []
    },
    {
      "cell_type": "markdown",
      "source": [
        "# sans bruit"
      ],
      "metadata": {
        "id": "le9XKrL325_d"
      }
    },
    {
      "cell_type": "code",
      "source": [
        "path_data = os.getcwd() + '/informative_prior/data/'\n",
        "########### Training Hyperparameters\n",
        "num_hidden_nodes = [50, 30]; alpha_s = 0.001; beta_s = 0.001\n",
        "learning_rate = 2*1e-3\n",
        "batch_size = 100\n",
        "###########\n",
        "num_random = 0; noise_level = 0\n",
        "## Load the data\n",
        "x, y, x_test, y_test, num_useful, num_feature = data_generating_concrete(path_data, num_random, noise_level)"
      ],
      "metadata": {
        "id": "Ycy8kB1E2A-G"
      },
      "execution_count": null,
      "outputs": []
    },
    {
      "cell_type": "code",
      "source": [
        "k_min = 0.; k_max = num_useful; tau = np.exp(2);"
      ],
      "metadata": {
        "id": "VAf131kw2Irz"
      },
      "execution_count": null,
      "outputs": []
    },
    {
      "cell_type": "markdown",
      "source": [
        "Informative Hierarchical Meanfield PVE BNN"
      ],
      "metadata": {
        "id": "0kb8vvd02nBM"
      }
    },
    {
      "cell_type": "code",
      "source": [
        "beta_t = 0.202; alpha_t = 2.; num_epoch = 5000\n",
        "ihmf_pve = Info_Hier_Meanfield_PVE_NN(num_feature, num_hidden_nodes, k_min, k_max, tau, alpha_s, beta_s, alpha_t, beta_t)\n",
        "training_error_ihmf_pve, test_error_ihmf_pve = training_nn(ihmf_pve, x, y, x_test, y_test,learning_rate, batch_size, num_epoch)\n",
        "\n",
        "np.mean(PVE_test_noise(ihmf_pve, x_test, y_test))\n",
        "\n",
        "print(\"train error : \", training_error_ihmf_pve[-1])\n",
        "print(\"test error : \", test_error_ihmf_pve[-1])"
      ],
      "metadata": {
        "colab": {
          "base_uri": "https://localhost:8080/"
        },
        "id": "S89eIhO-2nJ9",
        "outputId": "30a46028-622c-40ff-c68e-d65421db7996"
      },
      "execution_count": null,
      "outputs": [
        {
          "output_type": "stream",
          "name": "stdout",
          "text": [
            "EPOACH 1: TRAIN LOSS: 0.6259; KL REG: 5553.9492; TEST LOSS IS: 0.77853.\n",
            "EPOACH 501: TRAIN LOSS: 0.1523; KL REG: 921.3653; TEST LOSS IS: 0.16523.\n",
            "EPOACH 1001: TRAIN LOSS: 0.1377; KL REG: 413.2061; TEST LOSS IS: 0.14559.\n",
            "EPOACH 1501: TRAIN LOSS: 0.1261; KL REG: 343.7479; TEST LOSS IS: 0.13342.\n",
            "EPOACH 2001: TRAIN LOSS: 0.1216; KL REG: 333.6635; TEST LOSS IS: 0.13484.\n",
            "EPOACH 2501: TRAIN LOSS: 0.1134; KL REG: 337.2020; TEST LOSS IS: 0.13094.\n",
            "EPOACH 3001: TRAIN LOSS: 0.1094; KL REG: 336.5364; TEST LOSS IS: 0.12984.\n",
            "EPOACH 3501: TRAIN LOSS: 0.1075; KL REG: 338.5259; TEST LOSS IS: 0.12977.\n",
            "EPOACH 4001: TRAIN LOSS: 0.1058; KL REG: 339.7736; TEST LOSS IS: 0.13039.\n",
            "EPOACH 4501: TRAIN LOSS: 0.1055; KL REG: 343.6198; TEST LOSS IS: 0.12989.\n",
            "train error :  tensor(0.1049)\n",
            "test error :  tensor(0.1322)\n"
          ]
        }
      ]
    },
    {
      "cell_type": "markdown",
      "source": [
        "Hierarchical meanfield BNN"
      ],
      "metadata": {
        "id": "pQQ5HSPQ23bJ"
      }
    },
    {
      "cell_type": "code",
      "source": [
        "beta_t = 0.202; alpha_t = 2.; num_epoch = 5000\n",
        "hmf = Hier_Meanfield_NN(num_feature, num_hidden_nodes, alpha_s, beta_s, alpha_t, beta_t)\n",
        "training_error_hmf, test_error_hmf = training_nn(hmf, x, y, x_test, y_test,learning_rate, batch_size, num_epoch)\n",
        "\n",
        "np.mean(PVE_test_noise(hmf, x_test, y_test))\n",
        "\n",
        "print(\"train error : \", training_error_hmf[-1])\n",
        "print(\"test error : \", test_error_hmf[-1])"
      ],
      "metadata": {
        "colab": {
          "base_uri": "https://localhost:8080/"
        },
        "id": "joJqBwn223lQ",
        "outputId": "5053a766-686e-4a19-eedb-bcd194613426"
      },
      "execution_count": null,
      "outputs": [
        {
          "output_type": "stream",
          "name": "stdout",
          "text": [
            "EPOACH 1: TRAIN LOSS: 2.1271; KL REG: 5579.5781; TEST LOSS IS: 2.12023.\n",
            "EPOACH 501: TRAIN LOSS: 0.1395; KL REG: 839.1862; TEST LOSS IS: 0.14916.\n",
            "EPOACH 1001: TRAIN LOSS: 0.1266; KL REG: 421.2988; TEST LOSS IS: 0.13907.\n",
            "EPOACH 1501: TRAIN LOSS: 0.1174; KL REG: 357.2134; TEST LOSS IS: 0.12886.\n",
            "EPOACH 2001: TRAIN LOSS: 0.1148; KL REG: 326.6478; TEST LOSS IS: 0.12789.\n",
            "EPOACH 2501: TRAIN LOSS: 0.1113; KL REG: 317.5149; TEST LOSS IS: 0.12539.\n",
            "EPOACH 3001: TRAIN LOSS: 0.1076; KL REG: 323.8122; TEST LOSS IS: 0.12310.\n",
            "EPOACH 3501: TRAIN LOSS: 0.1051; KL REG: 328.0672; TEST LOSS IS: 0.12293.\n",
            "EPOACH 4001: TRAIN LOSS: 0.1044; KL REG: 332.0158; TEST LOSS IS: 0.12635.\n",
            "EPOACH 4501: TRAIN LOSS: 0.1026; KL REG: 335.1297; TEST LOSS IS: 0.12122.\n",
            "train error :  tensor(0.1017)\n",
            "test error :  tensor(0.1220)\n"
          ]
        }
      ]
    },
    {
      "cell_type": "markdown",
      "source": [
        "Informative Hierarchical meanfield BNN"
      ],
      "metadata": {
        "id": "sqFXUCiO23w2"
      }
    },
    {
      "cell_type": "code",
      "source": [
        "beta_t = 0.202; alpha_t = 2.; num_epoch = 5000\n",
        "ihmf = Info_Hier_Meanfield_NN(num_feature, num_hidden_nodes, k_min, k_max, tau, alpha_s, beta_s, alpha_t, beta_t)\n",
        "training_error_ihmf, test_error_ihmf = training_nn(ihmf, x, y, x_test, y_test,learning_rate, batch_size, num_epoch)\n",
        "\n",
        "np.mean(PVE_test_noise(ihmf, x_test, y_test))\n",
        "\n",
        "print(\"train error : \", training_error_ihmf[-1])\n",
        "print(\"test error : \", test_error_ihmf[-1])"
      ],
      "metadata": {
        "colab": {
          "base_uri": "https://localhost:8080/"
        },
        "id": "TXYoZk6f239n",
        "outputId": "1c3f5ba9-cdd0-49a0-bffc-feee81eb8f83"
      },
      "execution_count": null,
      "outputs": [
        {
          "output_type": "stream",
          "name": "stdout",
          "text": [
            "EPOACH 1: TRAIN LOSS: 2.8328; KL REG: 5567.3213; TEST LOSS IS: 2.89111.\n",
            "EPOACH 501: TRAIN LOSS: 0.1775; KL REG: 850.8842; TEST LOSS IS: 0.18662.\n",
            "EPOACH 1001: TRAIN LOSS: 0.1688; KL REG: 334.2643; TEST LOSS IS: 0.16942.\n",
            "EPOACH 1501: TRAIN LOSS: 0.1691; KL REG: 262.8865; TEST LOSS IS: 0.16845.\n",
            "EPOACH 2001: TRAIN LOSS: 0.1592; KL REG: 239.9909; TEST LOSS IS: 0.15567.\n",
            "EPOACH 2501: TRAIN LOSS: 0.1534; KL REG: 239.1198; TEST LOSS IS: 0.15081.\n",
            "EPOACH 3001: TRAIN LOSS: 0.1489; KL REG: 244.1465; TEST LOSS IS: 0.14732.\n",
            "EPOACH 3501: TRAIN LOSS: 0.1453; KL REG: 243.1783; TEST LOSS IS: 0.14386.\n",
            "EPOACH 4001: TRAIN LOSS: 0.1483; KL REG: 245.9147; TEST LOSS IS: 0.14930.\n",
            "EPOACH 4501: TRAIN LOSS: 0.1428; KL REG: 248.7831; TEST LOSS IS: 0.14184.\n",
            "train error :  tensor(0.1417)\n",
            "test error :  tensor(0.1432)\n"
          ]
        }
      ]
    },
    {
      "cell_type": "markdown",
      "source": [
        "Hierarchical Meanfield PVE BNN"
      ],
      "metadata": {
        "id": "Dnz1FVS3C8FJ"
      }
    },
    {
      "cell_type": "code",
      "source": [
        "beta_t = 0.202; alpha_t = 2.; num_epoch = 5000\n",
        "hmf_pve = Hier_Meanfield_PVE_NN(num_feature, num_hidden_nodes, alpha_s, beta_s, alpha_t, beta_t)\n",
        "training_error_hmf_pve, test_error_hmf_pve = training_nn(hmf_pve, x, y, x_test, y_test,learning_rate, batch_size, num_epoch)\n",
        "\n",
        "np.mean(PVE_test_noise(hmf_pve, x_test, y_test))\n",
        "\n",
        "print(\"train error : \", training_error_hmf_pve[-1])\n",
        "print(\"test error : \", test_error_hmf_pve[-1])"
      ],
      "metadata": {
        "colab": {
          "base_uri": "https://localhost:8080/"
        },
        "id": "PxdwETrEC8OP",
        "outputId": "ebe77890-153a-48ce-99c5-6d1506feaf02"
      },
      "execution_count": null,
      "outputs": [
        {
          "output_type": "stream",
          "name": "stdout",
          "text": [
            "EPOACH 1: TRAIN LOSS: 1.0764; KL REG: 5527.7783; TEST LOSS IS: 1.14265.\n",
            "EPOACH 501: TRAIN LOSS: 0.1286; KL REG: 961.3176; TEST LOSS IS: 0.14680.\n",
            "EPOACH 1001: TRAIN LOSS: 0.1151; KL REG: 482.1062; TEST LOSS IS: 0.13132.\n",
            "EPOACH 1501: TRAIN LOSS: 0.1124; KL REG: 400.1050; TEST LOSS IS: 0.13089.\n",
            "EPOACH 2001: TRAIN LOSS: 0.1106; KL REG: 372.4966; TEST LOSS IS: 0.13254.\n",
            "EPOACH 2501: TRAIN LOSS: 0.1072; KL REG: 362.7516; TEST LOSS IS: 0.13263.\n",
            "EPOACH 3001: TRAIN LOSS: 0.1060; KL REG: 358.6504; TEST LOSS IS: 0.13149.\n",
            "EPOACH 3501: TRAIN LOSS: 0.1065; KL REG: 353.0443; TEST LOSS IS: 0.13270.\n",
            "EPOACH 4001: TRAIN LOSS: 0.1050; KL REG: 354.0522; TEST LOSS IS: 0.13325.\n",
            "EPOACH 4501: TRAIN LOSS: 0.1061; KL REG: 352.2589; TEST LOSS IS: 0.13493.\n",
            "train error :  tensor(0.1042)\n",
            "test error :  tensor(0.1330)\n"
          ]
        }
      ]
    },
    {
      "cell_type": "markdown",
      "source": [
        "# Avec bruit"
      ],
      "metadata": {
        "id": "iGO8FT3ZDJqM"
      }
    },
    {
      "cell_type": "code",
      "source": [
        "path_data = os.getcwd() + '/informative_prior/data/'\n",
        "########### Training Hyperparameters\n",
        "num_hidden_nodes = [50, 30]; alpha_s = 0.001; beta_s = 0.001\n",
        "learning_rate = 2*1e-3\n",
        "batch_size = 100\n",
        "###########\n",
        "num_random = 100; noise_level = 0.8\n",
        "## Load the data\n",
        "x, y, x_test, y_test, num_useful, num_feature = data_generating_concrete(path_data, num_random, noise_level)"
      ],
      "metadata": {
        "id": "OVLn0isbDOda"
      },
      "execution_count": null,
      "outputs": []
    },
    {
      "cell_type": "markdown",
      "source": [
        "Informative Hierarchical Meanfield PVE BNN"
      ],
      "metadata": {
        "id": "rhRtS46pDYIl"
      }
    },
    {
      "cell_type": "code",
      "source": [
        "beta_t = 0.202; alpha_t = 2.; num_epoch = 5000\n",
        "ihmf_pve = Info_Hier_Meanfield_PVE_NN(num_feature, num_hidden_nodes, k_min, k_max, tau, alpha_s, beta_s, alpha_t, beta_t)\n",
        "training_error_ihmf_pve, test_error_ihmf_pve = training_nn(ihmf_pve, x, y, x_test, y_test,learning_rate, batch_size, num_epoch)\n",
        "\n",
        "np.mean(PVE_test_noise(ihmf_pve, x_test, y_test))\n",
        "\n",
        "print(\"train error : \", training_error_ihmf_pve[-1])\n",
        "print(\"test error : \", test_error_ihmf_pve[-1])"
      ],
      "metadata": {
        "colab": {
          "base_uri": "https://localhost:8080/"
        },
        "id": "Gx1bRHjZDYT2",
        "outputId": "a54b4ac0-c22a-41ab-adec-b036bbd65030"
      },
      "execution_count": null,
      "outputs": [
        {
          "output_type": "stream",
          "name": "stdout",
          "text": [
            "EPOACH 1: TRAIN LOSS: 1.8227; KL REG: 19304.8145; TEST LOSS IS: 1.85349.\n",
            "EPOACH 501: TRAIN LOSS: 0.8981; KL REG: 1284.9641; TEST LOSS IS: 0.85893.\n",
            "EPOACH 1001: TRAIN LOSS: 0.9048; KL REG: 201.7946; TEST LOSS IS: 0.85066.\n",
            "EPOACH 1501: TRAIN LOSS: 0.9068; KL REG: 95.3896; TEST LOSS IS: 0.85258.\n",
            "EPOACH 2001: TRAIN LOSS: 0.8892; KL REG: 104.7479; TEST LOSS IS: 0.85216.\n",
            "EPOACH 2501: TRAIN LOSS: 0.8829; KL REG: 99.6151; TEST LOSS IS: 0.85861.\n",
            "EPOACH 3001: TRAIN LOSS: 0.8815; KL REG: 86.7155; TEST LOSS IS: 0.85037.\n",
            "EPOACH 3501: TRAIN LOSS: 0.8825; KL REG: 94.6708; TEST LOSS IS: 0.85421.\n",
            "EPOACH 4001: TRAIN LOSS: 0.8832; KL REG: 85.5513; TEST LOSS IS: 0.84809.\n",
            "EPOACH 4501: TRAIN LOSS: 0.8826; KL REG: 94.6005; TEST LOSS IS: 0.85696.\n",
            "train error :  tensor(0.8836)\n",
            "test error :  tensor(0.8516)\n"
          ]
        }
      ]
    },
    {
      "cell_type": "markdown",
      "source": [
        "Hierarchical meanfield BNN"
      ],
      "metadata": {
        "id": "Cmm44eKlDYhM"
      }
    },
    {
      "cell_type": "code",
      "source": [
        "beta_t = 0.202; alpha_t = 2.; num_epoch = 5000\n",
        "hmf = Hier_Meanfield_NN(num_feature, num_hidden_nodes, alpha_s, beta_s, alpha_t, beta_t)\n",
        "training_error_hmf, test_error_hmf = training_nn(hmf, x, y, x_test, y_test,learning_rate, batch_size, num_epoch)\n",
        "\n",
        "np.mean(PVE_test_noise(hmf, x_test, y_test))\n",
        "\n",
        "print(\"train error : \", training_error_hmf[-1])\n",
        "print(\"test error : \", test_error_hmf[-1])"
      ],
      "metadata": {
        "colab": {
          "base_uri": "https://localhost:8080/"
        },
        "id": "Yj8OUa2ODYrN",
        "outputId": "66bfdc95-fd02-4e98-bb7a-f7198ba40c1e"
      },
      "execution_count": null,
      "outputs": [
        {
          "output_type": "stream",
          "name": "stdout",
          "text": [
            "EPOACH 1: TRAIN LOSS: 2.2061; KL REG: 18729.2812; TEST LOSS IS: 1.68661.\n",
            "EPOACH 501: TRAIN LOSS: 0.7711; KL REG: 1525.3939; TEST LOSS IS: 0.88255.\n",
            "EPOACH 1001: TRAIN LOSS: 0.9192; KL REG: 150.9144; TEST LOSS IS: 0.85140.\n",
            "EPOACH 1501: TRAIN LOSS: 0.8824; KL REG: 125.4764; TEST LOSS IS: 0.83632.\n",
            "EPOACH 2001: TRAIN LOSS: 0.8493; KL REG: 124.5978; TEST LOSS IS: 0.83802.\n",
            "EPOACH 2501: TRAIN LOSS: 0.8437; KL REG: 125.1223; TEST LOSS IS: 0.84765.\n",
            "EPOACH 3001: TRAIN LOSS: 0.8468; KL REG: 124.8957; TEST LOSS IS: 0.84401.\n",
            "EPOACH 3501: TRAIN LOSS: 0.8455; KL REG: 124.4293; TEST LOSS IS: 0.83823.\n",
            "EPOACH 4001: TRAIN LOSS: 0.8425; KL REG: 123.7731; TEST LOSS IS: 0.84344.\n",
            "EPOACH 4501: TRAIN LOSS: 0.8475; KL REG: 122.8216; TEST LOSS IS: 0.83721.\n",
            "train error :  tensor(0.8386)\n",
            "test error :  tensor(0.8490)\n"
          ]
        }
      ]
    },
    {
      "cell_type": "markdown",
      "source": [
        "Informative Hierarchical meanfield BNN"
      ],
      "metadata": {
        "id": "SsP9tMDmDY21"
      }
    },
    {
      "cell_type": "code",
      "source": [
        "beta_t = 0.202; alpha_t = 2.; num_epoch = 5000\n",
        "ihmf = Info_Hier_Meanfield_NN(num_feature, num_hidden_nodes, k_min, k_max, tau, alpha_s, beta_s, alpha_t, beta_t)\n",
        "training_error_ihmf, test_error_ihmf = training_nn(ihmf, x, y, x_test, y_test,learning_rate, batch_size, num_epoch)\n",
        "\n",
        "np.mean(PVE_test_noise(ihmf, x_test, y_test))\n",
        "\n",
        "print(\"train error : \", training_error_ihmf[-1])\n",
        "print(\"test error : \", test_error_ihmf[-1])"
      ],
      "metadata": {
        "colab": {
          "base_uri": "https://localhost:8080/"
        },
        "id": "GAf3d-59DZBO",
        "outputId": "253c5af6-0f89-4587-cb1d-7473c8a29ace"
      },
      "execution_count": null,
      "outputs": [
        {
          "output_type": "stream",
          "name": "stdout",
          "text": [
            "EPOACH 1: TRAIN LOSS: 1.9212; KL REG: 19300.0566; TEST LOSS IS: 1.77046.\n",
            "EPOACH 501: TRAIN LOSS: 0.8868; KL REG: 1474.5807; TEST LOSS IS: 0.83475.\n",
            "EPOACH 1001: TRAIN LOSS: 0.8894; KL REG: 218.8289; TEST LOSS IS: 0.84828.\n",
            "EPOACH 1501: TRAIN LOSS: 0.8853; KL REG: 100.2793; TEST LOSS IS: 0.85181.\n",
            "EPOACH 2001: TRAIN LOSS: 0.8819; KL REG: 94.5903; TEST LOSS IS: 0.85751.\n",
            "EPOACH 2501: TRAIN LOSS: 0.8803; KL REG: 100.4030; TEST LOSS IS: 0.85959.\n",
            "EPOACH 3001: TRAIN LOSS: 0.8800; KL REG: 109.7294; TEST LOSS IS: 0.85683.\n",
            "EPOACH 3501: TRAIN LOSS: 0.8805; KL REG: 87.0853; TEST LOSS IS: 0.84977.\n",
            "EPOACH 4001: TRAIN LOSS: 0.8850; KL REG: 95.6792; TEST LOSS IS: 0.84764.\n",
            "EPOACH 4501: TRAIN LOSS: 0.8828; KL REG: 94.4499; TEST LOSS IS: 0.84860.\n",
            "train error :  tensor(0.8829)\n",
            "test error :  tensor(0.8491)\n"
          ]
        }
      ]
    },
    {
      "cell_type": "markdown",
      "source": [
        "Hierarchical Meanfield PVE BNN"
      ],
      "metadata": {
        "id": "yPyI003GDZOZ"
      }
    },
    {
      "cell_type": "code",
      "source": [
        "beta_t = 0.202; alpha_t = 2.; num_epoch = 5000\n",
        "hmf_pve = Hier_Meanfield_PVE_NN(num_feature, num_hidden_nodes, alpha_s, beta_s, alpha_t, beta_t)\n",
        "training_error_hmf_pve, test_error_hmf_pve = training_nn(hmf_pve, x, y, x_test, y_test,learning_rate, batch_size, num_epoch)\n",
        "\n",
        "np.mean(PVE_test_noise(hmf_pve, x_test, y_test))\n",
        "\n",
        "print(\"train error : \", training_error_hmf_pve[-1])\n",
        "print(\"test error : \", test_error_hmf_pve[-1])"
      ],
      "metadata": {
        "colab": {
          "base_uri": "https://localhost:8080/"
        },
        "id": "62n3aDE-DZZT",
        "outputId": "6a0b96b3-8ec3-4033-aec3-8a5a64e37f78"
      },
      "execution_count": null,
      "outputs": [
        {
          "output_type": "stream",
          "name": "stdout",
          "text": [
            "EPOACH 1: TRAIN LOSS: 1.8019; KL REG: 18657.2148; TEST LOSS IS: 1.44625.\n",
            "EPOACH 501: TRAIN LOSS: 0.7783; KL REG: 1334.6270; TEST LOSS IS: 0.87692.\n",
            "EPOACH 1001: TRAIN LOSS: 0.8904; KL REG: 145.2818; TEST LOSS IS: 0.83845.\n",
            "EPOACH 1501: TRAIN LOSS: 0.8502; KL REG: 129.1942; TEST LOSS IS: 0.84577.\n",
            "EPOACH 2001: TRAIN LOSS: 0.8492; KL REG: 128.7057; TEST LOSS IS: 0.83977.\n",
            "EPOACH 2501: TRAIN LOSS: 0.8455; KL REG: 127.0214; TEST LOSS IS: 0.84150.\n",
            "EPOACH 3001: TRAIN LOSS: 0.8465; KL REG: 126.7169; TEST LOSS IS: 0.84263.\n",
            "EPOACH 3501: TRAIN LOSS: 0.8459; KL REG: 125.2531; TEST LOSS IS: 0.84353.\n",
            "EPOACH 4001: TRAIN LOSS: 0.8444; KL REG: 125.8002; TEST LOSS IS: 0.84424.\n",
            "EPOACH 4501: TRAIN LOSS: 0.8454; KL REG: 124.8743; TEST LOSS IS: 0.84891.\n",
            "train error :  tensor(0.8456)\n",
            "test error :  tensor(0.8400)\n"
          ]
        }
      ]
    },
    {
      "cell_type": "markdown",
      "source": [
        "recap pour dataset concrete: \n",
        "\n",
        "|prior       |  test error sans bruit    |    test error avec bruit |\n",
        "|------------|----------------|---------------|\n",
        "|HMF         |   0.1220       |      0.8490   |\n",
        "|HMF + PVE   |   0.1330       |      0.8400   |\n",
        "|IHMF        |   0.1432       |      0.8491   |\n",
        "|IHMF + PVE  |   0.1322       |      0.8516   | "
      ],
      "metadata": {
        "id": "vTd331uDJeMo"
      }
    },
    {
      "cell_type": "markdown",
      "source": [
        "# test avec Boston dataset"
      ],
      "metadata": {
        "id": "4Q5lh6UNe3Ff"
      }
    },
    {
      "cell_type": "code",
      "source": [
        "from sklearn import preprocessing\n",
        "import torch\n",
        "import numpy as np\n",
        "import pandas as pd\n",
        "\n",
        "def data_generating_yacht(data_path, num_random, noise_level):\n",
        "    df = pd.read_fwf(data_path + \"yacht_hydrodynamics.data\", sep=\",\")\n",
        "    # df = df.drop(['Unnamed: 10','Unnamed: 11','Y1'], axis = 1)\n",
        "    df.set_axis([\"x1\", \"x2\", \"x3\",\"x4\", \"x5\", \"x6\",\"x7\"],\n",
        "                    axis=1,inplace=True)\n",
        "    df = df.dropna(axis=0)\n",
        "    np.random.seed(129)\n",
        "    msk_1 = np.random.rand(len(df)) < 0.8\n",
        "    traindf = df[msk_1]\n",
        "    testdf = df[~msk_1]\n",
        "    print(df, df.columns)\n",
        "    # training set\n",
        "    trainx = traindf.drop('x7', axis=1).values\n",
        "    trainy = traindf['x7'].values\n",
        "    # test set\n",
        "    testx = testdf.drop('x7', axis=1).values\n",
        "    testy = testdf['x7'].values\n",
        "\n",
        "    scalerx = preprocessing.StandardScaler().fit(trainx)\n",
        "    trainx = scalerx.transform(trainx)\n",
        "    testx = scalerx.transform(testx)\n",
        "\n",
        "    scalery = preprocessing.StandardScaler().fit(trainy.reshape(-1,1))\n",
        "    trainy = scalery.transform(trainy.reshape(-1,1)).reshape(1, -1)\n",
        "    testy = scalery.transform(testy.reshape(-1,1)).reshape(1, -1)\n",
        "    \n",
        "    # transfer data into tensor\n",
        "    x = torch.tensor(trainx, dtype = torch.float)\n",
        "    y = torch.tensor(trainy[0], dtype = torch.float).view(-1,1)\n",
        "    x_test = torch.tensor(testx, dtype = torch.float)\n",
        "    y_test = torch.tensor(testy[0], dtype = torch.float).view(-1,1)\n",
        "    \n",
        "    if num_random != 0:\n",
        "        rand_features = torch.randn(x.shape[0], num_random) * 2\n",
        "        x = torch.cat((x, rand_features), 1)\n",
        "        rand_features = torch.randn(x_test.shape[0], num_random) *2\n",
        "        x_test = torch.cat((x_test, rand_features), 1)\n",
        "    \n",
        "    if noise_level != 0:\n",
        "        noise = torch.randn_like(y) * np.sqrt(noise_level); noise_test = torch.randn_like(y_test) * np.sqrt(noise_level)\n",
        "        y = y * np.sqrt(1-noise_level) + noise; y_test = y_test * np.sqrt(1-noise_level) + noise_test;     \n",
        "        \n",
        "    num_useful = 6.; num_feature = x.shape[1]\n",
        "\n",
        "    return x, y, x_test, y_test, num_useful, num_feature"
      ],
      "metadata": {
        "id": "ur0YcKkAe2cn"
      },
      "execution_count": 8,
      "outputs": []
    },
    {
      "cell_type": "markdown",
      "source": [
        "Sans bruit"
      ],
      "metadata": {
        "id": "OCONhrvnicYY"
      }
    },
    {
      "cell_type": "code",
      "source": [
        "path_data = os.getcwd() + '/informative_prior/data/'\n",
        "########### Training Hyperparameters\n",
        "num_hidden_nodes = [20, 20]; alpha_s = 0.001; beta_s = 0.001\n",
        "learning_rate = 1e-3\n",
        "batch_size = 98\n",
        "###########\n",
        "num_random = 0; noise_level = 0\n",
        "## Load the data\n",
        "x, y, x_test, y_test, num_useful, num_feature = data_generating_yacht(path_data, num_random, noise_level)"
      ],
      "metadata": {
        "colab": {
          "base_uri": "https://localhost:8080/"
        },
        "id": "U6Z3VgS6fx1K",
        "outputId": "b2a8e9dc-e9f1-438b-9fed-94136e234a65"
      },
      "execution_count": null,
      "outputs": [
        {
          "output_type": "stream",
          "name": "stdout",
          "text": [
            "      x1     x2    x3    x4    x5     x6     x7\n",
            "0   -2.3  0.568  4.78  3.99  3.17  0.150   0.27\n",
            "1   -2.3  0.568  4.78  3.99  3.17  0.175   0.47\n",
            "2   -2.3  0.568  4.78  3.99  3.17  0.200   0.78\n",
            "3   -2.3  0.568  4.78  3.99  3.17  0.225   1.18\n",
            "4   -2.3  0.568  4.78  3.99  3.17  0.250   1.82\n",
            "..   ...    ...   ...   ...   ...    ...    ...\n",
            "302 -2.3  0.600  4.34  4.23  2.73  0.350   8.47\n",
            "303 -2.3  0.600  4.34  4.23  2.73  0.375  12.27\n",
            "304 -2.3  0.600  4.34  4.23  2.73  0.400  19.59\n",
            "305 -2.3  0.600  4.34  4.23  2.73  0.425  30.48\n",
            "306 -2.3  0.600  4.34  4.23  2.73  0.450  46.66\n",
            "\n",
            "[307 rows x 7 columns] Index(['x1', 'x2', 'x3', 'x4', 'x5', 'x6', 'x7'], dtype='object')\n"
          ]
        }
      ]
    },
    {
      "cell_type": "code",
      "source": [
        "k_min = 0.; k_max = num_useful; tau = np.exp(2);"
      ],
      "metadata": {
        "id": "rSNhfjDBjP8Q"
      },
      "execution_count": null,
      "outputs": []
    },
    {
      "cell_type": "markdown",
      "source": [
        "IHMF PVE BNN"
      ],
      "metadata": {
        "id": "BqiZsiA2j9cR"
      }
    },
    {
      "cell_type": "code",
      "source": [
        "beta_t = 0.202; alpha_t = 2.; num_epoch = 5000\n",
        "ihmf_pve = Info_Hier_Meanfield_PVE_NN(num_feature, num_hidden_nodes, k_min, k_max, tau, alpha_s, beta_s, alpha_t, beta_t)\n",
        "training_error_ihmf_pve, test_error_ihmf_pve = training_nn(ihmf_pve, x, y, x_test, y_test,learning_rate, batch_size, num_epoch)\n",
        "\n",
        "np.mean(PVE_test_noise(ihmf_pve, x_test, y_test))\n",
        "\n",
        "print(\"train error : \", training_error_ihmf_pve[-1])\n",
        "print(\"test error : \", test_error_ihmf_pve[-1])"
      ],
      "metadata": {
        "colab": {
          "base_uri": "https://localhost:8080/"
        },
        "id": "aU3JI0TqiePZ",
        "outputId": "de74275f-6094-4870-e57f-b6d288862e98"
      },
      "execution_count": null,
      "outputs": [
        {
          "output_type": "stream",
          "name": "stdout",
          "text": [
            "EPOACH 1: TRAIN LOSS: 1.2791; KL REG: 1736.6681; TEST LOSS IS: 1.27599.\n",
            "EPOACH 501: TRAIN LOSS: 0.0736; KL REG: 1262.2556; TEST LOSS IS: 0.09754.\n",
            "EPOACH 1001: TRAIN LOSS: 0.0417; KL REG: 877.4583; TEST LOSS IS: 0.05753.\n",
            "EPOACH 1501: TRAIN LOSS: 0.0556; KL REG: 584.9332; TEST LOSS IS: 0.07303.\n",
            "EPOACH 2001: TRAIN LOSS: 0.0541; KL REG: 399.1096; TEST LOSS IS: 0.07111.\n",
            "EPOACH 2501: TRAIN LOSS: 0.0515; KL REG: 289.9283; TEST LOSS IS: 0.06655.\n",
            "EPOACH 3001: TRAIN LOSS: 0.0229; KL REG: 239.2610; TEST LOSS IS: 0.03147.\n",
            "EPOACH 3501: TRAIN LOSS: 0.0346; KL REG: 210.5213; TEST LOSS IS: 0.04686.\n",
            "EPOACH 4001: TRAIN LOSS: 0.0490; KL REG: 194.1435; TEST LOSS IS: 0.06254.\n",
            "EPOACH 4501: TRAIN LOSS: 0.0165; KL REG: 185.3762; TEST LOSS IS: 0.02370.\n",
            "train error :  tensor(0.0150)\n",
            "test error :  tensor(0.0218)\n"
          ]
        }
      ]
    },
    {
      "cell_type": "markdown",
      "source": [
        "HMF\n"
      ],
      "metadata": {
        "id": "SWcaqC82kBGL"
      }
    },
    {
      "cell_type": "code",
      "source": [
        "beta_t = 0.202; alpha_t = 2.; num_epoch = 5000\n",
        "hmf = Hier_Meanfield_NN(num_feature, num_hidden_nodes, alpha_s, beta_s, alpha_t, beta_t)\n",
        "training_error_hmf, test_error_hmf = training_nn(hmf, x, y, x_test, y_test,learning_rate, batch_size, num_epoch)\n",
        "\n",
        "np.mean(PVE_test_noise(hmf, x_test, y_test))\n",
        "\n",
        "print(\"train error : \", training_error_hmf[-1])\n",
        "print(\"test error : \", test_error_hmf[-1])"
      ],
      "metadata": {
        "colab": {
          "base_uri": "https://localhost:8080/"
        },
        "id": "qaqWcUiljWr1",
        "outputId": "0ca1c3e9-d057-4caf-8439-4dbd0d444f5d"
      },
      "execution_count": null,
      "outputs": [
        {
          "output_type": "stream",
          "name": "stdout",
          "text": [
            "EPOACH 1: TRAIN LOSS: 1.0693; KL REG: 1716.7004; TEST LOSS IS: 1.04879.\n",
            "EPOACH 501: TRAIN LOSS: 0.0649; KL REG: 1248.6761; TEST LOSS IS: 0.08918.\n",
            "EPOACH 1001: TRAIN LOSS: 0.0368; KL REG: 847.4958; TEST LOSS IS: 0.03106.\n",
            "EPOACH 1501: TRAIN LOSS: 0.0228; KL REG: 540.3195; TEST LOSS IS: 0.02328.\n",
            "EPOACH 2001: TRAIN LOSS: 0.0241; KL REG: 343.1823; TEST LOSS IS: 0.03180.\n",
            "EPOACH 2501: TRAIN LOSS: 0.0169; KL REG: 242.5416; TEST LOSS IS: 0.01772.\n",
            "EPOACH 3001: TRAIN LOSS: 0.0158; KL REG: 199.6422; TEST LOSS IS: 0.01774.\n",
            "EPOACH 3501: TRAIN LOSS: 0.0138; KL REG: 182.6156; TEST LOSS IS: 0.01642.\n",
            "EPOACH 4001: TRAIN LOSS: 0.0112; KL REG: 174.7510; TEST LOSS IS: 0.01090.\n",
            "EPOACH 4501: TRAIN LOSS: 0.0137; KL REG: 169.4141; TEST LOSS IS: 0.01857.\n",
            "train error :  tensor(0.0089)\n",
            "test error :  tensor(0.0073)\n"
          ]
        }
      ]
    },
    {
      "cell_type": "markdown",
      "source": [
        "IHMF"
      ],
      "metadata": {
        "id": "q-HEeI5fkGl7"
      }
    },
    {
      "cell_type": "code",
      "source": [
        "beta_t = 0.202; alpha_t = 2.; num_epoch = 5000\n",
        "ihmf = Info_Hier_Meanfield_NN(num_feature, num_hidden_nodes, k_min, k_max, tau, alpha_s, beta_s, alpha_t, beta_t)\n",
        "training_error_ihmf, test_error_ihmf = training_nn(ihmf, x, y, x_test, y_test,learning_rate, batch_size, num_epoch)\n",
        "\n",
        "np.mean(PVE_test_noise(ihmf, x_test, y_test))\n",
        "\n",
        "print(\"train error : \", training_error_ihmf[-1])\n",
        "print(\"test error : \", test_error_ihmf[-1])"
      ],
      "metadata": {
        "colab": {
          "base_uri": "https://localhost:8080/"
        },
        "id": "ylz2hTvkjiAd",
        "outputId": "0c83a47c-2a96-42ae-ebbe-0cd901073bfa"
      },
      "execution_count": null,
      "outputs": [
        {
          "output_type": "stream",
          "name": "stdout",
          "text": [
            "EPOACH 1: TRAIN LOSS: 2.6849; KL REG: 1712.5121; TEST LOSS IS: 2.58453.\n",
            "EPOACH 501: TRAIN LOSS: 0.1462; KL REG: 1300.3467; TEST LOSS IS: 0.20051.\n",
            "EPOACH 1001: TRAIN LOSS: 0.0836; KL REG: 897.4487; TEST LOSS IS: 0.11420.\n",
            "EPOACH 1501: TRAIN LOSS: 0.0690; KL REG: 578.8431; TEST LOSS IS: 0.08955.\n",
            "EPOACH 2001: TRAIN LOSS: 0.0654; KL REG: 361.2327; TEST LOSS IS: 0.08317.\n",
            "EPOACH 2501: TRAIN LOSS: 0.0503; KL REG: 244.8365; TEST LOSS IS: 0.06352.\n",
            "EPOACH 3001: TRAIN LOSS: 0.0601; KL REG: 191.2596; TEST LOSS IS: 0.07585.\n",
            "EPOACH 3501: TRAIN LOSS: 0.0581; KL REG: 171.8094; TEST LOSS IS: 0.07322.\n",
            "EPOACH 4001: TRAIN LOSS: 0.0439; KL REG: 159.6003; TEST LOSS IS: 0.05535.\n",
            "EPOACH 4501: TRAIN LOSS: 0.0370; KL REG: 148.9336; TEST LOSS IS: 0.04563.\n",
            "train error :  tensor(0.0358)\n",
            "test error :  tensor(0.0444)\n"
          ]
        }
      ]
    },
    {
      "cell_type": "markdown",
      "source": [
        "HMF PVE"
      ],
      "metadata": {
        "id": "7CmY9_B_kJZV"
      }
    },
    {
      "cell_type": "code",
      "source": [
        "beta_t = 0.202; alpha_t = 2.; num_epoch = 5000\n",
        "hmf_pve = Hier_Meanfield_PVE_NN(num_feature, num_hidden_nodes, alpha_s, beta_s, alpha_t, beta_t)\n",
        "training_error_hmf_pve, test_error_hmf_pve = training_nn(hmf_pve, x, y, x_test, y_test,learning_rate, batch_size, num_epoch)\n",
        "\n",
        "np.mean(PVE_test_noise(hmf_pve, x_test, y_test))\n",
        "\n",
        "print(\"train error : \", training_error_hmf_pve[-1])\n",
        "print(\"test error : \", test_error_hmf_pve[-1])"
      ],
      "metadata": {
        "colab": {
          "base_uri": "https://localhost:8080/"
        },
        "id": "GrDx3iZNjlv2",
        "outputId": "a93a362b-8c51-40e6-f9b6-310210efc229"
      },
      "execution_count": null,
      "outputs": [
        {
          "output_type": "stream",
          "name": "stdout",
          "text": [
            "EPOACH 1: TRAIN LOSS: 1.5395; KL REG: 1740.0658; TEST LOSS IS: 1.60687.\n",
            "EPOACH 501: TRAIN LOSS: 0.0389; KL REG: 1292.6877; TEST LOSS IS: 0.05061.\n",
            "EPOACH 1001: TRAIN LOSS: 0.0309; KL REG: 929.4974; TEST LOSS IS: 0.02587.\n",
            "EPOACH 1501: TRAIN LOSS: 0.0162; KL REG: 653.0522; TEST LOSS IS: 0.02017.\n",
            "EPOACH 2001: TRAIN LOSS: 0.0161; KL REG: 468.1584; TEST LOSS IS: 0.01671.\n",
            "EPOACH 2501: TRAIN LOSS: 0.0131; KL REG: 359.9362; TEST LOSS IS: 0.01704.\n",
            "EPOACH 3001: TRAIN LOSS: 0.0169; KL REG: 305.5135; TEST LOSS IS: 0.02711.\n",
            "EPOACH 3501: TRAIN LOSS: 0.0098; KL REG: 276.1526; TEST LOSS IS: 0.00747.\n",
            "EPOACH 4001: TRAIN LOSS: 0.0063; KL REG: 261.0550; TEST LOSS IS: 0.00969.\n",
            "EPOACH 4501: TRAIN LOSS: 0.0108; KL REG: 251.5705; TEST LOSS IS: 0.01851.\n",
            "train error :  tensor(0.0044)\n",
            "test error :  tensor(0.0067)\n"
          ]
        }
      ]
    },
    {
      "cell_type": "markdown",
      "source": [
        "Avec bruit"
      ],
      "metadata": {
        "id": "k2tYpKiLjnL-"
      }
    },
    {
      "cell_type": "code",
      "source": [
        "path_data = os.getcwd() + '/informative_prior/data/'\n",
        "########### Training Hyperparameters\n",
        "num_hidden_nodes = [20, 20]; alpha_s = 0.001; beta_s = 0.001\n",
        "learning_rate = 1e-3\n",
        "batch_size = 98\n",
        "###########\n",
        "num_random = 100; noise_level = 0.8\n",
        "## Load the data\n",
        "x, y, x_test, y_test, num_useful, num_feature = data_generating_yacht(path_data, num_random, noise_level)"
      ],
      "metadata": {
        "colab": {
          "base_uri": "https://localhost:8080/"
        },
        "id": "aMcoBos1jo9j",
        "outputId": "95cc8a9d-a15d-487a-fca9-6f837dd8f543"
      },
      "execution_count": null,
      "outputs": [
        {
          "output_type": "stream",
          "name": "stdout",
          "text": [
            "      x1     x2    x3    x4    x5     x6     x7\n",
            "0   -2.3  0.568  4.78  3.99  3.17  0.150   0.27\n",
            "1   -2.3  0.568  4.78  3.99  3.17  0.175   0.47\n",
            "2   -2.3  0.568  4.78  3.99  3.17  0.200   0.78\n",
            "3   -2.3  0.568  4.78  3.99  3.17  0.225   1.18\n",
            "4   -2.3  0.568  4.78  3.99  3.17  0.250   1.82\n",
            "..   ...    ...   ...   ...   ...    ...    ...\n",
            "302 -2.3  0.600  4.34  4.23  2.73  0.350   8.47\n",
            "303 -2.3  0.600  4.34  4.23  2.73  0.375  12.27\n",
            "304 -2.3  0.600  4.34  4.23  2.73  0.400  19.59\n",
            "305 -2.3  0.600  4.34  4.23  2.73  0.425  30.48\n",
            "306 -2.3  0.600  4.34  4.23  2.73  0.450  46.66\n",
            "\n",
            "[307 rows x 7 columns] Index(['x1', 'x2', 'x3', 'x4', 'x5', 'x6', 'x7'], dtype='object')\n"
          ]
        }
      ]
    },
    {
      "cell_type": "markdown",
      "source": [
        "IHMF PVE"
      ],
      "metadata": {
        "id": "dHe1BppWkMg2"
      }
    },
    {
      "cell_type": "code",
      "source": [
        "beta_t = 0.202; alpha_t = 2.; num_epoch = 5000\n",
        "ihmf_pve = Info_Hier_Meanfield_PVE_NN(num_feature, num_hidden_nodes, k_min, k_max, tau, alpha_s, beta_s, alpha_t, beta_t)\n",
        "training_error_ihmf_pve, test_error_ihmf_pve = training_nn(ihmf_pve, x, y, x_test, y_test,learning_rate, batch_size, num_epoch)\n",
        "\n",
        "np.mean(PVE_test_noise(ihmf_pve, x_test, y_test))\n",
        "\n",
        "print(\"train error : \", training_error_ihmf_pve[-1])\n",
        "print(\"test error : \", test_error_ihmf_pve[-1])"
      ],
      "metadata": {
        "colab": {
          "base_uri": "https://localhost:8080/"
        },
        "id": "1bbGyXcDjzf9",
        "outputId": "724d1783-3fb7-4d18-b227-9829a3fcdb61"
      },
      "execution_count": null,
      "outputs": [
        {
          "output_type": "stream",
          "name": "stdout",
          "text": [
            "EPOACH 1: TRAIN LOSS: 7.6438; KL REG: 8012.8223; TEST LOSS IS: 8.33469.\n",
            "EPOACH 501: TRAIN LOSS: 0.2563; KL REG: 6226.9478; TEST LOSS IS: 0.93005.\n",
            "EPOACH 1001: TRAIN LOSS: 0.3220; KL REG: 4454.8804; TEST LOSS IS: 0.88465.\n",
            "EPOACH 1501: TRAIN LOSS: 0.5343; KL REG: 2860.8542; TEST LOSS IS: 0.80855.\n",
            "EPOACH 2001: TRAIN LOSS: 0.7217; KL REG: 1717.8907; TEST LOSS IS: 0.73494.\n",
            "EPOACH 2501: TRAIN LOSS: 0.8094; KL REG: 983.7579; TEST LOSS IS: 0.70295.\n",
            "EPOACH 3001: TRAIN LOSS: 0.8493; KL REG: 629.7495; TEST LOSS IS: 0.68320.\n",
            "EPOACH 3501: TRAIN LOSS: 0.8816; KL REG: 418.2650; TEST LOSS IS: 0.68200.\n",
            "EPOACH 4001: TRAIN LOSS: 0.9023; KL REG: 347.5896; TEST LOSS IS: 0.68705.\n",
            "EPOACH 4501: TRAIN LOSS: 0.9050; KL REG: 257.3708; TEST LOSS IS: 0.68573.\n",
            "train error :  tensor(0.9234)\n",
            "test error :  tensor(0.6961)\n"
          ]
        }
      ]
    },
    {
      "cell_type": "markdown",
      "source": [
        "HMF"
      ],
      "metadata": {
        "id": "0J82MPa7kPew"
      }
    },
    {
      "cell_type": "code",
      "source": [
        "beta_t = 0.202; alpha_t = 2.; num_epoch = 5000\n",
        "hmf = Hier_Meanfield_NN(num_feature, num_hidden_nodes, alpha_s, beta_s, alpha_t, beta_t)\n",
        "training_error_hmf, test_error_hmf = training_nn(hmf, x, y, x_test, y_test,learning_rate, batch_size, num_epoch)\n",
        "\n",
        "np.mean(PVE_test_noise(hmf, x_test, y_test))\n",
        "\n",
        "print(\"train error : \", training_error_hmf[-1])\n",
        "print(\"test error : \", test_error_hmf[-1])"
      ],
      "metadata": {
        "colab": {
          "base_uri": "https://localhost:8080/"
        },
        "id": "9uV8Nngzj0U0",
        "outputId": "3a17d669-3e02-4fe8-b4c4-ecc38d466326"
      },
      "execution_count": null,
      "outputs": [
        {
          "output_type": "stream",
          "name": "stdout",
          "text": [
            "EPOACH 1: TRAIN LOSS: 3.5637; KL REG: 7250.4004; TEST LOSS IS: 3.44317.\n",
            "EPOACH 501: TRAIN LOSS: 0.2636; KL REG: 5321.3228; TEST LOSS IS: 1.00284.\n",
            "EPOACH 1001: TRAIN LOSS: 0.3117; KL REG: 3477.7097; TEST LOSS IS: 0.94411.\n",
            "EPOACH 1501: TRAIN LOSS: 0.4621; KL REG: 1973.3601; TEST LOSS IS: 0.84946.\n",
            "EPOACH 2001: TRAIN LOSS: 0.5775; KL REG: 950.0798; TEST LOSS IS: 0.79064.\n",
            "EPOACH 2501: TRAIN LOSS: 0.6719; KL REG: 405.6248; TEST LOSS IS: 0.75556.\n",
            "EPOACH 3001: TRAIN LOSS: 0.7051; KL REG: 189.9115; TEST LOSS IS: 0.73322.\n",
            "EPOACH 3501: TRAIN LOSS: 0.7412; KL REG: 120.5738; TEST LOSS IS: 0.70944.\n",
            "EPOACH 4001: TRAIN LOSS: 0.7487; KL REG: 96.8037; TEST LOSS IS: 0.69671.\n",
            "EPOACH 4501: TRAIN LOSS: 0.7636; KL REG: 85.4576; TEST LOSS IS: 0.69074.\n",
            "train error :  tensor(0.7811)\n",
            "test error :  tensor(0.6821)\n"
          ]
        }
      ]
    },
    {
      "cell_type": "markdown",
      "source": [
        "IHMF"
      ],
      "metadata": {
        "id": "6KI8hUApkRnY"
      }
    },
    {
      "cell_type": "code",
      "source": [
        "beta_t = 0.202; alpha_t = 2.; num_epoch = 5000\n",
        "ihmf = Info_Hier_Meanfield_NN(num_feature, num_hidden_nodes, k_min, k_max, tau, alpha_s, beta_s, alpha_t, beta_t)\n",
        "training_error_ihmf, test_error_ihmf = training_nn(ihmf, x, y, x_test, y_test,learning_rate, batch_size, num_epoch)\n",
        "\n",
        "np.mean(PVE_test_noise(ihmf, x_test, y_test))\n",
        "\n",
        "print(\"train error : \", training_error_ihmf[-1])\n",
        "print(\"test error : \", test_error_ihmf[-1])"
      ],
      "metadata": {
        "colab": {
          "base_uri": "https://localhost:8080/"
        },
        "id": "QSGtHXIaj0dd",
        "outputId": "6dd6b327-4d9a-497c-e35a-dcc18d8ca2be"
      },
      "execution_count": null,
      "outputs": [
        {
          "output_type": "stream",
          "name": "stdout",
          "text": [
            "EPOACH 1: TRAIN LOSS: 8.6048; KL REG: 7953.6333; TEST LOSS IS: 7.79482.\n",
            "EPOACH 501: TRAIN LOSS: 0.3880; KL REG: 6162.5103; TEST LOSS IS: 0.97443.\n",
            "EPOACH 1001: TRAIN LOSS: 0.4481; KL REG: 4357.0283; TEST LOSS IS: 0.84634.\n",
            "EPOACH 1501: TRAIN LOSS: 0.6361; KL REG: 2775.2842; TEST LOSS IS: 0.75604.\n",
            "EPOACH 2001: TRAIN LOSS: 0.7552; KL REG: 1539.4897; TEST LOSS IS: 0.71744.\n",
            "EPOACH 2501: TRAIN LOSS: 0.8126; KL REG: 907.9213; TEST LOSS IS: 0.69310.\n",
            "EPOACH 3001: TRAIN LOSS: 0.8519; KL REG: 559.4984; TEST LOSS IS: 0.68336.\n",
            "EPOACH 3501: TRAIN LOSS: 0.8608; KL REG: 398.7080; TEST LOSS IS: 0.67629.\n",
            "EPOACH 4001: TRAIN LOSS: 0.8809; KL REG: 342.0112; TEST LOSS IS: 0.67757.\n",
            "EPOACH 4501: TRAIN LOSS: 0.8852; KL REG: 268.6686; TEST LOSS IS: 0.67787.\n",
            "train error :  tensor(0.8958)\n",
            "test error :  tensor(0.6814)\n"
          ]
        }
      ]
    },
    {
      "cell_type": "markdown",
      "source": [
        "HMF PVE"
      ],
      "metadata": {
        "id": "PMtNt8ypkUQV"
      }
    },
    {
      "cell_type": "code",
      "source": [
        "beta_t = 0.202; alpha_t = 2.; num_epoch = 5000\n",
        "hmf_pve = Hier_Meanfield_PVE_NN(num_feature, num_hidden_nodes, alpha_s, beta_s, alpha_t, beta_t)\n",
        "training_error_hmf_pve, test_error_hmf_pve = training_nn(hmf_pve, x, y, x_test, y_test,learning_rate, batch_size, num_epoch)\n",
        "\n",
        "np.mean(PVE_test_noise(hmf_pve, x_test, y_test))\n",
        "\n",
        "print(\"train error : \", training_error_hmf_pve[-1])\n",
        "print(\"test error : \", test_error_hmf_pve[-1])"
      ],
      "metadata": {
        "colab": {
          "base_uri": "https://localhost:8080/"
        },
        "id": "gDUVIb1ej0n8",
        "outputId": "e030d0c4-b564-46c8-b28c-3f6da1ab18e9"
      },
      "execution_count": null,
      "outputs": [
        {
          "output_type": "stream",
          "name": "stdout",
          "text": [
            "EPOACH 1: TRAIN LOSS: 3.5968; KL REG: 7256.1016; TEST LOSS IS: 3.78446.\n",
            "EPOACH 501: TRAIN LOSS: 0.1775; KL REG: 5340.5659; TEST LOSS IS: 1.06666.\n",
            "EPOACH 1001: TRAIN LOSS: 0.1875; KL REG: 3578.0051; TEST LOSS IS: 0.97248.\n",
            "EPOACH 1501: TRAIN LOSS: 0.3431; KL REG: 2125.3855; TEST LOSS IS: 0.86127.\n",
            "EPOACH 2001: TRAIN LOSS: 0.5341; KL REG: 1074.2607; TEST LOSS IS: 0.80593.\n",
            "EPOACH 2501: TRAIN LOSS: 0.6905; KL REG: 474.3228; TEST LOSS IS: 0.77308.\n",
            "EPOACH 3001: TRAIN LOSS: 0.7557; KL REG: 217.1909; TEST LOSS IS: 0.73969.\n",
            "EPOACH 3501: TRAIN LOSS: 0.7828; KL REG: 128.7368; TEST LOSS IS: 0.70705.\n",
            "EPOACH 4001: TRAIN LOSS: 0.7997; KL REG: 97.1980; TEST LOSS IS: 0.69169.\n",
            "EPOACH 4501: TRAIN LOSS: 0.8202; KL REG: 83.3859; TEST LOSS IS: 0.68517.\n",
            "train error :  tensor(0.8190)\n",
            "test error :  tensor(0.6774)\n"
          ]
        }
      ]
    },
    {
      "cell_type": "markdown",
      "source": [
        "recap pour dataset yacht: \n",
        "\n",
        "|prior       |  test error sans bruit    |    test error avec bruit |\n",
        "|------------|----------------|---------------|\n",
        "|HMF         |   0.0073       |      0.6821   |\n",
        "|HMF + PVE   |   0.0067       |      0.6774   |\n",
        "|IHMF        |   0.0444       |      0.6814   |\n",
        "|IHMF + PVE  |   0.0218       |      0.6961   | "
      ],
      "metadata": {
        "id": "ELmehAwBkZQw"
      }
    },
    {
      "cell_type": "markdown",
      "source": [
        "critiques : c de la merde ==> beaucoup de travail pour pas beaucoup de résultat.\n"
      ],
      "metadata": {
        "id": "wlW2GChAoEoK"
      }
    },
    {
      "cell_type": "markdown",
      "source": [
        "# boucle pour études stats des résultats"
      ],
      "metadata": {
        "id": "QgVvtbNAo9Sq"
      }
    },
    {
      "cell_type": "code",
      "source": [
        "from statistics import mean\n",
        "import time"
      ],
      "metadata": {
        "id": "CX1pV7Z2rXt_"
      },
      "execution_count": 9,
      "outputs": []
    },
    {
      "cell_type": "code",
      "source": [
        "def mean_list(L):\n",
        "  return sum(L) / len(L)"
      ],
      "metadata": {
        "id": "eMzA-tNtfaHu"
      },
      "execution_count": 15,
      "outputs": []
    },
    {
      "cell_type": "code",
      "source": [
        "L1 = [0,1,2,3,4,5,6,7,8,9]\n",
        "L2 = [2]\n",
        "L3 = [10.5,1.5]\n",
        "\n",
        "print(mean_list(L1))\n",
        "print(mean_list(L2))\n",
        "print(mean_list(L3))"
      ],
      "metadata": {
        "id": "GHLF0wRmfndO",
        "outputId": "bbdc76f2-c609-4d64-a872-16767af1b3f1",
        "colab": {
          "base_uri": "https://localhost:8080/"
        }
      },
      "execution_count": 16,
      "outputs": [
        {
          "output_type": "stream",
          "name": "stdout",
          "text": [
            "4.5\n",
            "2.0\n",
            "6.0\n"
          ]
        }
      ]
    },
    {
      "cell_type": "markdown",
      "source": [
        "Energy dataset avec bruit"
      ],
      "metadata": {
        "id": "9BKrXZnIpUf8"
      }
    },
    {
      "cell_type": "code",
      "source": [
        "num_simu = 10\n",
        "\n",
        "list_test_error_hmf = []\n",
        "list_test_error_ihmf = []\n",
        "list_test_error_hmf_pve = []\n",
        "list_test_error_ihmf_pve = []\n",
        "\n",
        "list_time_hmf = []\n",
        "list_time_ihmf = []\n",
        "list_time_hmf_pve = []\n",
        "list_time_ihmf_pve = []\n",
        "\n",
        "path_data = os.getcwd() + '/informative_prior/data/'\n",
        "########### Training Hyperparameters\n",
        "num_hidden_nodes = [50, 30]; alpha_s = 0.001; beta_s = 0.001\n",
        "learning_rate = 2*1e-3\n",
        "batch_size = 100\n",
        "###########\n",
        "num_random = 100; noise_level = 0.8\n",
        "## Load the data\n",
        "x, y, x_test, y_test, num_useful, num_feature = data_generating_energy(path_data, num_random, noise_level)\n",
        "k_min = 0.; k_max = num_useful; tau = np.exp(2);\n",
        "beta_t = 0.202; alpha_t = 2.; num_epoch = 5000\n",
        "\n",
        "for i in range(num_simu):\n",
        "  print(\"training IHMF + PVE - simu : \", i,\" / \", num_simu-1)\n",
        "  start = time.time()\n",
        "  ihmf_pve = Info_Hier_Meanfield_PVE_NN(num_feature, num_hidden_nodes, k_min, k_max, tau, alpha_s, beta_s, alpha_t, beta_t)\n",
        "  training_error_ihmf_pve, test_error_ihmf_pve = training_nn(ihmf_pve, x, y, x_test, y_test,learning_rate, batch_size, num_epoch)\n",
        "  exe_time_ihmf_pve = time.time() - start\n",
        "  list_time_ihmf_pve.append(exe_time_ihmf_pve)\n",
        "\n",
        "  print(\"training HMF - simu : \", i,\" / \", num_simu-1)\n",
        "  start = time.time()\n",
        "  hmf = Hier_Meanfield_NN(num_feature, num_hidden_nodes, alpha_s, beta_s, alpha_t, beta_t)\n",
        "  training_error_hmf, test_error_hmf = training_nn(hmf, x, y, x_test, y_test,learning_rate, batch_size, num_epoch)\n",
        "  exe_time_hmf = time.time() - start\n",
        "  list_time_hmf.append(exe_time_hmf)\n",
        "\n",
        "  print(\"training IHMF - simu : \", i,\" / \", num_simu-1)\n",
        "  start = time.time()\n",
        "  ihmf = Info_Hier_Meanfield_NN(num_feature, num_hidden_nodes, k_min, k_max, tau, alpha_s, beta_s, alpha_t, beta_t)\n",
        "  training_error_ihmf, test_error_ihmf = training_nn(ihmf, x, y, x_test, y_test,learning_rate, batch_size, num_epoch)\n",
        "  exe_time_ihmf = time.time() - start\n",
        "  list_time_ihmf.append(exe_time_ihmf)\n",
        "\n",
        "  print(\"training HMF + PVE - simu : \", i,\" / \", num_simu-1)\n",
        "  start = time.time()\n",
        "  hmf_pve = Hier_Meanfield_PVE_NN(num_feature, num_hidden_nodes, alpha_s, beta_s, alpha_t, beta_t)\n",
        "  training_error_hmf_pve, test_error_hmf_pve = training_nn(hmf_pve, x, y, x_test, y_test,learning_rate, batch_size, num_epoch)\n",
        "  exe_time_hmf_pve = time.time() - start\n",
        "  list_time_hmf_pve.append(exe_time_hmf_pve)\n",
        "\n",
        "  list_test_error_hmf.append(test_error_hmf[-1])\n",
        "  list_test_error_ihmf.append(test_error_ihmf[-1])\n",
        "  list_test_error_hmf_pve.append(test_error_hmf_pve[-1])\n",
        "  list_test_error_ihmf_pve.append(test_error_ihmf_pve[-1])\n",
        "\n",
        "  print(\"Resultats intermédiaire  : Energy dataset avec bruit- simu : \", i,\" / \", num_simu-1)\n",
        "  print(\"moyenne test error HMF\", mean_list(list_test_error_hmf), \" / temps d'exécution : \", mean_list(list_time_ihmf_pve))\n",
        "  print(\"moyenne test error IHMF\", mean_list(list_test_error_ihmf), \" / temps d'exécution : \", mean_list(list_time_hmf))\n",
        "  print(\"moyenne test error HMF + PVE\", mean_list(list_test_error_hmf_pve), \" / temps d'exécution : \", mean_list(list_time_ihmf))\n",
        "  print(\"moyenne test error IHMF + PVE\", mean_list(list_test_error_ihmf_pve), \" / temps d'exécution : \", mean_list(list_time_hmf_pve))\n",
        "\n",
        "print(\"Resultats finaux : Energy dataset avec bruit\")\n",
        "print(\"moyenne test error HMF\", mean_list(list_test_error_hmf), \" / temps d'exécution : \", mean_list(list_time_ihmf_pve))\n",
        "print(\"moyenne test error IHMF\", mean_list(list_test_error_ihmf), \" / temps d'exécution : \", mean_list(list_time_hmf))\n",
        "print(\"moyenne test error HMF + PVE\", mean_list(list_test_error_hmf_pve), \" / temps d'exécution : \", mean_list(list_time_ihmf))\n",
        "print(\"moyenne test error IHMF + PVE\", mean_list(list_test_error_ihmf_pve), \" / temps d'exécution : \", mean_list(list_time_hmf_pve))"
      ],
      "metadata": {
        "colab": {
          "base_uri": "https://localhost:8080/"
        },
        "id": "JcDYVkkoo8OG",
        "outputId": "a45da5b3-e825-473b-b0b5-cfca316a49f4"
      },
      "execution_count": 18,
      "outputs": [
        {
          "output_type": "stream",
          "name": "stdout",
          "text": [
            "training IHMF + PVE - simu :  0  /  9\n",
            "EPOACH 1: TRAIN LOSS: 1.5034; KL REG: 19403.1055; TEST LOSS IS: 1.68327.\n",
            "EPOACH 501: TRAIN LOSS: 0.8597; KL REG: 2270.0654; TEST LOSS IS: 0.80369.\n",
            "EPOACH 1001: TRAIN LOSS: 0.9017; KL REG: 320.2649; TEST LOSS IS: 0.80161.\n",
            "EPOACH 1501: TRAIN LOSS: 0.9010; KL REG: 189.9370; TEST LOSS IS: 0.80015.\n",
            "EPOACH 2001: TRAIN LOSS: 0.8896; KL REG: 118.6710; TEST LOSS IS: 0.79176.\n",
            "EPOACH 2501: TRAIN LOSS: 0.8726; KL REG: 87.7526; TEST LOSS IS: 0.78116.\n",
            "EPOACH 3001: TRAIN LOSS: 0.8665; KL REG: 79.1328; TEST LOSS IS: 0.78106.\n",
            "EPOACH 3501: TRAIN LOSS: 0.8648; KL REG: 83.2391; TEST LOSS IS: 0.77866.\n",
            "EPOACH 4001: TRAIN LOSS: 0.8672; KL REG: 90.2817; TEST LOSS IS: 0.77862.\n",
            "EPOACH 4501: TRAIN LOSS: 0.8675; KL REG: 75.7623; TEST LOSS IS: 0.77881.\n",
            "training HMF - simu :  0  /  9\n",
            "EPOACH 1: TRAIN LOSS: 4.4219; KL REG: 18707.8574; TEST LOSS IS: 4.76642.\n",
            "EPOACH 501: TRAIN LOSS: 0.7487; KL REG: 2482.2231; TEST LOSS IS: 0.80980.\n",
            "EPOACH 1001: TRAIN LOSS: 0.8650; KL REG: 201.5506; TEST LOSS IS: 0.78813.\n",
            "EPOACH 1501: TRAIN LOSS: 0.8726; KL REG: 129.3159; TEST LOSS IS: 0.79013.\n",
            "EPOACH 2001: TRAIN LOSS: 0.8541; KL REG: 116.8497; TEST LOSS IS: 0.78324.\n",
            "EPOACH 2501: TRAIN LOSS: 0.8578; KL REG: 112.0889; TEST LOSS IS: 0.78712.\n",
            "EPOACH 3001: TRAIN LOSS: 0.8447; KL REG: 108.9845; TEST LOSS IS: 0.79443.\n",
            "EPOACH 3501: TRAIN LOSS: 0.8450; KL REG: 108.1724; TEST LOSS IS: 0.78694.\n",
            "EPOACH 4001: TRAIN LOSS: 0.8429; KL REG: 107.4275; TEST LOSS IS: 0.78841.\n",
            "EPOACH 4501: TRAIN LOSS: 0.8449; KL REG: 107.4458; TEST LOSS IS: 0.78990.\n",
            "training IHMF - simu :  0  /  9\n",
            "EPOACH 1: TRAIN LOSS: 1.5560; KL REG: 19442.0684; TEST LOSS IS: 1.43317.\n",
            "EPOACH 501: TRAIN LOSS: 0.8503; KL REG: 2296.7397; TEST LOSS IS: 0.82582.\n",
            "EPOACH 1001: TRAIN LOSS: 0.8842; KL REG: 293.9201; TEST LOSS IS: 0.79176.\n",
            "EPOACH 1501: TRAIN LOSS: 0.8779; KL REG: 116.3396; TEST LOSS IS: 0.78490.\n",
            "EPOACH 2001: TRAIN LOSS: 0.8696; KL REG: 105.3306; TEST LOSS IS: 0.77956.\n",
            "EPOACH 2501: TRAIN LOSS: 0.8714; KL REG: 82.3498; TEST LOSS IS: 0.78197.\n",
            "EPOACH 3001: TRAIN LOSS: 0.8663; KL REG: 82.2277; TEST LOSS IS: 0.77874.\n",
            "EPOACH 3501: TRAIN LOSS: 0.8639; KL REG: 84.5275; TEST LOSS IS: 0.77784.\n",
            "EPOACH 4001: TRAIN LOSS: 0.8679; KL REG: 71.8167; TEST LOSS IS: 0.77948.\n",
            "EPOACH 4501: TRAIN LOSS: 0.8647; KL REG: 71.5623; TEST LOSS IS: 0.77924.\n",
            "training HMF + PVE - simu :  0  /  9\n",
            "EPOACH 1: TRAIN LOSS: 3.6307; KL REG: 18726.1992; TEST LOSS IS: 3.97493.\n",
            "EPOACH 501: TRAIN LOSS: 0.7412; KL REG: 2426.4553; TEST LOSS IS: 0.80291.\n",
            "EPOACH 1001: TRAIN LOSS: 0.8805; KL REG: 189.1400; TEST LOSS IS: 0.79490.\n",
            "EPOACH 1501: TRAIN LOSS: 0.8784; KL REG: 126.1857; TEST LOSS IS: 0.79457.\n",
            "EPOACH 2001: TRAIN LOSS: 0.8607; KL REG: 116.8722; TEST LOSS IS: 0.78704.\n",
            "EPOACH 2501: TRAIN LOSS: 0.8523; KL REG: 113.7563; TEST LOSS IS: 0.78537.\n",
            "EPOACH 3001: TRAIN LOSS: 0.8486; KL REG: 111.1264; TEST LOSS IS: 0.78941.\n",
            "EPOACH 3501: TRAIN LOSS: 0.8579; KL REG: 108.3487; TEST LOSS IS: 0.78869.\n",
            "EPOACH 4001: TRAIN LOSS: 0.8502; KL REG: 109.5947; TEST LOSS IS: 0.78708.\n",
            "EPOACH 4501: TRAIN LOSS: 0.8455; KL REG: 110.8179; TEST LOSS IS: 0.78658.\n",
            "Resultats intermédiaire  : Energy dataset avec bruit- simu :  0  /  9\n",
            "moyenne test error HMF tensor(0.7871)  / temps d'exécution :  330.8678877353668\n",
            "moyenne test error IHMF tensor(0.7797)  / temps d'exécution :  256.5170431137085\n",
            "moyenne test error HMF + PVE tensor(0.7880)  / temps d'exécution :  304.50681042671204\n",
            "moyenne test error IHMF + PVE tensor(0.7818)  / temps d'exécution :  255.33876013755798\n",
            "training IHMF + PVE - simu :  1  /  9\n",
            "EPOACH 1: TRAIN LOSS: 2.3123; KL REG: 19359.0723; TEST LOSS IS: 2.29948.\n",
            "EPOACH 501: TRAIN LOSS: 0.8434; KL REG: 2498.4011; TEST LOSS IS: 0.81521.\n",
            "EPOACH 1001: TRAIN LOSS: 0.8928; KL REG: 276.3022; TEST LOSS IS: 0.79599.\n",
            "EPOACH 1501: TRAIN LOSS: 0.8841; KL REG: 150.9703; TEST LOSS IS: 0.78807.\n",
            "EPOACH 2001: TRAIN LOSS: 0.8719; KL REG: 89.3518; TEST LOSS IS: 0.78075.\n",
            "EPOACH 2501: TRAIN LOSS: 0.8708; KL REG: 81.3649; TEST LOSS IS: 0.78065.\n",
            "EPOACH 3001: TRAIN LOSS: 0.8679; KL REG: 93.9256; TEST LOSS IS: 0.78059.\n",
            "EPOACH 3501: TRAIN LOSS: 0.8689; KL REG: 84.4111; TEST LOSS IS: 0.77902.\n",
            "EPOACH 4001: TRAIN LOSS: 0.8653; KL REG: 87.2471; TEST LOSS IS: 0.77793.\n",
            "EPOACH 4501: TRAIN LOSS: 0.8684; KL REG: 84.8396; TEST LOSS IS: 0.77876.\n",
            "training HMF - simu :  1  /  9\n",
            "EPOACH 1: TRAIN LOSS: 2.6991; KL REG: 18674.0332; TEST LOSS IS: 3.02986.\n",
            "EPOACH 501: TRAIN LOSS: 0.7172; KL REG: 2093.0427; TEST LOSS IS: 0.82286.\n",
            "EPOACH 1001: TRAIN LOSS: 0.8544; KL REG: 182.6130; TEST LOSS IS: 0.78713.\n",
            "EPOACH 1501: TRAIN LOSS: 0.8748; KL REG: 127.1423; TEST LOSS IS: 0.79421.\n",
            "EPOACH 2001: TRAIN LOSS: 0.8592; KL REG: 116.1861; TEST LOSS IS: 0.78783.\n",
            "EPOACH 2501: TRAIN LOSS: 0.8513; KL REG: 113.0348; TEST LOSS IS: 0.78592.\n",
            "EPOACH 3001: TRAIN LOSS: 0.8465; KL REG: 108.3669; TEST LOSS IS: 0.79153.\n",
            "EPOACH 3501: TRAIN LOSS: 0.8441; KL REG: 107.6562; TEST LOSS IS: 0.79267.\n",
            "EPOACH 4001: TRAIN LOSS: 0.8438; KL REG: 108.1776; TEST LOSS IS: 0.78520.\n",
            "EPOACH 4501: TRAIN LOSS: 0.8433; KL REG: 106.4689; TEST LOSS IS: 0.78725.\n",
            "training IHMF - simu :  1  /  9\n",
            "EPOACH 1: TRAIN LOSS: 1.3837; KL REG: 19424.4355; TEST LOSS IS: 1.44704.\n",
            "EPOACH 501: TRAIN LOSS: 0.8277; KL REG: 2156.4456; TEST LOSS IS: 0.79701.\n",
            "EPOACH 1001: TRAIN LOSS: 0.8853; KL REG: 276.1142; TEST LOSS IS: 0.78932.\n",
            "EPOACH 1501: TRAIN LOSS: 0.8970; KL REG: 163.9499; TEST LOSS IS: 0.79712.\n",
            "EPOACH 2001: TRAIN LOSS: 0.8980; KL REG: 87.7392; TEST LOSS IS: 0.79776.\n",
            "EPOACH 2501: TRAIN LOSS: 0.8890; KL REG: 78.1042; TEST LOSS IS: 0.79100.\n",
            "EPOACH 3001: TRAIN LOSS: 0.8723; KL REG: 79.1780; TEST LOSS IS: 0.78152.\n",
            "EPOACH 3501: TRAIN LOSS: 0.8688; KL REG: 78.9876; TEST LOSS IS: 0.77934.\n",
            "EPOACH 4001: TRAIN LOSS: 0.8653; KL REG: 85.9522; TEST LOSS IS: 0.77838.\n",
            "EPOACH 4501: TRAIN LOSS: 0.8664; KL REG: 76.6090; TEST LOSS IS: 0.77814.\n",
            "training HMF + PVE - simu :  1  /  9\n",
            "EPOACH 1: TRAIN LOSS: 1.4480; KL REG: 18726.3730; TEST LOSS IS: 1.57498.\n",
            "EPOACH 501: TRAIN LOSS: 0.6909; KL REG: 1963.0016; TEST LOSS IS: 0.83483.\n",
            "EPOACH 1001: TRAIN LOSS: 0.8911; KL REG: 163.2098; TEST LOSS IS: 0.80471.\n",
            "EPOACH 1501: TRAIN LOSS: 0.8915; KL REG: 125.2563; TEST LOSS IS: 0.80135.\n",
            "EPOACH 2001: TRAIN LOSS: 0.8896; KL REG: 116.7159; TEST LOSS IS: 0.80087.\n",
            "EPOACH 2501: TRAIN LOSS: 0.8725; KL REG: 113.1766; TEST LOSS IS: 0.79201.\n",
            "EPOACH 3001: TRAIN LOSS: 0.8554; KL REG: 112.2728; TEST LOSS IS: 0.78470.\n",
            "EPOACH 3501: TRAIN LOSS: 0.8459; KL REG: 108.7958; TEST LOSS IS: 0.78474.\n",
            "EPOACH 4001: TRAIN LOSS: 0.8461; KL REG: 109.8310; TEST LOSS IS: 0.78526.\n",
            "EPOACH 4501: TRAIN LOSS: 0.8473; KL REG: 109.9044; TEST LOSS IS: 0.78618.\n",
            "Resultats intermédiaire  : Energy dataset avec bruit- simu :  1  /  9\n",
            "moyenne test error HMF tensor(0.7866)  / temps d'exécution :  320.3500107526779\n",
            "moyenne test error IHMF tensor(0.7798)  / temps d'exécution :  267.37837541103363\n",
            "moyenne test error HMF + PVE tensor(0.7879)  / temps d'exécution :  319.4361593723297\n",
            "moyenne test error IHMF + PVE tensor(0.7802)  / temps d'exécution :  259.99196469783783\n",
            "training IHMF + PVE - simu :  2  /  9\n",
            "EPOACH 1: TRAIN LOSS: 1.8344; KL REG: 19387.7168; TEST LOSS IS: 1.67998.\n",
            "EPOACH 501: TRAIN LOSS: 0.8281; KL REG: 2350.2690; TEST LOSS IS: 0.81524.\n",
            "EPOACH 1001: TRAIN LOSS: 0.8975; KL REG: 289.0345; TEST LOSS IS: 0.79945.\n",
            "EPOACH 1501: TRAIN LOSS: 0.8812; KL REG: 142.3231; TEST LOSS IS: 0.78608.\n",
            "EPOACH 2001: TRAIN LOSS: 0.8729; KL REG: 95.3136; TEST LOSS IS: 0.78099.\n",
            "EPOACH 2501: TRAIN LOSS: 0.8668; KL REG: 88.1161; TEST LOSS IS: 0.77905.\n",
            "EPOACH 3001: TRAIN LOSS: 0.8653; KL REG: 75.2759; TEST LOSS IS: 0.77793.\n",
            "EPOACH 3501: TRAIN LOSS: 0.8679; KL REG: 80.4152; TEST LOSS IS: 0.77955.\n",
            "EPOACH 4001: TRAIN LOSS: 0.8659; KL REG: 87.3652; TEST LOSS IS: 0.77863.\n",
            "EPOACH 4501: TRAIN LOSS: 0.8672; KL REG: 76.0868; TEST LOSS IS: 0.77914.\n",
            "training HMF - simu :  2  /  9\n",
            "EPOACH 1: TRAIN LOSS: 1.5360; KL REG: 18755.1680; TEST LOSS IS: 1.60957.\n",
            "EPOACH 501: TRAIN LOSS: 0.6901; KL REG: 2122.4424; TEST LOSS IS: 0.82173.\n",
            "EPOACH 1001: TRAIN LOSS: 0.8851; KL REG: 174.3034; TEST LOSS IS: 0.80198.\n",
            "EPOACH 1501: TRAIN LOSS: 0.8825; KL REG: 126.1034; TEST LOSS IS: 0.79564.\n",
            "EPOACH 2001: TRAIN LOSS: 0.8793; KL REG: 118.8361; TEST LOSS IS: 0.79422.\n",
            "EPOACH 2501: TRAIN LOSS: 0.8702; KL REG: 114.3882; TEST LOSS IS: 0.78932.\n",
            "EPOACH 3001: TRAIN LOSS: 0.8690; KL REG: 111.6747; TEST LOSS IS: 0.79083.\n",
            "EPOACH 3501: TRAIN LOSS: 0.8582; KL REG: 109.2559; TEST LOSS IS: 0.78698.\n",
            "EPOACH 4001: TRAIN LOSS: 0.8435; KL REG: 107.6841; TEST LOSS IS: 0.78346.\n",
            "EPOACH 4501: TRAIN LOSS: 0.8378; KL REG: 108.1798; TEST LOSS IS: 0.78091.\n",
            "training IHMF - simu :  2  /  9\n",
            "EPOACH 1: TRAIN LOSS: 3.8522; KL REG: 19308.1406; TEST LOSS IS: 3.55038.\n",
            "EPOACH 501: TRAIN LOSS: 0.8632; KL REG: 2387.1653; TEST LOSS IS: 0.82174.\n",
            "EPOACH 1001: TRAIN LOSS: 0.8968; KL REG: 239.4064; TEST LOSS IS: 0.79957.\n",
            "EPOACH 1501: TRAIN LOSS: 0.8878; KL REG: 140.7923; TEST LOSS IS: 0.79141.\n",
            "EPOACH 2001: TRAIN LOSS: 0.8772; KL REG: 106.9502; TEST LOSS IS: 0.78340.\n",
            "EPOACH 2501: TRAIN LOSS: 0.8676; KL REG: 84.9284; TEST LOSS IS: 0.77858.\n",
            "EPOACH 3001: TRAIN LOSS: 0.8721; KL REG: 104.0588; TEST LOSS IS: 0.78102.\n",
            "EPOACH 3501: TRAIN LOSS: 0.8683; KL REG: 84.1450; TEST LOSS IS: 0.77948.\n",
            "EPOACH 4001: TRAIN LOSS: 0.8658; KL REG: 90.9497; TEST LOSS IS: 0.77794.\n",
            "EPOACH 4501: TRAIN LOSS: 0.8661; KL REG: 72.1216; TEST LOSS IS: 0.77808.\n",
            "training HMF + PVE - simu :  2  /  9\n",
            "EPOACH 1: TRAIN LOSS: 2.0888; KL REG: 18674.5195; TEST LOSS IS: 2.43660.\n",
            "EPOACH 501: TRAIN LOSS: 0.6904; KL REG: 2415.4055; TEST LOSS IS: 0.81275.\n",
            "EPOACH 1001: TRAIN LOSS: 0.8888; KL REG: 182.9705; TEST LOSS IS: 0.80276.\n",
            "EPOACH 1501: TRAIN LOSS: 0.8888; KL REG: 128.9058; TEST LOSS IS: 0.79861.\n",
            "EPOACH 2001: TRAIN LOSS: 0.8837; KL REG: 120.6425; TEST LOSS IS: 0.79585.\n",
            "EPOACH 2501: TRAIN LOSS: 0.8839; KL REG: 116.2278; TEST LOSS IS: 0.79733.\n",
            "EPOACH 3001: TRAIN LOSS: 0.8678; KL REG: 114.2939; TEST LOSS IS: 0.78900.\n",
            "EPOACH 3501: TRAIN LOSS: 0.8566; KL REG: 113.0099; TEST LOSS IS: 0.78440.\n",
            "EPOACH 4001: TRAIN LOSS: 0.8466; KL REG: 109.5479; TEST LOSS IS: 0.78196.\n",
            "EPOACH 4501: TRAIN LOSS: 0.8458; KL REG: 108.9242; TEST LOSS IS: 0.78391.\n",
            "Resultats intermédiaire  : Energy dataset avec bruit- simu :  2  /  9\n",
            "moyenne test error HMF tensor(0.7847)  / temps d'exécution :  322.21953535079956\n",
            "moyenne test error IHMF tensor(0.7793)  / temps d'exécution :  266.29354969660443\n",
            "moyenne test error HMF + PVE tensor(0.7863)  / temps d'exécution :  316.5337971051534\n",
            "moyenne test error IHMF + PVE tensor(0.7801)  / temps d'exécution :  258.9101333618164\n",
            "training IHMF + PVE - simu :  3  /  9\n",
            "EPOACH 1: TRAIN LOSS: 2.6295; KL REG: 19439.6738; TEST LOSS IS: 2.72596.\n",
            "EPOACH 501: TRAIN LOSS: 0.8485; KL REG: 2296.1055; TEST LOSS IS: 0.82196.\n",
            "EPOACH 1001: TRAIN LOSS: 0.9004; KL REG: 354.3426; TEST LOSS IS: 0.80353.\n",
            "EPOACH 1501: TRAIN LOSS: 0.8907; KL REG: 131.4784; TEST LOSS IS: 0.79333.\n",
            "EPOACH 2001: TRAIN LOSS: 0.8717; KL REG: 101.2020; TEST LOSS IS: 0.78065.\n",
            "EPOACH 2501: TRAIN LOSS: 0.8714; KL REG: 88.7674; TEST LOSS IS: 0.78258.\n",
            "EPOACH 3001: TRAIN LOSS: 0.8657; KL REG: 69.1003; TEST LOSS IS: 0.77837.\n",
            "EPOACH 3501: TRAIN LOSS: 0.8673; KL REG: 88.6771; TEST LOSS IS: 0.78035.\n",
            "EPOACH 4001: TRAIN LOSS: 0.8647; KL REG: 79.2407; TEST LOSS IS: 0.77808.\n",
            "EPOACH 4501: TRAIN LOSS: 0.8655; KL REG: 71.7205; TEST LOSS IS: 0.77802.\n",
            "training HMF - simu :  3  /  9\n",
            "EPOACH 1: TRAIN LOSS: 1.6770; KL REG: 18646.7988; TEST LOSS IS: 1.50535.\n",
            "EPOACH 501: TRAIN LOSS: 0.7615; KL REG: 2160.5266; TEST LOSS IS: 0.82559.\n",
            "EPOACH 1001: TRAIN LOSS: 0.8747; KL REG: 174.3767; TEST LOSS IS: 0.79460.\n",
            "EPOACH 1501: TRAIN LOSS: 0.8848; KL REG: 123.6713; TEST LOSS IS: 0.79691.\n",
            "EPOACH 2001: TRAIN LOSS: 0.8643; KL REG: 117.4075; TEST LOSS IS: 0.78744.\n",
            "EPOACH 2501: TRAIN LOSS: 0.8478; KL REG: 110.2356; TEST LOSS IS: 0.78417.\n",
            "EPOACH 3001: TRAIN LOSS: 0.8387; KL REG: 109.6146; TEST LOSS IS: 0.78288.\n",
            "EPOACH 3501: TRAIN LOSS: 0.8389; KL REG: 108.3580; TEST LOSS IS: 0.78135.\n",
            "EPOACH 4001: TRAIN LOSS: 0.8367; KL REG: 108.4450; TEST LOSS IS: 0.78076.\n",
            "EPOACH 4501: TRAIN LOSS: 0.8394; KL REG: 107.1721; TEST LOSS IS: 0.78201.\n",
            "training IHMF - simu :  3  /  9\n",
            "EPOACH 1: TRAIN LOSS: 3.8949; KL REG: 19394.5566; TEST LOSS IS: 3.23212.\n",
            "EPOACH 501: TRAIN LOSS: 0.8652; KL REG: 2405.5527; TEST LOSS IS: 0.80342.\n",
            "EPOACH 1001: TRAIN LOSS: 0.8917; KL REG: 317.5431; TEST LOSS IS: 0.79453.\n",
            "EPOACH 1501: TRAIN LOSS: 0.8821; KL REG: 141.1498; TEST LOSS IS: 0.78691.\n",
            "EPOACH 2001: TRAIN LOSS: 0.8789; KL REG: 88.6420; TEST LOSS IS: 0.78436.\n",
            "EPOACH 2501: TRAIN LOSS: 0.8659; KL REG: 87.0316; TEST LOSS IS: 0.78072.\n",
            "EPOACH 3001: TRAIN LOSS: 0.8661; KL REG: 82.4540; TEST LOSS IS: 0.78173.\n",
            "EPOACH 3501: TRAIN LOSS: 0.8654; KL REG: 80.7077; TEST LOSS IS: 0.77808.\n",
            "EPOACH 4001: TRAIN LOSS: 0.8660; KL REG: 74.9592; TEST LOSS IS: 0.77809.\n",
            "EPOACH 4501: TRAIN LOSS: 0.8642; KL REG: 83.9443; TEST LOSS IS: 0.77841.\n",
            "training HMF + PVE - simu :  3  /  9\n",
            "EPOACH 1: TRAIN LOSS: 2.2236; KL REG: 18748.5762; TEST LOSS IS: 2.87719.\n",
            "EPOACH 501: TRAIN LOSS: 0.7683; KL REG: 2262.8430; TEST LOSS IS: 0.84756.\n",
            "EPOACH 1001: TRAIN LOSS: 0.8802; KL REG: 168.4017; TEST LOSS IS: 0.80121.\n",
            "EPOACH 1501: TRAIN LOSS: 0.8682; KL REG: 124.3255; TEST LOSS IS: 0.78950.\n",
            "EPOACH 2001: TRAIN LOSS: 0.8595; KL REG: 117.1553; TEST LOSS IS: 0.78687.\n",
            "EPOACH 2501: TRAIN LOSS: 0.8617; KL REG: 114.5465; TEST LOSS IS: 0.79125.\n",
            "EPOACH 3001: TRAIN LOSS: 0.8438; KL REG: 113.9336; TEST LOSS IS: 0.78012.\n",
            "EPOACH 3501: TRAIN LOSS: 0.8426; KL REG: 111.1208; TEST LOSS IS: 0.78080.\n",
            "EPOACH 4001: TRAIN LOSS: 0.8419; KL REG: 110.1851; TEST LOSS IS: 0.78099.\n",
            "EPOACH 4501: TRAIN LOSS: 0.8392; KL REG: 109.1571; TEST LOSS IS: 0.78129.\n",
            "Resultats intermédiaire  : Energy dataset avec bruit- simu :  3  /  9\n",
            "moyenne test error HMF tensor(0.7838)  / temps d'exécution :  317.60031950473785\n",
            "moyenne test error IHMF tensor(0.7790)  / temps d'exécution :  263.41022634506226\n",
            "moyenne test error HMF + PVE tensor(0.7849)  / temps d'exécution :  314.3676072359085\n",
            "moyenne test error IHMF + PVE tensor(0.7797)  / temps d'exécution :  258.79918920993805\n",
            "training IHMF + PVE - simu :  4  /  9\n",
            "EPOACH 1: TRAIN LOSS: 1.5937; KL REG: 19330.3770; TEST LOSS IS: 1.52797.\n",
            "EPOACH 501: TRAIN LOSS: 0.8513; KL REG: 2359.7781; TEST LOSS IS: 0.81801.\n",
            "EPOACH 1001: TRAIN LOSS: 0.8977; KL REG: 286.6070; TEST LOSS IS: 0.80019.\n",
            "EPOACH 1501: TRAIN LOSS: 0.8872; KL REG: 131.4783; TEST LOSS IS: 0.79027.\n",
            "EPOACH 2001: TRAIN LOSS: 0.8860; KL REG: 142.8806; TEST LOSS IS: 0.79021.\n",
            "EPOACH 2501: TRAIN LOSS: 0.8818; KL REG: 90.5773; TEST LOSS IS: 0.78648.\n",
            "EPOACH 3001: TRAIN LOSS: 0.8742; KL REG: 85.3389; TEST LOSS IS: 0.78199.\n",
            "EPOACH 3501: TRAIN LOSS: 0.8654; KL REG: 86.1001; TEST LOSS IS: 0.78070.\n",
            "EPOACH 4001: TRAIN LOSS: 0.8658; KL REG: 79.7691; TEST LOSS IS: 0.78111.\n",
            "EPOACH 4501: TRAIN LOSS: 0.8653; KL REG: 72.6191; TEST LOSS IS: 0.78024.\n",
            "training HMF - simu :  4  /  9\n",
            "EPOACH 1: TRAIN LOSS: 1.3760; KL REG: 18704.2109; TEST LOSS IS: 1.48865.\n",
            "EPOACH 501: TRAIN LOSS: 0.7449; KL REG: 2085.6628; TEST LOSS IS: 0.81824.\n",
            "EPOACH 1001: TRAIN LOSS: 0.8655; KL REG: 169.9439; TEST LOSS IS: 0.79204.\n",
            "EPOACH 1501: TRAIN LOSS: 0.8661; KL REG: 124.2691; TEST LOSS IS: 0.78822.\n",
            "EPOACH 2001: TRAIN LOSS: 0.8508; KL REG: 117.4636; TEST LOSS IS: 0.78081.\n",
            "EPOACH 2501: TRAIN LOSS: 0.8452; KL REG: 113.3183; TEST LOSS IS: 0.78108.\n",
            "EPOACH 3001: TRAIN LOSS: 0.8458; KL REG: 112.3168; TEST LOSS IS: 0.78053.\n",
            "EPOACH 3501: TRAIN LOSS: 0.8373; KL REG: 108.4497; TEST LOSS IS: 0.78086.\n",
            "EPOACH 4001: TRAIN LOSS: 0.8375; KL REG: 108.5947; TEST LOSS IS: 0.78152.\n",
            "EPOACH 4501: TRAIN LOSS: 0.8376; KL REG: 108.8846; TEST LOSS IS: 0.78203.\n",
            "training IHMF - simu :  4  /  9\n",
            "EPOACH 1: TRAIN LOSS: 1.9912; KL REG: 19377.6641; TEST LOSS IS: 1.85045.\n",
            "EPOACH 501: TRAIN LOSS: 0.8517; KL REG: 2430.9141; TEST LOSS IS: 0.81629.\n",
            "EPOACH 1001: TRAIN LOSS: 0.9005; KL REG: 266.3526; TEST LOSS IS: 0.80325.\n",
            "EPOACH 1501: TRAIN LOSS: 0.8953; KL REG: 150.0512; TEST LOSS IS: 0.79709.\n",
            "EPOACH 2001: TRAIN LOSS: 0.8892; KL REG: 111.6760; TEST LOSS IS: 0.79122.\n",
            "EPOACH 2501: TRAIN LOSS: 0.8777; KL REG: 84.3264; TEST LOSS IS: 0.78384.\n",
            "EPOACH 3001: TRAIN LOSS: 0.8739; KL REG: 80.1890; TEST LOSS IS: 0.78198.\n",
            "EPOACH 3501: TRAIN LOSS: 0.8729; KL REG: 78.1365; TEST LOSS IS: 0.78262.\n",
            "EPOACH 4001: TRAIN LOSS: 0.8671; KL REG: 75.2472; TEST LOSS IS: 0.77834.\n",
            "EPOACH 4501: TRAIN LOSS: 0.8686; KL REG: 82.2657; TEST LOSS IS: 0.78001.\n",
            "training HMF + PVE - simu :  4  /  9\n",
            "EPOACH 1: TRAIN LOSS: 3.2675; KL REG: 18639.7598; TEST LOSS IS: 3.38866.\n",
            "EPOACH 501: TRAIN LOSS: 0.7305; KL REG: 2363.3611; TEST LOSS IS: 0.84078.\n",
            "EPOACH 1001: TRAIN LOSS: 0.8923; KL REG: 185.3387; TEST LOSS IS: 0.80939.\n",
            "EPOACH 1501: TRAIN LOSS: 0.8816; KL REG: 128.2816; TEST LOSS IS: 0.79663.\n",
            "EPOACH 2001: TRAIN LOSS: 0.8815; KL REG: 118.7852; TEST LOSS IS: 0.79761.\n",
            "EPOACH 2501: TRAIN LOSS: 0.8696; KL REG: 116.8459; TEST LOSS IS: 0.79090.\n",
            "EPOACH 3001: TRAIN LOSS: 0.8584; KL REG: 113.8639; TEST LOSS IS: 0.78643.\n",
            "EPOACH 3501: TRAIN LOSS: 0.8471; KL REG: 113.2939; TEST LOSS IS: 0.77908.\n",
            "EPOACH 4001: TRAIN LOSS: 0.8646; KL REG: 111.2061; TEST LOSS IS: 0.79485.\n",
            "EPOACH 4501: TRAIN LOSS: 0.8426; KL REG: 110.2926; TEST LOSS IS: 0.78135.\n",
            "Resultats intermédiaire  : Energy dataset avec bruit- simu :  4  /  9\n",
            "moyenne test error HMF tensor(0.7830)  / temps d'exécution :  315.71760311126707\n",
            "moyenne test error IHMF tensor(0.7791)  / temps d'exécution :  261.5039092540741\n",
            "moyenne test error HMF + PVE tensor(0.7841)  / temps d'exécution :  312.0877559185028\n",
            "moyenne test error IHMF + PVE tensor(0.7797)  / temps d'exécution :  257.70994634628295\n",
            "training IHMF + PVE - simu :  5  /  9\n",
            "EPOACH 1: TRAIN LOSS: 1.8398; KL REG: 19385.4922; TEST LOSS IS: 1.83187.\n",
            "EPOACH 501: TRAIN LOSS: 0.8667; KL REG: 2208.0947; TEST LOSS IS: 0.82316.\n",
            "EPOACH 1001: TRAIN LOSS: 0.9028; KL REG: 316.5347; TEST LOSS IS: 0.80211.\n",
            "EPOACH 1501: TRAIN LOSS: 0.8966; KL REG: 166.1081; TEST LOSS IS: 0.79679.\n",
            "EPOACH 2001: TRAIN LOSS: 0.8793; KL REG: 90.4329; TEST LOSS IS: 0.78557.\n",
            "EPOACH 2501: TRAIN LOSS: 0.8725; KL REG: 80.7887; TEST LOSS IS: 0.78139.\n",
            "EPOACH 3001: TRAIN LOSS: 0.8682; KL REG: 73.8771; TEST LOSS IS: 0.77940.\n",
            "EPOACH 3501: TRAIN LOSS: 0.8680; KL REG: 87.5861; TEST LOSS IS: 0.77998.\n",
            "EPOACH 4001: TRAIN LOSS: 0.8658; KL REG: 80.0460; TEST LOSS IS: 0.77894.\n",
            "EPOACH 4501: TRAIN LOSS: 0.8678; KL REG: 84.3497; TEST LOSS IS: 0.77847.\n",
            "training HMF - simu :  5  /  9\n",
            "EPOACH 1: TRAIN LOSS: 1.9566; KL REG: 18652.5195; TEST LOSS IS: 2.29400.\n",
            "EPOACH 501: TRAIN LOSS: 0.6582; KL REG: 2019.6259; TEST LOSS IS: 0.83677.\n",
            "EPOACH 1001: TRAIN LOSS: 0.8686; KL REG: 181.2724; TEST LOSS IS: 0.80219.\n",
            "EPOACH 1501: TRAIN LOSS: 0.8673; KL REG: 127.6791; TEST LOSS IS: 0.79131.\n",
            "EPOACH 2001: TRAIN LOSS: 0.8701; KL REG: 120.0324; TEST LOSS IS: 0.79240.\n",
            "EPOACH 2501: TRAIN LOSS: 0.8617; KL REG: 116.2951; TEST LOSS IS: 0.78457.\n",
            "EPOACH 3001: TRAIN LOSS: 0.8602; KL REG: 114.4306; TEST LOSS IS: 0.78474.\n",
            "EPOACH 3501: TRAIN LOSS: 0.8501; KL REG: 110.6077; TEST LOSS IS: 0.78255.\n",
            "EPOACH 4001: TRAIN LOSS: 0.8398; KL REG: 108.0954; TEST LOSS IS: 0.78133.\n",
            "EPOACH 4501: TRAIN LOSS: 0.8412; KL REG: 106.7760; TEST LOSS IS: 0.78076.\n",
            "training IHMF - simu :  5  /  9\n",
            "EPOACH 1: TRAIN LOSS: 1.4580; KL REG: 19266.2422; TEST LOSS IS: 1.64858.\n",
            "EPOACH 501: TRAIN LOSS: 0.8479; KL REG: 2141.9900; TEST LOSS IS: 0.81932.\n",
            "EPOACH 1001: TRAIN LOSS: 0.8959; KL REG: 214.2477; TEST LOSS IS: 0.79923.\n",
            "EPOACH 1501: TRAIN LOSS: 0.8805; KL REG: 153.7074; TEST LOSS IS: 0.78591.\n",
            "EPOACH 2001: TRAIN LOSS: 0.8788; KL REG: 99.8930; TEST LOSS IS: 0.78476.\n",
            "EPOACH 2501: TRAIN LOSS: 0.8765; KL REG: 97.0577; TEST LOSS IS: 0.78294.\n",
            "EPOACH 3001: TRAIN LOSS: 0.8678; KL REG: 84.8478; TEST LOSS IS: 0.77961.\n",
            "EPOACH 3501: TRAIN LOSS: 0.8676; KL REG: 70.8540; TEST LOSS IS: 0.77979.\n",
            "EPOACH 4001: TRAIN LOSS: 0.8674; KL REG: 90.2967; TEST LOSS IS: 0.78031.\n",
            "EPOACH 4501: TRAIN LOSS: 0.8683; KL REG: 70.7177; TEST LOSS IS: 0.77893.\n",
            "training HMF + PVE - simu :  5  /  9\n",
            "EPOACH 1: TRAIN LOSS: 2.9829; KL REG: 18707.0938; TEST LOSS IS: 2.65024.\n",
            "EPOACH 501: TRAIN LOSS: 0.7191; KL REG: 2583.3689; TEST LOSS IS: 0.79531.\n",
            "EPOACH 1001: TRAIN LOSS: 0.8845; KL REG: 200.3875; TEST LOSS IS: 0.79685.\n",
            "EPOACH 1501: TRAIN LOSS: 0.8955; KL REG: 128.4653; TEST LOSS IS: 0.80386.\n",
            "EPOACH 2001: TRAIN LOSS: 0.8918; KL REG: 118.9268; TEST LOSS IS: 0.80097.\n",
            "EPOACH 2501: TRAIN LOSS: 0.8782; KL REG: 115.7499; TEST LOSS IS: 0.79345.\n",
            "EPOACH 3001: TRAIN LOSS: 0.8631; KL REG: 111.3593; TEST LOSS IS: 0.78708.\n",
            "EPOACH 3501: TRAIN LOSS: 0.8534; KL REG: 110.7378; TEST LOSS IS: 0.78532.\n",
            "EPOACH 4001: TRAIN LOSS: 0.8460; KL REG: 108.0736; TEST LOSS IS: 0.78839.\n",
            "EPOACH 4501: TRAIN LOSS: 0.8465; KL REG: 108.1417; TEST LOSS IS: 0.78987.\n",
            "Resultats intermédiaire  : Energy dataset avec bruit- simu :  5  /  9\n",
            "moyenne test error HMF tensor(0.7828)  / temps d'exécution :  313.34734372297925\n",
            "moyenne test error IHMF tensor(0.7792)  / temps d'exécution :  259.8363484144211\n",
            "moyenne test error HMF + PVE tensor(0.7846)  / temps d'exécution :  310.72515126069385\n",
            "moyenne test error IHMF + PVE tensor(0.7796)  / temps d'exécution :  256.63836828867596\n",
            "training IHMF + PVE - simu :  6  /  9\n",
            "EPOACH 1: TRAIN LOSS: 1.6506; KL REG: 19362.1172; TEST LOSS IS: 1.64734.\n",
            "EPOACH 501: TRAIN LOSS: 0.8486; KL REG: 2276.6101; TEST LOSS IS: 0.82000.\n",
            "EPOACH 1001: TRAIN LOSS: 0.8922; KL REG: 280.2802; TEST LOSS IS: 0.79674.\n",
            "EPOACH 1501: TRAIN LOSS: 0.8915; KL REG: 119.3857; TEST LOSS IS: 0.79424.\n",
            "EPOACH 2001: TRAIN LOSS: 0.8772; KL REG: 88.2954; TEST LOSS IS: 0.78471.\n",
            "EPOACH 2501: TRAIN LOSS: 0.8694; KL REG: 88.9530; TEST LOSS IS: 0.77991.\n",
            "EPOACH 3001: TRAIN LOSS: 0.8690; KL REG: 87.9251; TEST LOSS IS: 0.77891.\n",
            "EPOACH 3501: TRAIN LOSS: 0.8694; KL REG: 86.7366; TEST LOSS IS: 0.77912.\n",
            "EPOACH 4001: TRAIN LOSS: 0.8714; KL REG: 83.5597; TEST LOSS IS: 0.78095.\n",
            "EPOACH 4501: TRAIN LOSS: 0.8686; KL REG: 87.0454; TEST LOSS IS: 0.77971.\n",
            "training HMF - simu :  6  /  9\n",
            "EPOACH 1: TRAIN LOSS: 5.5937; KL REG: 18844.5918; TEST LOSS IS: 5.72648.\n",
            "EPOACH 501: TRAIN LOSS: 0.7948; KL REG: 2428.3926; TEST LOSS IS: 0.79646.\n",
            "EPOACH 1001: TRAIN LOSS: 0.8870; KL REG: 205.7379; TEST LOSS IS: 0.79792.\n",
            "EPOACH 1501: TRAIN LOSS: 0.8872; KL REG: 128.6566; TEST LOSS IS: 0.79643.\n",
            "EPOACH 2001: TRAIN LOSS: 0.9010; KL REG: 118.4064; TEST LOSS IS: 0.80557.\n",
            "EPOACH 2501: TRAIN LOSS: 0.8901; KL REG: 113.6738; TEST LOSS IS: 0.79749.\n",
            "EPOACH 3001: TRAIN LOSS: 0.9198; KL REG: 112.1295; TEST LOSS IS: 0.82068.\n",
            "EPOACH 3501: TRAIN LOSS: 0.8995; KL REG: 110.6586; TEST LOSS IS: 0.80571.\n",
            "EPOACH 4001: TRAIN LOSS: 0.8883; KL REG: 109.9967; TEST LOSS IS: 0.79857.\n",
            "EPOACH 4501: TRAIN LOSS: 0.8702; KL REG: 108.7262; TEST LOSS IS: 0.78968.\n",
            "training IHMF - simu :  6  /  9\n",
            "EPOACH 1: TRAIN LOSS: 1.3393; KL REG: 19376.2070; TEST LOSS IS: 1.28492.\n",
            "EPOACH 501: TRAIN LOSS: 0.8225; KL REG: 2269.2258; TEST LOSS IS: 0.81511.\n",
            "EPOACH 1001: TRAIN LOSS: 0.8833; KL REG: 310.1910; TEST LOSS IS: 0.79049.\n",
            "EPOACH 1501: TRAIN LOSS: 0.8785; KL REG: 142.6189; TEST LOSS IS: 0.78491.\n",
            "EPOACH 2001: TRAIN LOSS: 0.8721; KL REG: 85.3424; TEST LOSS IS: 0.78099.\n",
            "EPOACH 2501: TRAIN LOSS: 0.8697; KL REG: 82.3458; TEST LOSS IS: 0.78011.\n",
            "EPOACH 3001: TRAIN LOSS: 0.8672; KL REG: 72.2104; TEST LOSS IS: 0.77840.\n",
            "EPOACH 3501: TRAIN LOSS: 0.8652; KL REG: 72.1585; TEST LOSS IS: 0.77784.\n",
            "EPOACH 4001: TRAIN LOSS: 0.8648; KL REG: 77.2873; TEST LOSS IS: 0.77792.\n",
            "EPOACH 4501: TRAIN LOSS: 0.8633; KL REG: 77.0631; TEST LOSS IS: 0.77803.\n",
            "training HMF + PVE - simu :  6  /  9\n",
            "EPOACH 1: TRAIN LOSS: 1.7293; KL REG: 18681.2949; TEST LOSS IS: 1.44718.\n",
            "EPOACH 501: TRAIN LOSS: 0.7412; KL REG: 2233.7358; TEST LOSS IS: 0.81590.\n",
            "EPOACH 1001: TRAIN LOSS: 0.8940; KL REG: 169.8435; TEST LOSS IS: 0.80891.\n",
            "EPOACH 1501: TRAIN LOSS: 0.8778; KL REG: 125.7869; TEST LOSS IS: 0.79147.\n",
            "EPOACH 2001: TRAIN LOSS: 0.8864; KL REG: 118.8957; TEST LOSS IS: 0.80011.\n",
            "EPOACH 2501: TRAIN LOSS: 0.8761; KL REG: 116.0647; TEST LOSS IS: 0.79624.\n",
            "EPOACH 3001: TRAIN LOSS: 0.8573; KL REG: 112.2873; TEST LOSS IS: 0.78708.\n",
            "EPOACH 3501: TRAIN LOSS: 0.8397; KL REG: 109.8901; TEST LOSS IS: 0.78173.\n",
            "EPOACH 4001: TRAIN LOSS: 0.8454; KL REG: 108.9096; TEST LOSS IS: 0.78347.\n",
            "EPOACH 4501: TRAIN LOSS: 0.8413; KL REG: 110.3077; TEST LOSS IS: 0.78258.\n",
            "Resultats intermédiaire  : Energy dataset avec bruit- simu :  6  /  9\n",
            "moyenne test error HMF tensor(0.7838)  / temps d'exécution :  312.42731067112516\n",
            "moyenne test error IHMF tensor(0.7791)  / temps d'exécution :  258.4011395658766\n",
            "moyenne test error HMF + PVE tensor(0.7841)  / temps d'exécution :  308.51144668034146\n",
            "moyenne test error IHMF + PVE tensor(0.7794)  / temps d'exécution :  255.19078070776803\n",
            "training IHMF + PVE - simu :  7  /  9\n",
            "EPOACH 1: TRAIN LOSS: 2.3419; KL REG: 19434.9355; TEST LOSS IS: 2.85504.\n",
            "EPOACH 501: TRAIN LOSS: 0.8752; KL REG: 2357.4055; TEST LOSS IS: 0.83888.\n",
            "EPOACH 1001: TRAIN LOSS: 0.8850; KL REG: 265.5004; TEST LOSS IS: 0.79309.\n",
            "EPOACH 1501: TRAIN LOSS: 0.8783; KL REG: 117.1579; TEST LOSS IS: 0.78572.\n",
            "EPOACH 2001: TRAIN LOSS: 0.8684; KL REG: 98.9163; TEST LOSS IS: 0.77890.\n",
            "EPOACH 2501: TRAIN LOSS: 0.8694; KL REG: 121.8460; TEST LOSS IS: 0.77969.\n",
            "EPOACH 3001: TRAIN LOSS: 0.8660; KL REG: 83.9389; TEST LOSS IS: 0.77838.\n",
            "EPOACH 3501: TRAIN LOSS: 0.8662; KL REG: 79.6824; TEST LOSS IS: 0.77906.\n",
            "EPOACH 4001: TRAIN LOSS: 0.8645; KL REG: 81.6986; TEST LOSS IS: 0.77794.\n",
            "EPOACH 4501: TRAIN LOSS: 0.8635; KL REG: 70.2984; TEST LOSS IS: 0.77819.\n",
            "training HMF - simu :  7  /  9\n",
            "EPOACH 1: TRAIN LOSS: 2.6241; KL REG: 18746.1406; TEST LOSS IS: 2.73363.\n",
            "EPOACH 501: TRAIN LOSS: 0.7111; KL REG: 1965.5739; TEST LOSS IS: 0.79927.\n",
            "EPOACH 1001: TRAIN LOSS: 0.8714; KL REG: 167.9707; TEST LOSS IS: 0.79651.\n",
            "EPOACH 1501: TRAIN LOSS: 0.8710; KL REG: 125.9901; TEST LOSS IS: 0.79045.\n",
            "EPOACH 2001: TRAIN LOSS: 0.8557; KL REG: 115.5282; TEST LOSS IS: 0.78423.\n",
            "EPOACH 2501: TRAIN LOSS: 0.8485; KL REG: 110.6046; TEST LOSS IS: 0.78265.\n",
            "EPOACH 3001: TRAIN LOSS: 0.8401; KL REG: 109.5125; TEST LOSS IS: 0.78113.\n",
            "EPOACH 3501: TRAIN LOSS: 0.8445; KL REG: 108.7381; TEST LOSS IS: 0.78457.\n",
            "EPOACH 4001: TRAIN LOSS: 0.8379; KL REG: 107.3369; TEST LOSS IS: 0.78316.\n",
            "EPOACH 4501: TRAIN LOSS: 0.8395; KL REG: 108.4710; TEST LOSS IS: 0.78173.\n",
            "training IHMF - simu :  7  /  9\n",
            "EPOACH 1: TRAIN LOSS: 1.7048; KL REG: 19267.9121; TEST LOSS IS: 1.81056.\n",
            "EPOACH 501: TRAIN LOSS: 0.8299; KL REG: 2190.9568; TEST LOSS IS: 0.79721.\n",
            "EPOACH 1001: TRAIN LOSS: 0.8958; KL REG: 314.7928; TEST LOSS IS: 0.79765.\n",
            "EPOACH 1501: TRAIN LOSS: 0.9012; KL REG: 97.8720; TEST LOSS IS: 0.80117.\n",
            "EPOACH 2001: TRAIN LOSS: 0.8895; KL REG: 115.0538; TEST LOSS IS: 0.79320.\n",
            "EPOACH 2501: TRAIN LOSS: 0.8774; KL REG: 88.8670; TEST LOSS IS: 0.78436.\n",
            "EPOACH 3001: TRAIN LOSS: 0.8703; KL REG: 89.8638; TEST LOSS IS: 0.78042.\n",
            "EPOACH 3501: TRAIN LOSS: 0.8694; KL REG: 81.1607; TEST LOSS IS: 0.77977.\n",
            "EPOACH 4001: TRAIN LOSS: 0.8671; KL REG: 79.9865; TEST LOSS IS: 0.77829.\n",
            "EPOACH 4501: TRAIN LOSS: 0.8653; KL REG: 78.4004; TEST LOSS IS: 0.77928.\n",
            "training HMF + PVE - simu :  7  /  9\n",
            "EPOACH 1: TRAIN LOSS: 2.1386; KL REG: 18678.3535; TEST LOSS IS: 2.20252.\n",
            "EPOACH 501: TRAIN LOSS: 0.7498; KL REG: 2158.7510; TEST LOSS IS: 0.82159.\n",
            "EPOACH 1001: TRAIN LOSS: 0.8694; KL REG: 168.4513; TEST LOSS IS: 0.79225.\n",
            "EPOACH 1501: TRAIN LOSS: 0.8763; KL REG: 125.0746; TEST LOSS IS: 0.79496.\n",
            "EPOACH 2001: TRAIN LOSS: 0.8517; KL REG: 118.3594; TEST LOSS IS: 0.77945.\n",
            "EPOACH 2501: TRAIN LOSS: 0.8617; KL REG: 114.4226; TEST LOSS IS: 0.79169.\n",
            "EPOACH 3001: TRAIN LOSS: 0.8470; KL REG: 112.8590; TEST LOSS IS: 0.78341.\n",
            "EPOACH 3501: TRAIN LOSS: 0.8383; KL REG: 110.7704; TEST LOSS IS: 0.78037.\n",
            "EPOACH 4001: TRAIN LOSS: 0.8381; KL REG: 111.1578; TEST LOSS IS: 0.78092.\n",
            "EPOACH 4501: TRAIN LOSS: 0.8434; KL REG: 109.5656; TEST LOSS IS: 0.78497.\n",
            "Resultats intermédiaire  : Energy dataset avec bruit- simu :  7  /  9\n",
            "moyenne test error HMF tensor(0.7837)  / temps d'exécution :  310.73094898462296\n",
            "moyenne test error IHMF tensor(0.7791)  / temps d'exécution :  257.64792519807816\n",
            "moyenne test error HMF + PVE tensor(0.7838)  / temps d'exécution :  307.80404955148697\n",
            "moyenne test error IHMF + PVE tensor(0.7792)  / temps d'exécution :  255.07375320792198\n",
            "training IHMF + PVE - simu :  8  /  9\n",
            "EPOACH 1: TRAIN LOSS: 2.2561; KL REG: 19427.9648; TEST LOSS IS: 2.59699.\n",
            "EPOACH 501: TRAIN LOSS: 0.8479; KL REG: 2397.9309; TEST LOSS IS: 0.82190.\n",
            "EPOACH 1001: TRAIN LOSS: 0.9137; KL REG: 324.1913; TEST LOSS IS: 0.81417.\n",
            "EPOACH 1501: TRAIN LOSS: 0.8952; KL REG: 142.6849; TEST LOSS IS: 0.79885.\n",
            "EPOACH 2001: TRAIN LOSS: 0.8751; KL REG: 98.1136; TEST LOSS IS: 0.78760.\n",
            "EPOACH 2501: TRAIN LOSS: 0.8679; KL REG: 81.4395; TEST LOSS IS: 0.78108.\n",
            "EPOACH 3001: TRAIN LOSS: 0.8681; KL REG: 77.1053; TEST LOSS IS: 0.77913.\n",
            "EPOACH 3501: TRAIN LOSS: 0.8669; KL REG: 85.1582; TEST LOSS IS: 0.78133.\n",
            "EPOACH 4001: TRAIN LOSS: 0.8651; KL REG: 82.4041; TEST LOSS IS: 0.78135.\n",
            "EPOACH 4501: TRAIN LOSS: 0.8651; KL REG: 82.5265; TEST LOSS IS: 0.77976.\n",
            "training HMF - simu :  8  /  9\n",
            "EPOACH 1: TRAIN LOSS: 1.3587; KL REG: 18735.4863; TEST LOSS IS: 1.26198.\n",
            "EPOACH 501: TRAIN LOSS: 0.6669; KL REG: 1986.9546; TEST LOSS IS: 0.82676.\n",
            "EPOACH 1001: TRAIN LOSS: 0.8705; KL REG: 170.6479; TEST LOSS IS: 0.79168.\n",
            "EPOACH 1501: TRAIN LOSS: 0.8942; KL REG: 122.4630; TEST LOSS IS: 0.80314.\n",
            "EPOACH 2001: TRAIN LOSS: 0.8824; KL REG: 115.9102; TEST LOSS IS: 0.79443.\n",
            "EPOACH 2501: TRAIN LOSS: 0.8821; KL REG: 113.4519; TEST LOSS IS: 0.79487.\n",
            "EPOACH 3001: TRAIN LOSS: 0.8658; KL REG: 111.9977; TEST LOSS IS: 0.78557.\n",
            "EPOACH 3501: TRAIN LOSS: 0.8642; KL REG: 110.5309; TEST LOSS IS: 0.78601.\n",
            "EPOACH 4001: TRAIN LOSS: 0.8591; KL REG: 111.3256; TEST LOSS IS: 0.78443.\n",
            "EPOACH 4501: TRAIN LOSS: 0.8491; KL REG: 107.5219; TEST LOSS IS: 0.78345.\n",
            "training IHMF - simu :  8  /  9\n",
            "EPOACH 1: TRAIN LOSS: 1.2980; KL REG: 19480.9883; TEST LOSS IS: 1.29654.\n",
            "EPOACH 501: TRAIN LOSS: 0.8220; KL REG: 2207.3557; TEST LOSS IS: 0.80656.\n",
            "EPOACH 1001: TRAIN LOSS: 0.9103; KL REG: 298.6180; TEST LOSS IS: 0.80806.\n",
            "EPOACH 1501: TRAIN LOSS: 0.8951; KL REG: 149.4416; TEST LOSS IS: 0.79659.\n",
            "EPOACH 2001: TRAIN LOSS: 0.8722; KL REG: 117.7678; TEST LOSS IS: 0.78230.\n",
            "EPOACH 2501: TRAIN LOSS: 0.8750; KL REG: 111.4809; TEST LOSS IS: 0.78209.\n",
            "EPOACH 3001: TRAIN LOSS: 0.8663; KL REG: 80.2615; TEST LOSS IS: 0.77874.\n",
            "EPOACH 3501: TRAIN LOSS: 0.8673; KL REG: 87.5897; TEST LOSS IS: 0.77921.\n",
            "EPOACH 4001: TRAIN LOSS: 0.8654; KL REG: 75.8877; TEST LOSS IS: 0.77893.\n",
            "EPOACH 4501: TRAIN LOSS: 0.8673; KL REG: 76.6462; TEST LOSS IS: 0.77851.\n",
            "training HMF + PVE - simu :  8  /  9\n",
            "EPOACH 1: TRAIN LOSS: 1.8032; KL REG: 18627.9160; TEST LOSS IS: 1.89508.\n",
            "EPOACH 501: TRAIN LOSS: 0.6928; KL REG: 2105.4509; TEST LOSS IS: 0.86033.\n",
            "EPOACH 1001: TRAIN LOSS: 0.8845; KL REG: 173.4228; TEST LOSS IS: 0.80495.\n",
            "EPOACH 1501: TRAIN LOSS: 0.8937; KL REG: 126.6300; TEST LOSS IS: 0.80594.\n",
            "EPOACH 2001: TRAIN LOSS: 0.8672; KL REG: 117.8185; TEST LOSS IS: 0.79003.\n",
            "EPOACH 2501: TRAIN LOSS: 0.8498; KL REG: 114.5960; TEST LOSS IS: 0.78242.\n",
            "EPOACH 3001: TRAIN LOSS: 0.8482; KL REG: 112.4372; TEST LOSS IS: 0.78434.\n",
            "EPOACH 3501: TRAIN LOSS: 0.8417; KL REG: 111.7127; TEST LOSS IS: 0.78075.\n",
            "EPOACH 4001: TRAIN LOSS: 0.8446; KL REG: 110.6970; TEST LOSS IS: 0.78253.\n",
            "EPOACH 4501: TRAIN LOSS: 0.8400; KL REG: 110.4017; TEST LOSS IS: 0.78096.\n",
            "Resultats intermédiaire  : Energy dataset avec bruit- simu :  8  /  9\n",
            "moyenne test error HMF tensor(0.7839)  / temps d'exécution :  309.9216491911146\n",
            "moyenne test error IHMF tensor(0.7792)  / temps d'exécution :  256.9935635195838\n",
            "moyenne test error HMF + PVE tensor(0.7836)  / temps d'exécution :  307.3762849436866\n",
            "moyenne test error IHMF + PVE tensor(0.7791)  / temps d'exécution :  254.47528807322183\n",
            "training IHMF + PVE - simu :  9  /  9\n",
            "EPOACH 1: TRAIN LOSS: 1.7418; KL REG: 19396.9434; TEST LOSS IS: 1.84242.\n",
            "EPOACH 501: TRAIN LOSS: 0.8316; KL REG: 2471.6113; TEST LOSS IS: 0.82444.\n",
            "EPOACH 1001: TRAIN LOSS: 0.8860; KL REG: 354.7939; TEST LOSS IS: 0.79542.\n",
            "EPOACH 1501: TRAIN LOSS: 0.8731; KL REG: 142.0762; TEST LOSS IS: 0.78187.\n",
            "EPOACH 2001: TRAIN LOSS: 0.8684; KL REG: 99.9098; TEST LOSS IS: 0.77895.\n",
            "EPOACH 2501: TRAIN LOSS: 0.8663; KL REG: 87.2691; TEST LOSS IS: 0.77828.\n",
            "EPOACH 3001: TRAIN LOSS: 0.8648; KL REG: 97.5048; TEST LOSS IS: 0.77785.\n",
            "EPOACH 3501: TRAIN LOSS: 0.8662; KL REG: 73.5393; TEST LOSS IS: 0.77829.\n",
            "EPOACH 4001: TRAIN LOSS: 0.8675; KL REG: 75.6401; TEST LOSS IS: 0.77874.\n",
            "EPOACH 4501: TRAIN LOSS: 0.8651; KL REG: 88.4884; TEST LOSS IS: 0.77885.\n",
            "training HMF - simu :  9  /  9\n",
            "EPOACH 1: TRAIN LOSS: 7.2100; KL REG: 18707.5977; TEST LOSS IS: 7.76447.\n",
            "EPOACH 501: TRAIN LOSS: 0.8125; KL REG: 2580.9009; TEST LOSS IS: 0.81944.\n",
            "EPOACH 1001: TRAIN LOSS: 0.8829; KL REG: 208.9271; TEST LOSS IS: 0.79759.\n",
            "EPOACH 1501: TRAIN LOSS: 0.8768; KL REG: 132.1075; TEST LOSS IS: 0.79066.\n",
            "EPOACH 2001: TRAIN LOSS: 0.8742; KL REG: 121.0662; TEST LOSS IS: 0.79044.\n",
            "EPOACH 2501: TRAIN LOSS: 0.8675; KL REG: 116.8104; TEST LOSS IS: 0.78761.\n",
            "EPOACH 3001: TRAIN LOSS: 0.8647; KL REG: 112.5761; TEST LOSS IS: 0.78815.\n",
            "EPOACH 3501: TRAIN LOSS: 0.8470; KL REG: 108.9790; TEST LOSS IS: 0.78232.\n",
            "EPOACH 4001: TRAIN LOSS: 0.8425; KL REG: 107.0364; TEST LOSS IS: 0.78202.\n",
            "EPOACH 4501: TRAIN LOSS: 0.8411; KL REG: 106.6422; TEST LOSS IS: 0.78250.\n",
            "training IHMF - simu :  9  /  9\n",
            "EPOACH 1: TRAIN LOSS: 7.5603; KL REG: 19316.8906; TEST LOSS IS: 7.86476.\n",
            "EPOACH 501: TRAIN LOSS: 0.8719; KL REG: 3629.3049; TEST LOSS IS: 0.82087.\n",
            "EPOACH 1001: TRAIN LOSS: 0.8873; KL REG: 451.0917; TEST LOSS IS: 0.79311.\n",
            "EPOACH 1501: TRAIN LOSS: 0.8879; KL REG: 264.5985; TEST LOSS IS: 0.79086.\n",
            "EPOACH 2001: TRAIN LOSS: 0.8745; KL REG: 112.2791; TEST LOSS IS: 0.78200.\n",
            "EPOACH 2501: TRAIN LOSS: 0.8692; KL REG: 97.3352; TEST LOSS IS: 0.77922.\n",
            "EPOACH 3001: TRAIN LOSS: 0.8672; KL REG: 83.8036; TEST LOSS IS: 0.77839.\n",
            "EPOACH 3501: TRAIN LOSS: 0.8656; KL REG: 77.2260; TEST LOSS IS: 0.77796.\n",
            "EPOACH 4001: TRAIN LOSS: 0.8648; KL REG: 77.6913; TEST LOSS IS: 0.77796.\n",
            "EPOACH 4501: TRAIN LOSS: 0.8650; KL REG: 76.0976; TEST LOSS IS: 0.77799.\n",
            "training HMF + PVE - simu :  9  /  9\n",
            "EPOACH 1: TRAIN LOSS: 1.9839; KL REG: 18738.4668; TEST LOSS IS: 1.79077.\n",
            "EPOACH 501: TRAIN LOSS: 0.7140; KL REG: 2121.1360; TEST LOSS IS: 0.81770.\n",
            "EPOACH 1001: TRAIN LOSS: 0.8910; KL REG: 167.1898; TEST LOSS IS: 0.80552.\n",
            "EPOACH 1501: TRAIN LOSS: 0.9010; KL REG: 124.7058; TEST LOSS IS: 0.80933.\n",
            "EPOACH 2001: TRAIN LOSS: 0.8805; KL REG: 116.5729; TEST LOSS IS: 0.79695.\n",
            "EPOACH 2501: TRAIN LOSS: 0.8608; KL REG: 114.5787; TEST LOSS IS: 0.78754.\n",
            "EPOACH 3001: TRAIN LOSS: 0.8452; KL REG: 112.0425; TEST LOSS IS: 0.78232.\n",
            "EPOACH 3501: TRAIN LOSS: 0.8397; KL REG: 110.3181; TEST LOSS IS: 0.78192.\n",
            "EPOACH 4001: TRAIN LOSS: 0.8400; KL REG: 109.4353; TEST LOSS IS: 0.78403.\n",
            "EPOACH 4501: TRAIN LOSS: 0.8404; KL REG: 110.3758; TEST LOSS IS: 0.78161.\n",
            "Resultats intermédiaire  : Energy dataset avec bruit- simu :  9  /  9\n",
            "moyenne test error HMF tensor(0.7837)  / temps d'exécution :  308.825088763237\n",
            "moyenne test error IHMF tensor(0.7791)  / temps d'exécution :  256.8892662525177\n",
            "moyenne test error HMF + PVE tensor(0.7833)  / temps d'exécution :  307.3300495147705\n",
            "moyenne test error IHMF + PVE tensor(0.7792)  / temps d'exécution :  254.52015554904938\n",
            "Resultats finaux : Energy dataset avec bruit\n",
            "moyenne test error HMF tensor(0.7837)  / temps d'exécution :  308.825088763237\n",
            "moyenne test error IHMF tensor(0.7791)  / temps d'exécution :  256.8892662525177\n",
            "moyenne test error HMF + PVE tensor(0.7833)  / temps d'exécution :  307.3300495147705\n",
            "moyenne test error IHMF + PVE tensor(0.7792)  / temps d'exécution :  254.52015554904938\n"
          ]
        }
      ]
    },
    {
      "cell_type": "markdown",
      "source": [
        "energy dataset sans bruit"
      ],
      "metadata": {
        "id": "jgGXw0qgsDR3"
      }
    },
    {
      "cell_type": "code",
      "source": [
        "num_simu = 10\n",
        "\n",
        "list_test_error_hmf = []\n",
        "list_test_error_ihmf = []\n",
        "list_test_error_hmf_pve = []\n",
        "list_test_error_ihmf_pve = []\n",
        "\n",
        "path_data = os.getcwd() + '/informative_prior/data/'\n",
        "########### Training Hyperparameters\n",
        "num_hidden_nodes = [50, 30]; alpha_s = 0.001; beta_s = 0.001\n",
        "learning_rate = 2*1e-3\n",
        "batch_size = 100\n",
        "###########\n",
        "num_random = 0; noise_level = 0.\n",
        "## Load the data\n",
        "x, y, x_test, y_test, num_useful, num_feature = data_generating_energy(path_data, num_random, noise_level)\n",
        "k_min = 0.; k_max = num_useful; tau = np.exp(2);\n",
        "beta_t = 0.202; alpha_t = 2.; num_epoch = 5000\n",
        "\n",
        "for i in range(num_simu):\n",
        "  print(\"training IHMF + PVE - simu : \", i,\" / \", num_simu-1)\n",
        "  start = time.time()\n",
        "  ihmf_pve = Info_Hier_Meanfield_PVE_NN(num_feature, num_hidden_nodes, k_min, k_max, tau, alpha_s, beta_s, alpha_t, beta_t)\n",
        "  training_error_ihmf_pve, test_error_ihmf_pve = training_nn(ihmf_pve, x, y, x_test, y_test,learning_rate, batch_size, num_epoch)\n",
        "  exe_time_ihmf_pve = time.time() - start\n",
        "  list_time_ihmf_pve.append(exe_time_ihmf_pve)\n",
        "\n",
        "  print(\"training HMF - simu : \", i,\" / \", num_simu-1)\n",
        "  start = time.time()\n",
        "  hmf = Hier_Meanfield_NN(num_feature, num_hidden_nodes, alpha_s, beta_s, alpha_t, beta_t)\n",
        "  training_error_hmf, test_error_hmf = training_nn(hmf, x, y, x_test, y_test,learning_rate, batch_size, num_epoch)\n",
        "  exe_time_hmf = time.time() - start\n",
        "  list_time_hmf.append(exe_time_hmf)\n",
        "\n",
        "  print(\"training IHMF - simu : \", i,\" / \", num_simu-1)\n",
        "  start = time.time()\n",
        "  ihmf = Info_Hier_Meanfield_NN(num_feature, num_hidden_nodes, k_min, k_max, tau, alpha_s, beta_s, alpha_t, beta_t)\n",
        "  training_error_ihmf, test_error_ihmf = training_nn(ihmf, x, y, x_test, y_test,learning_rate, batch_size, num_epoch)\n",
        "  exe_time_ihmf = time.time() - start\n",
        "  list_time_ihmf.append(exe_time_ihmf)\n",
        "\n",
        "  print(\"training HMF + PVE - simu : \", i,\" / \", num_simu-1)\n",
        "  start = time.time()\n",
        "  hmf_pve = Hier_Meanfield_PVE_NN(num_feature, num_hidden_nodes, alpha_s, beta_s, alpha_t, beta_t)\n",
        "  training_error_hmf_pve, test_error_hmf_pve = training_nn(hmf_pve, x, y, x_test, y_test,learning_rate, batch_size, num_epoch)\n",
        "  exe_time_hmf_pve = time.time() - start\n",
        "  list_time_hmf_pve.append(exe_time_hmf_pve)\n",
        "\n",
        "  list_test_error_hmf.append(test_error_hmf[-1])\n",
        "  list_test_error_ihmf.append(test_error_ihmf[-1])\n",
        "  list_test_error_hmf_pve.append(test_error_hmf_pve[-1])\n",
        "  list_test_error_ihmf_pve.append(test_error_ihmf_pve[-1])\n",
        "  \n",
        "  print(\"Resultats intermédiaire  : Energy dataset sans bruit- simu : \", i,\" / \", num_simu-1)\n",
        "  print(\"moyenne test error HMF\", mean_list(list_test_error_hmf), \" / temps d'exécution : \", mean_list(list_time_ihmf_pve))\n",
        "  print(\"moyenne test error IHMF\", mean_list(list_test_error_ihmf), \" / temps d'exécution : \", mean_list(list_time_hmf))\n",
        "  print(\"moyenne test error HMF + PVE\", mean_list(list_test_error_hmf_pve), \" / temps d'exécution : \", mean_list(list_time_ihmf))\n",
        "  print(\"moyenne test error IHMF + PVE\", mean_list(list_test_error_ihmf_pve), \" / temps d'exécution : \", mean_list(list_time_hmf_pve))\n",
        "\n",
        "print(\"Energy dataset sans bruit\")\n",
        "print(\"moyenne test error HMF\", mean_list(list_test_error_hmf), \" / temps d'exécution : \", mean_list(list_time_ihmf_pve))\n",
        "print(\"moyenne test error IHMF\", mean_list(list_test_error_ihmf), \" / temps d'exécution : \", mean_list(list_time_hmf))\n",
        "print(\"moyenne test error HMF + PVE\", mean_list(list_test_error_hmf_pve), \" / temps d'exécution : \", mean_list(list_time_ihmf))\n",
        "print(\"moyenne test error IHMF + PVE\", mean_list(list_test_error_ihmf_pve), \" / temps d'exécution : \", mean_list(list_time_hmf_pve))"
      ],
      "metadata": {
        "id": "PcCQaw4vsDcT",
        "colab": {
          "base_uri": "https://localhost:8080/"
        },
        "outputId": "c5617950-2828-4c4f-9756-7c6b2cffd02b"
      },
      "execution_count": null,
      "outputs": [
        {
          "output_type": "stream",
          "name": "stdout",
          "text": [
            "training IHMF + PVE - simu :  0  /  9\n",
            "EPOACH 1: TRAIN LOSS: 0.7226; KL REG: 5531.6938; TEST LOSS IS: 0.68006.\n",
            "EPOACH 501: TRAIN LOSS: 0.0612; KL REG: 1141.3097; TEST LOSS IS: 0.06362.\n",
            "EPOACH 1001: TRAIN LOSS: 0.0643; KL REG: 506.3558; TEST LOSS IS: 0.06378.\n",
            "EPOACH 1501: TRAIN LOSS: 0.0613; KL REG: 362.4240; TEST LOSS IS: 0.06009.\n",
            "EPOACH 2001: TRAIN LOSS: 0.0605; KL REG: 312.4711; TEST LOSS IS: 0.06220.\n",
            "EPOACH 2501: TRAIN LOSS: 0.0577; KL REG: 289.1080; TEST LOSS IS: 0.05690.\n",
            "EPOACH 3001: TRAIN LOSS: 0.0557; KL REG: 277.5084; TEST LOSS IS: 0.05403.\n",
            "EPOACH 3501: TRAIN LOSS: 0.0499; KL REG: 276.1546; TEST LOSS IS: 0.05165.\n",
            "EPOACH 4001: TRAIN LOSS: 0.0465; KL REG: 283.7626; TEST LOSS IS: 0.04979.\n",
            "EPOACH 4501: TRAIN LOSS: 0.0426; KL REG: 286.9579; TEST LOSS IS: 0.04583.\n",
            "training HMF - simu :  0  /  9\n",
            "EPOACH 1: TRAIN LOSS: 0.8743; KL REG: 5569.8501; TEST LOSS IS: 0.92568.\n",
            "EPOACH 501: TRAIN LOSS: 0.0702; KL REG: 899.8853; TEST LOSS IS: 0.08020.\n",
            "EPOACH 1001: TRAIN LOSS: 0.0577; KL REG: 410.4199; TEST LOSS IS: 0.05698.\n",
            "EPOACH 1501: TRAIN LOSS: 0.0488; KL REG: 326.4050; TEST LOSS IS: 0.05388.\n",
            "EPOACH 2001: TRAIN LOSS: 0.0424; KL REG: 296.6342; TEST LOSS IS: 0.05139.\n",
            "EPOACH 2501: TRAIN LOSS: 0.0386; KL REG: 277.9215; TEST LOSS IS: 0.04949.\n",
            "EPOACH 3001: TRAIN LOSS: 0.0369; KL REG: 264.7046; TEST LOSS IS: 0.04702.\n",
            "EPOACH 3501: TRAIN LOSS: 0.0356; KL REG: 262.1933; TEST LOSS IS: 0.04459.\n",
            "EPOACH 4001: TRAIN LOSS: 0.0340; KL REG: 263.5374; TEST LOSS IS: 0.04216.\n",
            "EPOACH 4501: TRAIN LOSS: 0.0333; KL REG: 263.8112; TEST LOSS IS: 0.04026.\n",
            "training IHMF - simu :  0  /  9\n",
            "EPOACH 1: TRAIN LOSS: 1.6007; KL REG: 5564.6592; TEST LOSS IS: 1.81320.\n",
            "EPOACH 501: TRAIN LOSS: 0.1037; KL REG: 845.2412; TEST LOSS IS: 0.10029.\n",
            "EPOACH 1001: TRAIN LOSS: 0.0822; KL REG: 304.6249; TEST LOSS IS: 0.09320.\n",
            "EPOACH 1501: TRAIN LOSS: 0.0703; KL REG: 251.8151; TEST LOSS IS: 0.07433.\n",
            "EPOACH 2001: TRAIN LOSS: 0.0585; KL REG: 245.8749; TEST LOSS IS: 0.06314.\n",
            "EPOACH 2501: TRAIN LOSS: 0.0498; KL REG: 251.3503; TEST LOSS IS: 0.05425.\n",
            "EPOACH 3001: TRAIN LOSS: 0.0484; KL REG: 258.9581; TEST LOSS IS: 0.05029.\n",
            "EPOACH 3501: TRAIN LOSS: 0.0436; KL REG: 251.9664; TEST LOSS IS: 0.04846.\n",
            "EPOACH 4001: TRAIN LOSS: 0.0432; KL REG: 249.8632; TEST LOSS IS: 0.04694.\n",
            "EPOACH 4501: TRAIN LOSS: 0.0441; KL REG: 246.6743; TEST LOSS IS: 0.04680.\n",
            "training HMF + PVE - simu :  0  /  9\n",
            "EPOACH 1: TRAIN LOSS: 0.9877; KL REG: 5552.8530; TEST LOSS IS: 1.07831.\n",
            "EPOACH 501: TRAIN LOSS: 0.0645; KL REG: 1224.2665; TEST LOSS IS: 0.07100.\n",
            "EPOACH 1001: TRAIN LOSS: 0.0590; KL REG: 528.5599; TEST LOSS IS: 0.06292.\n",
            "EPOACH 1501: TRAIN LOSS: 0.0572; KL REG: 376.1570; TEST LOSS IS: 0.06203.\n",
            "EPOACH 2001: TRAIN LOSS: 0.0516; KL REG: 321.1921; TEST LOSS IS: 0.05985.\n",
            "EPOACH 2501: TRAIN LOSS: 0.0471; KL REG: 304.9817; TEST LOSS IS: 0.05564.\n",
            "EPOACH 3001: TRAIN LOSS: 0.0449; KL REG: 305.4624; TEST LOSS IS: 0.05183.\n",
            "EPOACH 3501: TRAIN LOSS: 0.0356; KL REG: 316.2882; TEST LOSS IS: 0.03979.\n",
            "EPOACH 4001: TRAIN LOSS: 0.0330; KL REG: 330.9503; TEST LOSS IS: 0.03664.\n",
            "EPOACH 4501: TRAIN LOSS: 0.0328; KL REG: 336.7775; TEST LOSS IS: 0.03889.\n",
            "Resultats intermédiaire  : Energy dataset sans bruit- simu :  0  /  9\n",
            "moyenne test error HMF tensor(0.0390)  / temps d'exécution :  306.61209084770894\n",
            "moyenne test error IHMF tensor(0.0479)  / temps d'exécution :  255.01598115400836\n",
            "moyenne test error HMF + PVE tensor(0.0362)  / temps d'exécution :  304.7537201534618\n",
            "moyenne test error IHMF + PVE tensor(0.0441)  / temps d'exécution :  253.1050572828813\n",
            "training IHMF + PVE - simu :  1  /  9\n",
            "EPOACH 1: TRAIN LOSS: 0.6932; KL REG: 5549.0117; TEST LOSS IS: 0.72112.\n",
            "EPOACH 501: TRAIN LOSS: 0.0633; KL REG: 1156.1539; TEST LOSS IS: 0.06395.\n",
            "EPOACH 1001: TRAIN LOSS: 0.0634; KL REG: 501.0911; TEST LOSS IS: 0.06414.\n",
            "EPOACH 1501: TRAIN LOSS: 0.0645; KL REG: 361.2753; TEST LOSS IS: 0.06429.\n",
            "EPOACH 2001: TRAIN LOSS: 0.0592; KL REG: 308.2736; TEST LOSS IS: 0.06080.\n",
            "EPOACH 2501: TRAIN LOSS: 0.0609; KL REG: 285.4560; TEST LOSS IS: 0.06523.\n",
            "EPOACH 3001: TRAIN LOSS: 0.0560; KL REG: 273.9868; TEST LOSS IS: 0.05723.\n",
            "EPOACH 3501: TRAIN LOSS: 0.0440; KL REG: 284.2563; TEST LOSS IS: 0.04905.\n",
            "EPOACH 4001: TRAIN LOSS: 0.0414; KL REG: 291.1785; TEST LOSS IS: 0.04744.\n"
          ]
        }
      ]
    },
    {
      "cell_type": "markdown",
      "source": [
        "concrete dataset avec bruit"
      ],
      "metadata": {
        "id": "3WhHV2PasT8v"
      }
    },
    {
      "cell_type": "code",
      "source": [
        "num_simu = 10\n",
        "\n",
        "list_test_error_hmf = []\n",
        "list_test_error_ihmf = []\n",
        "list_test_error_hmf_pve = []\n",
        "list_test_error_ihmf_pve = []\n",
        "\n",
        "path_data = os.getcwd() + '/informative_prior/data/'\n",
        "########### Training Hyperparameters\n",
        "num_hidden_nodes = [50, 30]; alpha_s = 0.001; beta_s = 0.001\n",
        "learning_rate = 2*1e-3\n",
        "batch_size = 100\n",
        "###########\n",
        "num_random = 100; noise_level = 0.8\n",
        "## Load the data\n",
        "x, y, x_test, y_test, num_useful, num_feature = data_generating_concrete(path_data, num_random, noise_level)\n",
        "k_min = 0.; k_max = num_useful; tau = np.exp(2);\n",
        "beta_t = 0.202; alpha_t = 2.; num_epoch = 5000\n",
        "\n",
        "for i in range(num_simu):\n",
        "  print(\"training IHMF + PVE - simu : \", i,\" / \", num_simu-1)\n",
        "  start = time.time()\n",
        "  ihmf_pve = Info_Hier_Meanfield_PVE_NN(num_feature, num_hidden_nodes, k_min, k_max, tau, alpha_s, beta_s, alpha_t, beta_t)\n",
        "  training_error_ihmf_pve, test_error_ihmf_pve = training_nn(ihmf_pve, x, y, x_test, y_test,learning_rate, batch_size, num_epoch)\n",
        "  exe_time_ihmf_pve = time.time() - start\n",
        "  list_time_ihmf_pve.append(exe_time_ihmf_pve)\n",
        "\n",
        "  print(\"training HMF - simu : \", i,\" / \", num_simu-1)\n",
        "  start = time.time()\n",
        "  hmf = Hier_Meanfield_NN(num_feature, num_hidden_nodes, alpha_s, beta_s, alpha_t, beta_t)\n",
        "  training_error_hmf, test_error_hmf = training_nn(hmf, x, y, x_test, y_test,learning_rate, batch_size, num_epoch)\n",
        "  exe_time_hmf = time.time() - start\n",
        "  list_time_hmf.append(exe_time_hmf)\n",
        "\n",
        "  print(\"training IHMF - simu : \", i,\" / \", num_simu-1)\n",
        "  start = time.time()\n",
        "  ihmf = Info_Hier_Meanfield_NN(num_feature, num_hidden_nodes, k_min, k_max, tau, alpha_s, beta_s, alpha_t, beta_t)\n",
        "  training_error_ihmf, test_error_ihmf = training_nn(ihmf, x, y, x_test, y_test,learning_rate, batch_size, num_epoch)\n",
        "  exe_time_ihmf = time.time() - start\n",
        "  list_time_ihmf.append(exe_time_ihmf)\n",
        "\n",
        "  print(\"training HMF + PVE - simu : \", i,\" / \", num_simu-1)\n",
        "  start = time.time()\n",
        "  hmf_pve = Hier_Meanfield_PVE_NN(num_feature, num_hidden_nodes, alpha_s, beta_s, alpha_t, beta_t)\n",
        "  training_error_hmf_pve, test_error_hmf_pve = training_nn(hmf_pve, x, y, x_test, y_test,learning_rate, batch_size, num_epoch)\n",
        "  exe_time_hmf_pve = time.time() - start\n",
        "  list_time_hmf_pve.append(exe_time_hmf_pve)\n",
        "\n",
        "  list_test_error_hmf.append(test_error_hmf[-1])\n",
        "  list_test_error_ihmf.append(test_error_ihmf[-1])\n",
        "  list_test_error_hmf_pve.append(test_error_hmf_pve[-1])\n",
        "  list_test_error_ihmf_pve.append(test_error_ihmf_pve[-1])\n",
        "\n",
        "  print(\"Resultats intermédiaire  : Concrete dataset avec bruit- simu : \", i,\" / \", num_simu-1)\n",
        "  print(\"moyenne test error HMF\", mean_list(list_test_error_hmf), \" / temps d'exécution : \", mean_list(list_time_ihmf_pve))\n",
        "  print(\"moyenne test error IHMF\", mean_list(list_test_error_ihmf), \" / temps d'exécution : \", mean_list(list_time_hmf))\n",
        "  print(\"moyenne test error HMF + PVE\", mean_list(list_test_error_hmf_pve), \" / temps d'exécution : \", mean_list(list_time_ihmf))\n",
        "  print(\"moyenne test error IHMF + PVE\", mean_list(list_test_error_ihmf_pve), \" / temps d'exécution : \", mean_list(list_time_hmf_pve))\n",
        "\n",
        "print(\"Concrete dataset avec bruit\")\n",
        "print(\"moyenne test error HMF\", mean_list(list_test_error_hmf), \" / temps d'exécution : \", mean_list(list_time_ihmf_pve))\n",
        "print(\"moyenne test error IHMF\", mean_list(list_test_error_ihmf), \" / temps d'exécution : \", mean_list(list_time_hmf))\n",
        "print(\"moyenne test error HMF + PVE\", mean_list(list_test_error_hmf_pve), \" / temps d'exécution : \", mean_list(list_time_ihmf))\n",
        "print(\"moyenne test error IHMF + PVE\", mean_list(list_test_error_ihmf_pve), \" / temps d'exécution : \", mean_list(list_time_hmf_pve))"
      ],
      "metadata": {
        "id": "WxFW4TnJsjny"
      },
      "execution_count": null,
      "outputs": []
    },
    {
      "cell_type": "markdown",
      "source": [
        "concrete dataset sans bruit"
      ],
      "metadata": {
        "id": "ERuR8PUasUEx"
      }
    },
    {
      "cell_type": "code",
      "source": [
        "num_simu = 10\n",
        "\n",
        "list_test_error_hmf = []\n",
        "list_test_error_ihmf = []\n",
        "list_test_error_hmf_pve = []\n",
        "list_test_error_ihmf_pve = []\n",
        "\n",
        "path_data = os.getcwd() + '/informative_prior/data/'\n",
        "########### Training Hyperparameters\n",
        "num_hidden_nodes = [50, 30]; alpha_s = 0.001; beta_s = 0.001\n",
        "learning_rate = 2*1e-3\n",
        "batch_size = 100\n",
        "###########\n",
        "num_random = 0; noise_level = 0\n",
        "## Load the data\n",
        "x, y, x_test, y_test, num_useful, num_feature = data_generating_concrete(path_data, num_random, noise_level)\n",
        "k_min = 0.; k_max = num_useful; tau = np.exp(2);\n",
        "beta_t = 0.202; alpha_t = 2.; num_epoch = 5000\n",
        "\n",
        "for i in range(num_simu):\n",
        "  print(\"training IHMF + PVE - simu : \", i,\" / \", num_simu-1)\n",
        "  start = time.time()\n",
        "  ihmf_pve = Info_Hier_Meanfield_PVE_NN(num_feature, num_hidden_nodes, k_min, k_max, tau, alpha_s, beta_s, alpha_t, beta_t)\n",
        "  training_error_ihmf_pve, test_error_ihmf_pve = training_nn(ihmf_pve, x, y, x_test, y_test,learning_rate, batch_size, num_epoch)\n",
        "  exe_time_ihmf_pve = time.time() - start\n",
        "  list_time_ihmf_pve.append(exe_time_ihmf_pve)\n",
        "\n",
        "  print(\"training HMF - simu : \", i,\" / \", num_simu-1)\n",
        "  start = time.time()\n",
        "  hmf = Hier_Meanfield_NN(num_feature, num_hidden_nodes, alpha_s, beta_s, alpha_t, beta_t)\n",
        "  training_error_hmf, test_error_hmf = training_nn(hmf, x, y, x_test, y_test,learning_rate, batch_size, num_epoch)\n",
        "  exe_time_hmf = time.time() - start\n",
        "  list_time_hmf.append(exe_time_hmf)\n",
        "\n",
        "  print(\"training IHMF - simu : \", i,\" / \", num_simu-1)\n",
        "  start = time.time()\n",
        "  ihmf = Info_Hier_Meanfield_NN(num_feature, num_hidden_nodes, k_min, k_max, tau, alpha_s, beta_s, alpha_t, beta_t)\n",
        "  training_error_ihmf, test_error_ihmf = training_nn(ihmf, x, y, x_test, y_test,learning_rate, batch_size, num_epoch)\n",
        "  exe_time_ihmf = time.time() - start\n",
        "  list_time_ihmf.append(exe_time_ihmf)\n",
        "\n",
        "  print(\"training HMF + PVE - simu : \", i,\" / \", num_simu-1)\n",
        "  start = time.time()\n",
        "  hmf_pve = Hier_Meanfield_PVE_NN(num_feature, num_hidden_nodes, alpha_s, beta_s, alpha_t, beta_t)\n",
        "  training_error_hmf_pve, test_error_hmf_pve = training_nn(hmf_pve, x, y, x_test, y_test,learning_rate, batch_size, num_epoch)\n",
        "  exe_time_hmf_pve = time.time() - start\n",
        "  list_time_hmf_pve.append(exe_time_hmf_pve)\n",
        "\n",
        "  list_test_error_hmf.append(test_error_hmf[-1])\n",
        "  list_test_error_ihmf.append(test_error_ihmf[-1])\n",
        "  list_test_error_hmf_pve.append(test_error_hmf_pve[-1])\n",
        "  list_test_error_ihmf_pve.append(test_error_ihmf_pve[-1])\n",
        "\n",
        "  print(\"Resultats intermédiaire  : Concrete dataset sans bruit- simu : \", i,\" / \", num_simu-1)\n",
        "  print(\"moyenne test error HMF\", mean_list(list_test_error_hmf), \" / temps d'exécution : \", mean_list(list_time_ihmf_pve))\n",
        "  print(\"moyenne test error IHMF\", mean_list(list_test_error_ihmf), \" / temps d'exécution : \", mean_list(list_time_hmf))\n",
        "  print(\"moyenne test error HMF + PVE\", mean_list(list_test_error_hmf_pve), \" / temps d'exécution : \", mean_list(list_time_ihmf))\n",
        "  print(\"moyenne test error IHMF + PVE\", mean_list(list_test_error_ihmf_pve), \" / temps d'exécution : \", mean_list(list_time_hmf_pve))\n",
        "\n",
        "print(\"Concrete dataset sans bruit\")\n",
        "print(\"moyenne test error HMF\", mean_list(list_test_error_hmf), \" / temps d'exécution : \", mean_list(list_time_ihmf_pve))\n",
        "print(\"moyenne test error IHMF\", mean_list(list_test_error_ihmf), \" / temps d'exécution : \", mean_list(list_time_hmf))\n",
        "print(\"moyenne test error HMF + PVE\", mean_list(list_test_error_hmf_pve), \" / temps d'exécution : \", mean_list(list_time_ihmf))\n",
        "print(\"moyenne test error IHMF + PVE\", mean_list(list_test_error_ihmf_pve), \" / temps d'exécution : \", mean_list(list_time_hmf_pve))"
      ],
      "metadata": {
        "id": "pLxlwu23skNw"
      },
      "execution_count": null,
      "outputs": []
    },
    {
      "cell_type": "markdown",
      "source": [
        "yacht dataset avec bruit"
      ],
      "metadata": {
        "id": "EUhwQP8HsUOn"
      }
    },
    {
      "cell_type": "code",
      "source": [
        "num_simu = 10\n",
        "\n",
        "list_test_error_hmf = []\n",
        "list_test_error_ihmf = []\n",
        "list_test_error_hmf_pve = []\n",
        "list_test_error_ihmf_pve = []\n",
        "\n",
        "path_data = os.getcwd() + '/informative_prior/data/'\n",
        "########### Training Hyperparameters\n",
        "num_hidden_nodes = [20, 20]; alpha_s = 0.001; beta_s = 0.001\n",
        "learning_rate = 1e-3\n",
        "batch_size = 98\n",
        "###########\n",
        "num_random = 100; noise_level = 0.8\n",
        "## Load the data\n",
        "x, y, x_test, y_test, num_useful, num_feature = data_generating_yacht(path_data, num_random, noise_level)\n",
        "k_min = 0.; k_max = num_useful; tau = np.exp(2);\n",
        "beta_t = 0.202; alpha_t = 2.; num_epoch = 5000\n",
        "\n",
        "for i in range(num_simu):\n",
        "  print(\"training IHMF + PVE - simu : \", i,\" / \", num_simu-1)\n",
        "  start = time.time()\n",
        "  ihmf_pve = Info_Hier_Meanfield_PVE_NN(num_feature, num_hidden_nodes, k_min, k_max, tau, alpha_s, beta_s, alpha_t, beta_t)\n",
        "  training_error_ihmf_pve, test_error_ihmf_pve = training_nn(ihmf_pve, x, y, x_test, y_test,learning_rate, batch_size, num_epoch)\n",
        "  exe_time_ihmf_pve = time.time() - start\n",
        "  list_time_ihmf_pve.append(exe_time_ihmf_pve)\n",
        "\n",
        "  print(\"training HMF - simu : \", i,\" / \", num_simu-1)\n",
        "  start = time.time()\n",
        "  hmf = Hier_Meanfield_NN(num_feature, num_hidden_nodes, alpha_s, beta_s, alpha_t, beta_t)\n",
        "  training_error_hmf, test_error_hmf = training_nn(hmf, x, y, x_test, y_test,learning_rate, batch_size, num_epoch)\n",
        "  exe_time_hmf = time.time() - start\n",
        "  list_time_hmf.append(exe_time_hmf)\n",
        "\n",
        "  print(\"training IHMF - simu : \", i,\" / \", num_simu-1)\n",
        "  start = time.time()\n",
        "  ihmf = Info_Hier_Meanfield_NN(num_feature, num_hidden_nodes, k_min, k_max, tau, alpha_s, beta_s, alpha_t, beta_t)\n",
        "  training_error_ihmf, test_error_ihmf = training_nn(ihmf, x, y, x_test, y_test,learning_rate, batch_size, num_epoch)\n",
        "  exe_time_ihmf = time.time() - start\n",
        "  list_time_ihmf.append(exe_time_ihmf)\n",
        "\n",
        "  print(\"training HMF + PVE - simu : \", i,\" / \", num_simu-1)\n",
        "  start = time.time()\n",
        "  hmf_pve = Hier_Meanfield_PVE_NN(num_feature, num_hidden_nodes, alpha_s, beta_s, alpha_t, beta_t)\n",
        "  training_error_hmf_pve, test_error_hmf_pve = training_nn(hmf_pve, x, y, x_test, y_test,learning_rate, batch_size, num_epoch)\n",
        "  exe_time_hmf_pve = time.time() - start\n",
        "  list_time_hmf_pve.append(exe_time_hmf_pve)\n",
        "\n",
        "  list_test_error_hmf.append(test_error_hmf[-1])\n",
        "  list_test_error_ihmf.append(test_error_ihmf[-1])\n",
        "  list_test_error_hmf_pve.append(test_error_hmf_pve[-1])\n",
        "  list_test_error_ihmf_pve.append(test_error_ihmf_pve[-1])\n",
        "\n",
        "  print(\"Resultats intermédiaire  : Yacht dataset avec bruit- simu : \", i,\" / \", num_simu-1)\n",
        "  print(\"moyenne test error HMF\", mean_list(list_test_error_hmf), \" / temps d'exécution : \", mean_list(list_time_ihmf_pve))\n",
        "  print(\"moyenne test error IHMF\", mean_list(list_test_error_ihmf), \" / temps d'exécution : \", mean_list(list_time_hmf))\n",
        "  print(\"moyenne test error HMF + PVE\", mean_list(list_test_error_hmf_pve), \" / temps d'exécution : \", mean_list(list_time_ihmf))\n",
        "  print(\"moyenne test error IHMF + PVE\", mean_list(list_test_error_ihmf_pve), \" / temps d'exécution : \", mean_list(list_time_hmf_pve))\n",
        "\n",
        "print(\"Yacht dataset avec bruit\")\n",
        "print(\"moyenne test error HMF\", mean_list(list_test_error_hmf), \" / temps d'exécution : \", mean_list(list_time_ihmf_pve))\n",
        "print(\"moyenne test error IHMF\", mean_list(list_test_error_ihmf), \" / temps d'exécution : \", mean_list(list_time_hmf))\n",
        "print(\"moyenne test error HMF + PVE\", mean_list(list_test_error_hmf_pve), \" / temps d'exécution : \", mean_list(list_time_ihmf))\n",
        "print(\"moyenne test error IHMF + PVE\", mean_list(list_test_error_ihmf_pve), \" / temps d'exécution : \", mean_list(list_time_hmf_pve))"
      ],
      "metadata": {
        "id": "djjDE_qOskzW"
      },
      "execution_count": null,
      "outputs": []
    },
    {
      "cell_type": "markdown",
      "source": [
        "yacht dataset sans bruit"
      ],
      "metadata": {
        "id": "ZlPdSL3PsUX-"
      }
    },
    {
      "cell_type": "code",
      "source": [
        "num_simu = 10\n",
        "\n",
        "list_test_error_hmf = []\n",
        "list_test_error_ihmf = []\n",
        "list_test_error_hmf_pve = []\n",
        "list_test_error_ihmf_pve = []\n",
        "\n",
        "path_data = os.getcwd() + '/informative_prior/data/'\n",
        "########### Training Hyperparameters\n",
        "num_hidden_nodes = [20, 20]; alpha_s = 0.001; beta_s = 0.001\n",
        "learning_rate = 1e-3\n",
        "batch_size = 98\n",
        "###########\n",
        "num_random = 0; noise_level = 0\n",
        "## Load the data\n",
        "x, y, x_test, y_test, num_useful, num_feature = data_generating_yacht(path_data, num_random, noise_level)\n",
        "k_min = 0.; k_max = num_useful; tau = np.exp(2);\n",
        "beta_t = 0.202; alpha_t = 2.; num_epoch = 5000\n",
        "\n",
        "for i in range(num_simu):\n",
        "  print(\"training IHMF + PVE - simu : \", i,\" / \", num_simu-1)\n",
        "  start = time.time()\n",
        "  ihmf_pve = Info_Hier_Meanfield_PVE_NN(num_feature, num_hidden_nodes, k_min, k_max, tau, alpha_s, beta_s, alpha_t, beta_t)\n",
        "  training_error_ihmf_pve, test_error_ihmf_pve = training_nn(ihmf_pve, x, y, x_test, y_test,learning_rate, batch_size, num_epoch)\n",
        "  exe_time_ihmf_pve = time.time() - start\n",
        "  list_time_ihmf_pve.append(exe_time_ihmf_pve)\n",
        "\n",
        "  print(\"training HMF - simu : \", i,\" / \", num_simu-1)\n",
        "  start = time.time()\n",
        "  hmf = Hier_Meanfield_NN(num_feature, num_hidden_nodes, alpha_s, beta_s, alpha_t, beta_t)\n",
        "  training_error_hmf, test_error_hmf = training_nn(hmf, x, y, x_test, y_test,learning_rate, batch_size, num_epoch)\n",
        "  exe_time_hmf = time.time() - start\n",
        "  list_time_hmf.append(exe_time_hmf)\n",
        "\n",
        "  print(\"training IHMF - simu : \", i,\" / \", num_simu-1)\n",
        "  start = time.time()\n",
        "  ihmf = Info_Hier_Meanfield_NN(num_feature, num_hidden_nodes, k_min, k_max, tau, alpha_s, beta_s, alpha_t, beta_t)\n",
        "  training_error_ihmf, test_error_ihmf = training_nn(ihmf, x, y, x_test, y_test,learning_rate, batch_size, num_epoch)\n",
        "  exe_time_ihmf = time.time() - start\n",
        "  list_time_ihmf.append(exe_time_ihmf)\n",
        "\n",
        "  print(\"training HMF + PVE - simu : \", i,\" / \", num_simu-1)\n",
        "  start = time.time()\n",
        "  hmf_pve = Hier_Meanfield_PVE_NN(num_feature, num_hidden_nodes, alpha_s, beta_s, alpha_t, beta_t)\n",
        "  training_error_hmf_pve, test_error_hmf_pve = training_nn(hmf_pve, x, y, x_test, y_test,learning_rate, batch_size, num_epoch)\n",
        "  exe_time_hmf_pve = time.time() - start\n",
        "  list_time_hmf_pve.append(exe_time_hmf_pve)\n",
        "\n",
        "  list_test_error_hmf.append(test_error_hmf[-1])\n",
        "  list_test_error_ihmf.append(test_error_ihmf[-1])\n",
        "  list_test_error_hmf_pve.append(test_error_hmf_pve[-1])\n",
        "  list_test_error_ihmf_pve.append(test_error_ihmf_pve[-1])\n",
        "\n",
        "  print(\"Resultats intermédiaire  : Yacht dataset sans bruit- simu : \", i,\" / \", num_simu-1)\n",
        "  print(\"moyenne test error HMF\", mean_list(list_test_error_hmf), \" / temps d'exécution : \", mean_list(list_time_ihmf_pve))\n",
        "  print(\"moyenne test error IHMF\", mean_list(list_test_error_ihmf), \" / temps d'exécution : \", mean_list(list_time_hmf))\n",
        "  print(\"moyenne test error HMF + PVE\", mean_list(list_test_error_hmf_pve), \" / temps d'exécution : \", mean_list(list_time_ihmf))\n",
        "  print(\"moyenne test error IHMF + PVE\", mean_list(list_test_error_ihmf_pve), \" / temps d'exécution : \", mean_list(list_time_hmf_pve))\n",
        "\n",
        "print(\"Yacht dataset sans bruit\")\n",
        "print(\"moyenne test error HMF\", mean_list(list_test_error_hmf), \" / temps d'exécution : \", mean_list(list_time_ihmf_pve))\n",
        "print(\"moyenne test error IHMF\", mean_list(list_test_error_ihmf), \" / temps d'exécution : \", mean_list(list_time_hmf))\n",
        "print(\"moyenne test error HMF + PVE\", mean_list(list_test_error_hmf_pve), \" / temps d'exécution : \", mean_list(list_time_ihmf))\n",
        "print(\"moyenne test error IHMF + PVE\", mean_list(list_test_error_ihmf_pve), \" / temps d'exécution : \", mean_list(list_time_hmf_pve))"
      ],
      "metadata": {
        "id": "82_7K5ncslWq"
      },
      "execution_count": null,
      "outputs": []
    }
  ]
}